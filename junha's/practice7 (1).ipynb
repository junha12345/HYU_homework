{
 "cells": [
  {
   "cell_type": "markdown",
   "metadata": {
    "id": "34054153",
    "tags": []
   },
   "source": [
    "## Practice 7. Object Oriented Programming in Python\n",
    "\n"
   ]
  },
  {
   "cell_type": "code",
   "execution_count": 45,
   "metadata": {},
   "outputs": [],
   "source": [
    "import time # For time delay\n",
    "import random # For random number generation"
   ]
  },
  {
   "cell_type": "markdown",
   "metadata": {
    "id": "795f09fb",
    "tags": []
   },
   "source": [
    "## Defining the Pokemon class\n",
    "\n",
    "Define a Pokemon class which has following attributes: \n",
    "\n",
    "1. HP \n",
    "2. maxHP \n",
    "3. attribute \n",
    "4. species  \n",
    "5. name  ## initiallized by using \"species\" value\n",
    "6. EA   ## Elemental Attack\n",
    "7. PA  ## Physical Attack\n",
    "\n",
    "\n",
    "Define the set_name method in pokemon class that uses the input() function for setting the name of a Pokemon.\n"
   ]
  },
  {
   "cell_type": "code",
   "execution_count": 46,
   "metadata": {
    "id": "39faa64a"
   },
   "outputs": [],
   "source": [
    "class Pokemon:\n",
    "    \n",
    "    def __init__(self, HP=0, EA=\"\", attribute=\"\", species=\"\", PA=\"\", maxHP=\"\"):\n",
    "        ## TODO. Initialize the Pokemon class \n",
    "        self.HP = HP\n",
    "        self.EA = EA\n",
    "        self.attribute = attribute\n",
    "        self.species = species\n",
    "        self.PA = PA\n",
    "        self.maxHP = maxHP\n",
    "\n",
    "    \n",
    "    def set_name(self):\n",
    "        ## TODO. Set the name of pokemon using input() function, \n",
    "        self.name = input()\n",
    "        "
   ]
  },
  {
   "cell_type": "markdown",
   "metadata": {
    "id": "06049258"
   },
   "source": [
    "## Trainer class, poke_add, choose method\n",
    "\n",
    "Define a Trainer class, which has attributes \"name\" and \"poke_list\". In a constructor, these attributes are initialized as follows:\n",
    "\n",
    "a. name = \" \"  \n",
    "b. poke_list = []\n",
    "\n",
    "\n",
    "1. Define a method under Trainer class that adds a Pokemon instance to attribute 'poke_list'\n",
    "  \n",
    "2. Define a method under Trainer class that shows ID (starting from 1), name, HP, maxHP of every Pokemon in poke_list   \n",
    "    2.1 Result should be like **1.Charmander(30/50) 2.Squirtle (50/50)**  \n",
    "    2.2 By using the function \"input()\", let a player type the pokemon's ID, e.g., 1.    \n",
    "    2.3 The method returns the index (e.g., 0) of the chosen pokemon in poke_list. Note that index starts from 0.  \n",
    "    2.4 If a player typed a wrong value, then let the player retype an index until we get a valid value .  \n",
    "    "
   ]
  },
  {
   "cell_type": "code",
   "execution_count": 56,
   "metadata": {
    "id": "7167945b"
   },
   "outputs": [],
   "source": [
    "class Trainer: \n",
    "    def __init__(self, name=\"\", poke_list=[]):\n",
    "        self.name = name  \n",
    "        self.poke_list = poke_list\n",
    "\n",
    "    #        Add the pokemon to poke_list\n",
    "    def poke_add(self, poke):\n",
    "        ## TODO. Append the pokemon in poke_list\n",
    "        self.poke_list.append(poke)\n",
    "        \n",
    "    #        Pokemon chossing Method\n",
    "    def choose_poke(self):\n",
    "        ## TODO. Define the method described above in #2\n",
    "        for i,x in enumerate(self.poke_list) :\n",
    "            print(\"{}.{}({}/{})\".format(i,x,x.HP,x.maxHP))\n",
    "        ID=-1\n",
    "        while 0<=ID<len(self.poke_list) :\n",
    "            ID = int(input())\n",
    "        return self.poke_list[ID]\n"
   ]
  },
  {
   "cell_type": "markdown",
   "metadata": {},
   "source": [
    "## Set the Trainer's name\n",
    "Set a trainer's name \"trn_name\" to new_name by using the input() function. Then, print trn_name."
   ]
  },
  {
   "cell_type": "code",
   "execution_count": 57,
   "metadata": {
    "id": "41497714",
    "outputId": "67736c2d-3439-47a8-d84b-a06c3e1abc83",
    "scrolled": true
   },
   "outputs": [
    {
     "name": "stdout",
     "output_type": "stream",
     "text": [
      "set the name of your trainer: as\n",
      "Your name is : as\n"
     ]
    }
   ],
   "source": [
    "# TODO. Use input() function and use input value to to set the name of trn \n",
    "# for player's convenience, player should be instructed to type the name.\n",
    "trn_name = input(\"set the name of your trainer: \")\n",
    "\n",
    "# Create an Instance trn of class trainer and initialzie it's trn.name by value above  \n",
    "trn = Trainer(trn_name)\n",
    "\n",
    "# TODO. Print the name of trn\n",
    "print(\"Your name is : {name}\".format(name = trn.name))"
   ]
  },
  {
   "cell_type": "markdown",
   "metadata": {
    "id": "46d894ce",
    "tags": []
   },
   "source": [
    "# Pokemon Battle setting\n",
    "\n",
    "## Status Display\n",
    "Define a function that shows the status of both enemy and my pokemon on console for pokemon battle.  \n",
    "Following should be included:\n",
    "1. Name of each pokemon\n",
    "2. Current HP of each pokemon\n",
    "3. Max HP of each pokemon  \n",
    "4. Use Letter like \"#\" or something else to separate Status Display from other line in console  \n",
    "\n",
    "\n",
    "**name(currentHP/maxHP)**\n",
    "\n",
    "ex).  \n",
    "######################\n",
    "1. Enemy: Charmander(35/50)\n",
    "2. My: Pikachu(45/50)   \n",
    "\n",
    "######################\n"
   ]
  },
  {
   "cell_type": "code",
   "execution_count": 49,
   "metadata": {
    "id": "66fc35d0"
   },
   "outputs": [],
   "source": [
    "def battle_disp(my = Pokemon(),enemy = Pokemon()):\n",
    "    # TODO, Define the function described above\n",
    "    print(\"######################\\n\")\n",
    "    print(\"1. Enemy: {}({}/{})\".format(enemy.species, enemy.HP, enemy.maxHP))\n",
    "    print(\"2. My: {}({}/{})\".format(my.species, my.HP, my.maxHP))\n",
    "    print(\"\\n######################\")"
   ]
  },
  {
   "cell_type": "markdown",
   "metadata": {
    "id": "3a2a4866",
    "tags": []
   },
   "source": [
    "## Basic setting "
   ]
  },
  {
   "cell_type": "code",
   "execution_count": 50,
   "metadata": {
    "id": "5197417c",
    "outputId": "5e47618d-9f43-4bfd-9694-e3ab383fcc24"
   },
   "outputs": [
    {
     "name": "stdout",
     "output_type": "stream",
     "text": [
      "fire\n",
      "Ember\n",
      "10\n",
      "10\n"
     ]
    }
   ],
   "source": [
    "# Pokemon information setting\n",
    "Unit_info = {\"Charmander\": {\"species\": \"Charmander\", \"HP\": 50, \"EA\": \"Ember\", \"attribute\": \"fire\", \"PA\": \"Tackle\"},\n",
    "             \"Squirtle\": {\"species\": \"Squirtle\", \"HP\": 50, \"EA\": \"Water Gun\", \"attribute\": \"water\", \"PA\": \"Tackle\"},\n",
    "             \"Bulbasaur\": {\"species\": \"Bulbasaur\", \"HP\": 50, \"EA\": \"Vine Whip\", \"attribute\": \"grass\", \"PA\": \"Tackle\"}\n",
    "             }\n",
    "# Attack damage setting\n",
    "EA_damage = {\"Ember\": 10, \"Water Gun\": 10, \"Vine Whip\": 10}\n",
    "PA_damage = {\"Tackle\": 9}\n",
    "\n",
    "## Dictionary can be used double. print the value of Unit_info[\"Charmander\"][\"attribute\"]\n",
    "print(Unit_info[\"Charmander\"][\"attribute\"]) # fire\n",
    "\n",
    "## Using dictonary value as key of other dictonary is also possible.\n",
    "print(Unit_info[\"Charmander\"][\"EA\"]) # Ember\n",
    "print(EA_damage[\"Ember\"]) #10\n",
    "print(EA_damage[Unit_info[\"Charmander\"][\"EA\"]]) #10\n",
    "\n",
    "\n",
    "## TODO: create instances of 3 pokemons: Charmander, Squirtle, Bulbasaur using dictionaries above\n",
    "Charmander = Pokemon(Unit_info[\"Charmander\"][\"HP\"],Unit_info[\"Charmander\"][\"EA\"],Unit_info[\"Charmander\"][\"attribute\"],Unit_info[\"Charmander\"][\"species\"],Unit_info[\"Charmander\"][\"PA\"],Unit_info[\"Charmander\"][\"HP\"])\n",
    "Squirtle = Pokemon(Unit_info[\"Squirtle\"][\"HP\"],Unit_info[\"Squirtle\"][\"EA\"],Unit_info[\"Squirtle\"][\"attribute\"],Unit_info[\"Squirtle\"][\"species\"],Unit_info[\"Squirtle\"][\"PA\"],Unit_info[\"Squirtle\"][\"HP\"])\n",
    "Bulbasaur = Pokemon(Unit_info[\"Bulbasaur\"][\"HP\"],Unit_info[\"Bulbasaur\"][\"EA\"],Unit_info[\"Bulbasaur\"][\"attribute\"],Unit_info[\"Bulbasaur\"][\"species\"],Unit_info[\"Bulbasaur\"][\"PA\"],Unit_info[\"Bulbasaur\"][\"HP\"])"
   ]
  },
  {
   "cell_type": "markdown",
   "metadata": {
    "id": "e562cf32"
   },
   "source": [
    "## 1. Elemental Attack function\n",
    "\n",
    "Define the function of Elemental Attack which requires two pokemon instances attacker and defender.  \n",
    "An elemental attack has rules described below.\n",
    "1. Deals 2X damage if attacker's attribute is strong against defender's attriubte\n",
    "2. Deals 0.5X damage if attacker's attribute is weak against defender's attribute\n",
    "3. Deals 1X damage if attacker's and defender's attributes have no relation each other\n",
    "4. Print the letter  \" {attack.name} used ! {EA} \"\n",
    "5. Print the word like \" It's super effective!\" or \"Not very effective\" if each of Rule #1 or #2 is applied."
   ]
  },
  {
   "cell_type": "code",
   "execution_count": 58,
   "metadata": {
    "id": "b7e113f9"
   },
   "outputs": [],
   "source": [
    "effect_attribute = [(\"fire\",\"grass\"), (\"water\",\"fire\"), (\"grass\",\"water\")] #(\"attacker\",\"defender\")\n",
    "weak_attribute = [(\"grass\",\"fire\"), (\"fire\",\"water\"), (\"water\",\"grass\")]\n",
    "EA_damage = {\"Ember\": 10, \"Water Gun\": 10, \"Vine Whip\": 10}\n",
    "def poke_EA(defend=Pokemon(), attack=Pokemon()):\n",
    "    time.sleep(0.5) # for delay\n",
    "    ## TODO. define the function described above\n",
    "    at = attack.attribute\n",
    "    dt = defend.attribute\n",
    "    at_EA_damage = EA_damage[attack.EA]\n",
    "    print(\"{} used ! {}\".format(attack.species, attack.EA))\n",
    "    if (at,dt) in effect_attribute :\n",
    "        defend.HP -= at_EA_damage*2\n",
    "        print(\"It's super effective!\")\n",
    "    elif (at,dt) in weak_attribute :\n",
    "        defend.HP -= at_EA_damage*0.5\n",
    "        print(\"Not very effective\" )\n",
    "    else :\n",
    "        defend.HP -= at_EA_damage"
   ]
  },
  {
   "cell_type": "markdown",
   "metadata": {
    "id": "ce96d93b"
   },
   "source": [
    "##  2. Physical Attack function\n",
    "\n",
    "Define the function of Physical Attack which requires attacker,defender both pokemon class.\n",
    "Physical attack has rules described under.\n",
    "1. Deals equivalent damage nomatter what they are\n",
    "2. Print a sentence  \" {attack.name} used ! {EA} \""
   ]
  },
  {
   "cell_type": "code",
   "execution_count": 59,
   "metadata": {
    "id": "19e32b16",
    "outputId": "f8220cde-c3df-4a1c-9655-fae900411fb2"
   },
   "outputs": [],
   "source": [
    "PA_damage = {\"Tackle\": 9}\n",
    "def poke_PA(defend=Pokemon(), attack=Pokemon()):\n",
    "    time.sleep(0.5)\n",
    "    ##TODO. define the function described above\n",
    "    at_PA_damage = PA_damage[attack.PA]\n",
    "    defend.HP -= at_PA_damage\n",
    "    print(\"{} used ! {}\".format(attack.species, attack.PA))"
   ]
  },
  {
   "cell_type": "markdown",
   "metadata": {
    "id": "6c547935"
   },
   "source": [
    "## 3. Cure function\n",
    "\n",
    "Define the function of cure pokemon.\n",
    "1. pokemon's HP is recovered to maxHP\n",
    "2. print a string \" {pokemon.name} cured ! \""
   ]
  },
  {
   "cell_type": "code",
   "execution_count": 60,
   "metadata": {
    "id": "f36d895f"
   },
   "outputs": [],
   "source": [
    "def poke_cure(poke=Pokemon()):\n",
    "    ##TODO. define the function described above\n",
    "    poke.HP = poke.maxHP\n",
    "    print(\"{} cured !\".format(poke.species))"
   ]
  },
  {
   "cell_type": "markdown",
   "metadata": {
    "id": "b0d07f9e"
   },
   "source": [
    "## 4. Capture function\n",
    "\n",
    "Define a function of capturing an enemy pokemon.  \n",
    "Import \"random\" to use randomness.  \n",
    "1. if enemy's HP is under 50% of maxHP, probabilty of success of capturing pokemon is 90%.  \n",
    "    1.1. if a pokemon is captured, run (A).  \n",
    "    1.2. otherwise, run (B)   \n",
    "2. Otherwise, probabilty of capturing pokemon is 15%  \n",
    "    1.1. if a pokemon is captured, run (A).  \n",
    "    1.2. otherwise, run (B)   \n",
    "    \n",
    "(A) if pokemon was caught, \n",
    "- Print a sentence like **gotcha! {enemy.species} was caught!**. \n",
    "- Set the name of pokemon by calling set_name function. \n",
    "- After that, add pokemon to poke_list by using the poke_add method in Trainer class.\n",
    "\n",
    "(B) if we fail to capture the pokemon, \n",
    "- Print a sentence **oh no! {enemy.species} break free!**."
   ]
  },
  {
   "cell_type": "code",
   "execution_count": 61,
   "metadata": {
    "id": "a8240b10",
    "outputId": "f356f88f-a0c0-436c-fd85-0bfd444fc121"
   },
   "outputs": [],
   "source": [
    "def poke_capture(trn=Trainer(),enemy=Pokemon()):\n",
    "    ## TODO. Define the poke_capture function described above\n",
    "    if enemy.HP<=enemy.maxHP*0.5 :\n",
    "        x = random.choices(range(0, 2), weights = [0.1, 0.9])\n",
    "    else :\n",
    "        x = random.choices(range(0, 2), weights = [0.85, 0.15])\n",
    "    if x :\n",
    "        print(\"gotcha! {} was caught!.\".format(enemy.species))\n",
    "        enemy.set_name()\n",
    "        trn.poke_add(enemy.name)\n",
    "    else :\n",
    "        print(\"oh no! {} break free!.\".format(enemy.species))"
   ]
  },
  {
   "cell_type": "code",
   "execution_count": 62,
   "metadata": {},
   "outputs": [
    {
     "name": "stdout",
     "output_type": "stream",
     "text": [
      "######################\n",
      "\n",
      "1. Enemy: Squirtle(41/50)\n",
      "2. My: Charmander(50/50)\n",
      "\n",
      "######################\n",
      "Squirtle used ! Water Gun\n",
      "It's super effective!\n",
      "Squirtle used ! Water Gun\n",
      "It's super effective!\n",
      "Charmander used ! Tackle\n",
      "Bulbasaur used ! Vine Whip\n",
      "Not very effective\n",
      "charmander's HP left is :  5.0\n",
      "Charmander cured !\n",
      "charmander's HP after using Cure function is :  50\n",
      "######################\n",
      "\n",
      "1. Enemy: Squirtle(32/50)\n",
      "2. My: Charmander(50/50)\n",
      "\n",
      "######################\n",
      "######################\n",
      "\n",
      "1. Enemy: Squirtle(32/50)\n",
      "2. My: Bulbasaur(50/50)\n",
      "\n",
      "######################\n",
      "gotcha! Squirtle was caught!.\n",
      "myload\n"
     ]
    },
    {
     "ename": "AttributeError",
     "evalue": "'str' object has no attribute 'HP'",
     "output_type": "error",
     "traceback": [
      "\u001b[1;31m---------------------------------------------------------------------------\u001b[0m",
      "\u001b[1;31mAttributeError\u001b[0m                            Traceback (most recent call last)",
      "\u001b[1;32m<ipython-input-62-ee3312350715>\u001b[0m in \u001b[0;36m<module>\u001b[1;34m\u001b[0m\n\u001b[0;32m     32\u001b[0m \u001b[1;31m## If poke_capture is succeeded, there should be 2 pokemon displayed on the pokemon\u001b[0m\u001b[1;33m\u001b[0m\u001b[1;33m\u001b[0m\u001b[1;33m\u001b[0m\u001b[0m\n\u001b[0;32m     33\u001b[0m \u001b[1;31m# And player should be able to choose Pokemon among them.\u001b[0m\u001b[1;33m\u001b[0m\u001b[1;33m\u001b[0m\u001b[1;33m\u001b[0m\u001b[0m\n\u001b[1;32m---> 34\u001b[1;33m \u001b[0mtrn\u001b[0m\u001b[1;33m.\u001b[0m\u001b[0mchoose_poke\u001b[0m\u001b[1;33m(\u001b[0m\u001b[1;33m)\u001b[0m\u001b[1;33m\u001b[0m\u001b[1;33m\u001b[0m\u001b[0m\n\u001b[0m\u001b[0;32m     35\u001b[0m \u001b[1;33m\u001b[0m\u001b[0m\n",
      "\u001b[1;32m<ipython-input-56-3d21a5e66259>\u001b[0m in \u001b[0;36mchoose_poke\u001b[1;34m(self)\u001b[0m\n\u001b[0;32m     13\u001b[0m         \u001b[1;31m## TODO. Define the method described above in #2\u001b[0m\u001b[1;33m\u001b[0m\u001b[1;33m\u001b[0m\u001b[1;33m\u001b[0m\u001b[0m\n\u001b[0;32m     14\u001b[0m         \u001b[1;32mfor\u001b[0m \u001b[0mi\u001b[0m\u001b[1;33m,\u001b[0m\u001b[0mx\u001b[0m \u001b[1;32min\u001b[0m \u001b[0menumerate\u001b[0m\u001b[1;33m(\u001b[0m\u001b[0mself\u001b[0m\u001b[1;33m.\u001b[0m\u001b[0mpoke_list\u001b[0m\u001b[1;33m)\u001b[0m \u001b[1;33m:\u001b[0m\u001b[1;33m\u001b[0m\u001b[1;33m\u001b[0m\u001b[0m\n\u001b[1;32m---> 15\u001b[1;33m             \u001b[0mprint\u001b[0m\u001b[1;33m(\u001b[0m\u001b[1;34m\"{}.{}({}/{})\"\u001b[0m\u001b[1;33m.\u001b[0m\u001b[0mformat\u001b[0m\u001b[1;33m(\u001b[0m\u001b[0mi\u001b[0m\u001b[1;33m,\u001b[0m\u001b[0mx\u001b[0m\u001b[1;33m,\u001b[0m\u001b[0mx\u001b[0m\u001b[1;33m.\u001b[0m\u001b[0mHP\u001b[0m\u001b[1;33m,\u001b[0m\u001b[0mx\u001b[0m\u001b[1;33m.\u001b[0m\u001b[0mmaxHP\u001b[0m\u001b[1;33m)\u001b[0m\u001b[1;33m)\u001b[0m\u001b[1;33m\u001b[0m\u001b[1;33m\u001b[0m\u001b[0m\n\u001b[0m\u001b[0;32m     16\u001b[0m         \u001b[0mID\u001b[0m\u001b[1;33m=\u001b[0m\u001b[1;33m-\u001b[0m\u001b[1;36m1\u001b[0m\u001b[1;33m\u001b[0m\u001b[1;33m\u001b[0m\u001b[0m\n\u001b[0;32m     17\u001b[0m         \u001b[1;32mwhile\u001b[0m \u001b[1;36m0\u001b[0m\u001b[1;33m<=\u001b[0m\u001b[0mID\u001b[0m\u001b[1;33m<\u001b[0m\u001b[0mlen\u001b[0m\u001b[1;33m(\u001b[0m\u001b[0mself\u001b[0m\u001b[1;33m.\u001b[0m\u001b[0mpoke_list\u001b[0m\u001b[1;33m)\u001b[0m \u001b[1;33m:\u001b[0m\u001b[1;33m\u001b[0m\u001b[1;33m\u001b[0m\u001b[0m\n",
      "\u001b[1;31mAttributeError\u001b[0m: 'str' object has no attribute 'HP'"
     ]
    }
   ],
   "source": [
    "## Examine the class & function wrote above!\n",
    "\n",
    "## as the pokemon battle starts, first thing to appear is battle_disp status\n",
    "battle_disp(Charmander,Squirtle)\n",
    "\n",
    "\n",
    "## Elemental Attack Function\n",
    "poke_EA(defend = Charmander, attack = Squirtle) # Charmander gets 20 damage\n",
    "poke_EA(defend = Charmander, attack = Squirtle) # Charmander gets 20 damage\n",
    " \n",
    "## Physical Attack Function\n",
    "poke_PA(defend = Squirtle, attack = Charmander)\n",
    "\n",
    "## Function's order isn't important if function arg names are just as correct\n",
    "poke_EA(attack = Bulbasaur, defend = Charmander) # Charmander gets 5 damage. Charmander has 5 HP LEFT.\n",
    "\n",
    "## Cure function\n",
    "print(\"charmander's HP left is : \" , Charmander.HP) # Check out the current HP of the charmandder\n",
    "poke_cure(Charmander) # Using Cure function\n",
    "print(\"charmander's HP after using Cure function is : \" , Charmander.HP) # Check out the function you defined\n",
    "\n",
    "## examine the battle_disp function\n",
    "battle_disp(Charmander,Squirtle)\n",
    "battle_disp(Bulbasaur,Squirtle)\n",
    "\n",
    "## examin the poke_capture function \n",
    "poke_capture(trn,Squirtle)\n",
    "\n",
    "## add Charmander to poke_list\n",
    "trn.poke_add(Charmander)\n",
    "\n",
    "## If poke_capture is succeeded, there should be 2 pokemon displayed on the pokemon \n",
    "# And player should be able to choose Pokemon among them.\n",
    "trn.choose_poke()\n",
    "\n"
   ]
  },
  {
   "cell_type": "markdown",
   "metadata": {
    "id": "8a5d31b2"
   },
   "source": [
    "# Inheritance and polymorphism\n",
    "1. Define LegendaryPokemon class which inherits from Pokemon class  \n",
    "    1.1 A lengendary pokemon has additional attribute of flying (bool)  \n",
    "    1.2 It's name has prefix of \"Legendary\" EX) Legendary Mew  \n",
    "      \n",
    "2. Define HP_raise method which makes other pokemon's maxHP to be 50% raised using other target pokemon's instance  \n",
    "    2.1 Using HP_raise shows a sentence \" {target.name} 's HP raised by {raised HP - original HP} !\"  \n",
    "  \n",
    "3.  Define a method which shows the \"{LegendaryPokemon.name} is flying! / isn't flying! \" according to flying value \n"
   ]
  },
  {
   "cell_type": "code",
   "execution_count": 16,
   "metadata": {
    "id": "31525c5e",
    "outputId": "3c77e16c-2da6-4455-e6f5-1b83656e0ff5"
   },
   "outputs": [],
   "source": [
    "class LegendaryPokemon(Pokemon):\n",
    "    def __init__(self, HP=0, EA=\"\", attribute=\"\", species=\"\", PA=\"\", flying=False):\n",
    "        ## TODO. Initialize LegendaryPokemon as described above\n",
    "\n",
    "    \n",
    "    def HP_raise(self,target=Pokemon()):\n",
    "        ## TODO. Define the HP_raise method described above\n",
    "\n",
    "        \n",
    "    def is_legendary_flying(self):\n",
    "        ## TODO. Define the is_legendary_flying method described above\n",
    "\n",
    "    "
   ]
  },
  {
   "cell_type": "code",
   "execution_count": 17,
   "metadata": {
    "colab": {
     "base_uri": "https://localhost:8080/",
     "height": 246
    },
    "id": "2135e887",
    "outputId": "d4db644e-4320-4183-b404-77bdab8091d8"
   },
   "outputs": [
    {
     "name": "stdout",
     "output_type": "stream",
     "text": [
      "Legendary Mew\n",
      "Charmander 's HP increased by  25.0\n",
      "Legendary Mew is flying!\n"
     ]
    }
   ],
   "source": [
    "# Examine the inherited class, \n",
    "# makes the instance of legendary_pokemon Mew\n",
    "Mew = LegendaryPokemon(200,\"amnesia\",\"psychic\",\"Mew\",\"pound\",True)\n",
    "\n",
    "print(Mew.name)\n",
    "\n",
    "#examine the HP_raise method using charmander instance\n",
    "Mew.HP_raise(Charmander)\n",
    "\n",
    "## examine the is_legendary_flying method\n",
    "Mew.is_legendary_flying()\n",
    "\n"
   ]
  },
  {
   "cell_type": "markdown",
   "metadata": {},
   "source": [
    "## Writing a Python Package practice"
   ]
  },
  {
   "cell_type": "code",
   "execution_count": 4,
   "metadata": {},
   "outputs": [],
   "source": [
    "##TODO. \n",
    "## Make 3 of python files. Save the files with filenames as annotaion below.\n",
    "## Save the file in the same directory of this practice7 ipynb file."
   ]
  },
  {
   "cell_type": "code",
   "execution_count": 15,
   "metadata": {},
   "outputs": [],
   "source": [
    "# Don't let this cell to be used in the code. make new .py file and save.\n",
    "\n",
    "# # stringLength.py\n",
    "\n",
    "# def stringLength(inStr):\n",
    "#     return len(inStr)\n",
    "# ##########################################\n",
    "# # stringToUpper.py\n",
    "\n",
    "# def stringToUpper(inStr):\n",
    "#     return inStr.upper()\n",
    "# ##########################################\n",
    "# # stringToLower.py\n",
    "\n",
    "# def stringToLower(inStr):\n",
    "#     return inStr.lower()"
   ]
  },
  {
   "cell_type": "code",
   "execution_count": null,
   "metadata": {
    "id": "6083236c"
   },
   "outputs": [],
   "source": [
    "# example1.py\n",
    "\n",
    "import stringLength\n",
    "import stringToLower\n",
    "import stringToUpper\n",
    "\n",
    "some_string = \"Hanyang University!\"\n",
    "## Check the Results!\n",
    "print(stringLength.stringLength(some_string)) \n",
    "print(stringToLower.stringToLower(some_string))\n",
    "print(stringToUpper.stringToUpper(some_string))\n"
   ]
  },
  {
   "cell_type": "code",
   "execution_count": 6,
   "metadata": {
    "id": "be86ffd4"
   },
   "outputs": [],
   "source": [
    "## Now, make a new folder \"string_func\" under this directory. \n",
    "## Move stringToLower.py, stringToUpper.py, stringLength.py to the \"string_func\" folder"
   ]
  },
  {
   "cell_type": "code",
   "execution_count": 18,
   "metadata": {
    "id": "d27b7625-4eaa-45f6-a505-bcf263c6d68e"
   },
   "outputs": [
    {
     "name": "stdout",
     "output_type": "stream",
     "text": [
      "19\n",
      "hanyang university!\n",
      "HANYANG UNIVERSITY!\n"
     ]
    }
   ],
   "source": [
    "# example2.py\n",
    "\n",
    "import string_func.stringLength\n",
    "import string_func.stringToLower\n",
    "import string_func.stringToUpper\n",
    "\n",
    "some_string = \"Hanyang University!\"\n",
    "## Check the Results! \n",
    "print(string_func.stringLength.stringLength(some_string))\n",
    "print(string_func.stringToLower.stringToLower(some_string))\n",
    "print(string_func.stringToUpper.stringToUpper(some_string))"
   ]
  },
  {
   "cell_type": "code",
   "execution_count": 19,
   "metadata": {
    "id": "4573aebe-2916-41a6-9200-52cec39459d2"
   },
   "outputs": [],
   "source": [
    "## Now, Under \"string_func\" folder, make __init__.py and make add the line below \n",
    "# delete \"#\" in __init__.py\n",
    "# from .stringLength import stringLength\n",
    "# from .stringToLower import stringToLower\n",
    "# from .stringToUpper import stringToUpper"
   ]
  },
  {
   "cell_type": "code",
   "execution_count": 20,
   "metadata": {
    "id": "8196f0ee-d94f-41e8-9d38-fd503f6448be"
   },
   "outputs": [
    {
     "ename": "TypeError",
     "evalue": "'module' object is not callable",
     "output_type": "error",
     "traceback": [
      "\u001b[1;31m---------------------------------------------------------------------------\u001b[0m",
      "\u001b[1;31mTypeError\u001b[0m                                 Traceback (most recent call last)",
      "Input \u001b[1;32mIn [20]\u001b[0m, in \u001b[0;36m<cell line: 7>\u001b[1;34m()\u001b[0m\n\u001b[0;32m      5\u001b[0m some_string \u001b[38;5;241m=\u001b[39m \u001b[38;5;124m\"\u001b[39m\u001b[38;5;124mHanyang University!\u001b[39m\u001b[38;5;124m\"\u001b[39m\n\u001b[0;32m      6\u001b[0m \u001b[38;5;66;03m## Check the Results! \u001b[39;00m\n\u001b[1;32m----> 7\u001b[0m \u001b[38;5;28mprint\u001b[39m(\u001b[43mstring_func\u001b[49m\u001b[38;5;241;43m.\u001b[39;49m\u001b[43mstringLength\u001b[49m\u001b[43m(\u001b[49m\u001b[43msome_string\u001b[49m\u001b[43m)\u001b[49m)\n\u001b[0;32m      8\u001b[0m \u001b[38;5;28mprint\u001b[39m(string_func\u001b[38;5;241m.\u001b[39mstringToLower(some_string))\n\u001b[0;32m      9\u001b[0m \u001b[38;5;28mprint\u001b[39m(string_func\u001b[38;5;241m.\u001b[39mstringToUpper(some_string))\n",
      "\u001b[1;31mTypeError\u001b[0m: 'module' object is not callable"
     ]
    }
   ],
   "source": [
    "# example3.py\n",
    "\n",
    "import string_func ## with __init__.py, Your code become much clear!\n",
    "\n",
    "some_string = \"Hanyang University!\"\n",
    "## Check the Results! \n",
    "print(string_func.stringLength(some_string))\n",
    "print(string_func.stringToLower(some_string))\n",
    "print(string_func.stringToUpper(some_string))"
   ]
  }
 ],
 "metadata": {
  "colab": {
   "provenance": []
  },
  "kernelspec": {
   "display_name": "Python 3",
   "language": "python",
   "name": "python3"
  },
  "language_info": {
   "codemirror_mode": {
    "name": "ipython",
    "version": 3
   },
   "file_extension": ".py",
   "mimetype": "text/x-python",
   "name": "python",
   "nbconvert_exporter": "python",
   "pygments_lexer": "ipython3",
   "version": "3.8.5"
  }
 },
 "nbformat": 4,
 "nbformat_minor": 5
}

{
 "cells": [
  {
   "cell_type": "markdown",
   "metadata": {
    "id": "btGorTwed9QG"
   },
   "source": [
    "# Practice 2. Python Standard Library"
   ]
  },
  {
   "cell_type": "markdown",
   "metadata": {
    "id": "1O5Utgaxd9QI"
   },
   "source": [
    "## Lists and Dictionaries"
   ]
  },
  {
   "cell_type": "markdown",
   "metadata": {
    "id": "WgIRb8Dgd9QJ"
   },
   "source": [
    "#### 1. Iterate Area List. Write a code printing the following output\n",
    "the hallway is 11.25 sqm  \n",
    "the kitchen is 18.0 sqm  \n",
    "the living room is 20.0 sqm  \n",
    "the bedroom is 10.75 sqm  \n",
    "the bathroom is 9.5 sqm  "
   ]
  },
  {
   "cell_type": "code",
   "execution_count": null,
   "metadata": {
    "id": "I1tTn2A7d9QJ"
   },
   "outputs": [],
   "source": [
    "# 1. Iterate Area List\n",
    "# A list of areas\n",
    "house = [[\"hallway\", 11.25], \n",
    "         [\"kitchen\", 18.0], \n",
    "         [\"living room\", 20.0], \n",
    "         [\"bedroom\", 10.75], \n",
    "         [\"bathroom\", 9.50]]\n",
    "#################### TODO ####################\n",
    "# Write code printing the output described in the problem.\n",
    "for x,y in house :\n",
    "    print(\"the\",x,\"is\",y,\"sqm\")\n",
    "##############################################"
   ]
  },
  {
   "cell_type": "markdown",
   "metadata": {
    "id": "kB9rJgR4d9QK"
   },
   "source": [
    "#### 2. Duplicates in Baby Name List\n",
    "What if there are duplicate values and we want to find all their indices they occur?"
   ]
  },
  {
   "cell_type": "code",
   "execution_count": null,
   "metadata": {
    "id": "_JDENFiwd9QL",
    "tags": []
   },
   "outputs": [],
   "source": [
    "# Recreate a list containing the names: baby_names\n",
    "baby_names = ['Ximena', 'Aliza', 'Ayden', 'Calvin']\n",
    "\n",
    "#################### TODO ####################\n",
    "# Append ‘Aliza‘ to baby_names\n",
    "baby_names.append('Aliza')\n",
    "\n",
    "# Print baby_names\n",
    "print(baby_names)\n",
    "\n",
    "# Find the position of 'Aliza': position\n",
    "print(baby_names.index(\"Aliza\"))\n",
    "\n",
    "# Find all positions that 'Aliza' occurs\n",
    "for e,i in enumerate(baby_names) :\n",
    "    if i==\"Aliza\" : print(e)\n",
    "\n",
    "# Print baby_names\n",
    "print(baby_names)\n",
    "##############################################"
   ]
  },
  {
   "cell_type": "markdown",
   "metadata": {
    "id": "22kk-bssd9QL"
   },
   "source": [
    "#### 3. Common Mistake. What are the types of the following variables?"
   ]
  },
  {
   "cell_type": "code",
   "execution_count": null,
   "metadata": {
    "id": "de2U0XzVd9QM",
    "tags": []
   },
   "outputs": [],
   "source": [
    "# 3. Common mistake\n",
    "# Understand the tuple type\n",
    "# Create the normal variable: normal\n",
    "normal = 'simple'\n",
    "# Create the mistaken variable: error\n",
    "error = 'trailing comma', \n",
    "#################### TODO ####################\n",
    "# TODO. Print the types of the above variables\n",
    "print(type(normal))\n",
    "print(type(error))\n",
    "##############################################"
   ]
  },
  {
   "cell_type": "markdown",
   "metadata": {
    "id": "gbUMLnC5d9QM"
   },
   "source": [
    "#### 4. Set Operations. Get the union and intersection of girl_names and boy_names"
   ]
  },
  {
   "cell_type": "code",
   "execution_count": null,
   "metadata": {
    "id": "eRaTAMREd9QN",
    "tags": []
   },
   "outputs": [],
   "source": [
    "# Lists of baby names\n",
    "girl_names = ['ALEXIS', 'BLAKE', 'HAZEL', 'ISABELA', 'JAMIE']\n",
    "boy_names = ['AARON', 'ALEXIS', 'ARMAAN', 'BLAKE', 'DARREN', 'HENRY', 'JOHN', 'MARCUS']\n",
    "# Hint. Convert lists to sets\n",
    "#################### TODO ####################\n",
    "# TODO. Find and print the union: all_names\n",
    "g_set = set(girl_names)\n",
    "b_set = set(boy_names)\n",
    "print(g_set|b_set)\n",
    "# TODO. Find and print the intersection: overlapping_names\n",
    "print(g_set&b_set)\n",
    "##############################################"
   ]
  },
  {
   "cell_type": "markdown",
   "metadata": {
    "id": "yrkx6x7Vd9QN"
   },
   "source": [
    "#### 5. Dictionary Manipulation. Print out the following.\n",
    "the capital of spain is madrid  \n",
    "the capital of france is paris  \n",
    "the capital of germany is bonn  \n",
    "the capital of norway is oslo  \n",
    "the capital of italy is rome  \n",
    "the capital of poland is warsaw  \n",
    "the capital of australia is vienna "
   ]
  },
  {
   "cell_type": "code",
   "execution_count": null,
   "metadata": {
    "id": "_GdwZIeZd9QN",
    "tags": []
   },
   "outputs": [],
   "source": [
    "# Definition of dictionary\n",
    "europe = {'spain':'madrid', 'france':'paris', 'germany':'berlin', 'norway':'oslo' }\n",
    "\n",
    "# Print out the keys in europe\n",
    "print(europe.keys())\n",
    "# Print out value that belongs to key 'norway'\n",
    "print(europe['norway'])\n",
    "\n",
    "# Add italy to europe\n",
    "europe['italy']='rome'\n",
    "# Print out italy in europe\n",
    "print('italy' in europe)\n",
    "#################### TODO ####################\n",
    "# TODO. Add poland to europe\n",
    "europe[\"poland\"]=\"warsaw\"\n",
    "# TODO. Print europe\n",
    "print(europe)\n",
    "\n",
    "# TODO. Update capital of england to london, that of nethaland to amsterdam\n",
    "europe[\"england\"]=\"london\"\n",
    "europe[\"nethaland\"]=\"amsterdam\"\n",
    "\n",
    "# TODO. Remove poland\n",
    "del(europe[\"poland\"])\n",
    "##############################################\n",
    "# Print europe\n",
    "print(europe)"
   ]
  },
  {
   "cell_type": "code",
   "execution_count": null,
   "metadata": {
    "id": "GhCKJnzgd9QO",
    "outputId": "1074bce1-41fd-434f-d3f5-9317d9a90eab",
    "tags": []
   },
   "outputs": [
    {
     "name": "stdout",
     "output_type": "stream",
     "text": [
      "the capital of spain is madrid\n",
      "the capital of france is paris\n",
      "the capital of germany is berlin\n",
      "the capital of norway is oslo\n",
      "the capital of italy is rome\n",
      "the capital of england is london\n",
      "the capital of nethaland is amsterdam\n"
     ]
    }
   ],
   "source": [
    "europe = {'spain':'madrid', 'france':'paris', 'germany':'berlin', 'norway':'oslo' }\n",
    "#################### TODO ####################\n",
    "# Iterate over europe to print out the following output\n",
    "europe[\"italy\"] = \"rome\"\n",
    "europe[\"england\"] = \"london\"\n",
    "europe[\"nethaland\"] = \"amsterdam\"\n",
    "for x in europe :\n",
    "    print(\"the capital of\",x,\"is\",europe[x])\n",
    "##############################################"
   ]
  },
  {
   "cell_type": "markdown",
   "metadata": {
    "id": "oOosbDL3d9QO"
   },
   "source": [
    "#### Getting Values from Dictionary"
   ]
  },
  {
   "cell_type": "code",
   "execution_count": null,
   "metadata": {
    "id": "hx5qmArVd9QO",
    "tags": []
   },
   "outputs": [],
   "source": [
    "# Where is capital of spain? Search europe for that. \n",
    "print(europe.get('spain'))\n",
    "# What is the type of the following?\n",
    "print(type(europe.get('korea')))\n",
    "# Print the capital of japan or \"NotFound\"\n",
    "print('japan: {}'.format(europe.get('japan', 'NotFound')))\n",
    "# Get the default value of key korea as 'NotFound'\n",
    "europe.setdefault('korea', 'NotFound')\n",
    "print('korea: {}'.format(europe.get('korea')))\n",
    "print(europe)"
   ]
  },
  {
   "cell_type": "markdown",
   "metadata": {
    "id": "m6hZLTacd9QP"
   },
   "source": [
    "#### 6. Dictionary of Dictionaries. Define a dictionary of dictionaries, and add data to the dictionary"
   ]
  },
  {
   "cell_type": "code",
   "execution_count": null,
   "metadata": {
    "id": "yOnigZNOd9QP",
    "tags": []
   },
   "outputs": [],
   "source": [
    "# Dictionary of dictionaries\n",
    "europe = { 'spain': { 'capital':'madrid', 'population':46.77 },\n",
    "           'france': { 'capital':'paris', 'population':66.03 },\n",
    "           'germany': { 'capital':'berlin', 'population':80.62 },\n",
    "           'norway': { 'capital':'oslo', 'population':5.084 } }\n",
    "\n",
    "\n",
    "# Print out the capital of France\n",
    "print(europe['france']['capital'])\n",
    "\n",
    "# Create sub-dictionary data\n",
    "data = {'capital':'rome','population':59.83}\n",
    "\n",
    "#################### TODO ####################\n",
    "# TODO. Add data to europe under key 'italy'\n",
    "europe[\"italy\"] = data\n",
    "##############################################\n",
    "\n",
    "# Print europe\n",
    "print(europe)"
   ]
  },
  {
   "cell_type": "markdown",
   "metadata": {
    "id": "9knFaKx1d9QP",
    "tags": []
   },
   "source": [
    "## Sets"
   ]
  },
  {
   "cell_type": "code",
   "execution_count": 6,
   "metadata": {
    "id": "xt_iyR9Ud9QP"
   },
   "outputs": [],
   "source": [
    "ash_pokedex = ['Pikachu', 'Bulbasaur', 'Koffing', 'Spearow', 'Vulpix', 'Wigglytuff', 'Zubat', 'Rattata', 'Psyduck', 'Squirtle']\n",
    "misty_pokedex = ['Krabby', 'Horsea', 'Slowbro', 'Tentacool', 'Vaporeon', 'Magikarp', 'Poliwag', 'Starmie', 'Psyduck', 'Squirtle']\n",
    "brock_pokedex = ['Onix', 'Geodude', 'Zubat', 'Golem', 'Vulpix', 'Tauros', 'Kabutops', 'Omastar', 'Machop', 'Dugtrio']"
   ]
  },
  {
   "cell_type": "code",
   "execution_count": 7,
   "metadata": {
    "id": "l-NZK-ETd9QP"
   },
   "outputs": [],
   "source": [
    "## Comparing Pokedexes\n",
    "# Convert both lists to sets\n",
    "ash_set = set(ash_pokedex)\n",
    "misty_set = set(misty_pokedex)"
   ]
  },
  {
   "cell_type": "markdown",
   "metadata": {
    "id": "KSxErcfKd9QQ"
   },
   "source": [
    "#### 7. Find the Pokémon that exist in both sets."
   ]
  },
  {
   "cell_type": "code",
   "execution_count": 8,
   "metadata": {
    "id": "z3CB-7-Pd9QQ"
   },
   "outputs": [
    {
     "name": "stdout",
     "output_type": "stream",
     "text": [
      "set()\n"
     ]
    }
   ],
   "source": [
    "# Compute the Pokémons that exist in both sets.\n",
    "ash_set = set(ash_pokedex)\n",
    "mis_set = set(misty_pokedex)\n",
    "bro_set = set(brock_pokedex)\n",
    "#################### TODO ####################\n",
    "both = set(ash_set&mis_set&bro_set)\n",
    "print(both)\n",
    "\n",
    "##############################################"
   ]
  },
  {
   "cell_type": "code",
   "execution_count": 9,
   "metadata": {
    "id": "k8m5fgIbd9QQ"
   },
   "outputs": [
    {
     "name": "stdout",
     "output_type": "stream",
     "text": [
      "{'Spearow', 'Koffing', 'Pikachu', 'Wigglytuff', 'Rattata', 'Zubat', 'Vulpix', 'Bulbasaur'}\n"
     ]
    }
   ],
   "source": [
    "# Find the Pokémon that Ash has and Misty does not have\n",
    "ash_only = ash_set.difference(misty_set)\n",
    "print(ash_only)"
   ]
  },
  {
   "cell_type": "markdown",
   "metadata": {
    "id": "N1cwqWGXd9QQ"
   },
   "source": [
    "#### 8. Find the Pokémon that are in only one set (not both)"
   ]
  },
  {
   "cell_type": "code",
   "execution_count": 10,
   "metadata": {
    "id": "5egjAoQJd9QQ"
   },
   "outputs": [
    {
     "name": "stdout",
     "output_type": "stream",
     "text": [
      "{'Spearow', 'Koffing', 'Machop', 'Krabby', 'Vaporeon', 'Wigglytuff', 'Rattata', 'Tauros', 'Poliwag', 'Omastar', 'Dugtrio', 'Onix', 'Magikarp', 'Kabutops', 'Horsea', 'Tentacool', 'Starmie', 'Geodude', 'Pikachu', 'Slowbro', 'Golem', 'Bulbasaur'}\n"
     ]
    }
   ],
   "source": [
    "# Find the Pokémons that are in only one set (not both)\n",
    "#################### TODO ####################\n",
    "unique_to_set = set((ash_set-(mis_set|bro_set))|(mis_set-(ash_set|bro_set))|(bro_set-(ash_set|mis_set)))\n",
    "print(unique_to_set)\n",
    "\n",
    "##############################################"
   ]
  },
  {
   "cell_type": "code",
   "execution_count": 11,
   "metadata": {
    "id": "B0DZXe3Vd9QQ"
   },
   "outputs": [
    {
     "name": "stdout",
     "output_type": "stream",
     "text": [
      "{'Onix', 'Kabutops', 'Omastar', 'Machop', 'Tauros', 'Geodude', 'Vulpix', 'Golem', 'Zubat', 'Dugtrio'}\n",
      "{'Spearow', 'Koffing', 'Psyduck', 'Rattata', 'Pikachu', 'Wigglytuff', 'Squirtle', 'Vulpix', 'Zubat', 'Bulbasaur'}\n"
     ]
    }
   ],
   "source": [
    "## Searching for Pokémon\n",
    "# Convert Brock's Pokédex to a set\n",
    "brock_pokedex_set = set(brock_pokedex)\n",
    "print(brock_pokedex_set)\n",
    "ash_pokedex_set = set(ash_pokedex)\n",
    "print(ash_pokedex_set)"
   ]
  },
  {
   "cell_type": "code",
   "execution_count": 12,
   "metadata": {
    "id": "0NQgsuRNd9QR"
   },
   "outputs": [
    {
     "name": "stdout",
     "output_type": "stream",
     "text": [
      "False\n",
      "False\n"
     ]
    }
   ],
   "source": [
    "# Check if Psyduck is in Ash's list and Brock's list\n",
    "print('Psyduck' in brock_pokedex)\n",
    "print('Machop' in ash_pokedex)"
   ]
  },
  {
   "cell_type": "code",
   "execution_count": null,
   "metadata": {
    "id": "Ra74a85ld9QR"
   },
   "outputs": [],
   "source": [
    "# Within your IPython console, \n",
    "# use %timeit to compare membership testing  \n",
    "# Check if 'Psyduck' is in ash's pokedex, and check if 'Machop' is in brock's pokedex\n",
    "# Measure the runtime of each of these operations by using %timeit.\n",
    "# 1. 'Psyduck' in brock_pokedex_set\n",
    "# 2. 'Psyduck' in brock_pokedex\n",
    "# 3. 'Machop' in ash_pokedex_set\n",
    "# 4. 'Machop' in ash_pokedex "
   ]
  },
  {
   "cell_type": "code",
   "execution_count": 17,
   "metadata": {
    "id": "7CSyLqCXd9QR"
   },
   "outputs": [
    {
     "name": "stdout",
     "output_type": "stream",
     "text": [
      "35.7 ns ± 0.299 ns per loop (mean ± std. dev. of 7 runs, 10000000 loops each)\n",
      "118 ns ± 0.82 ns per loop (mean ± std. dev. of 7 runs, 10000000 loops each)\n",
      "34.3 ns ± 0.336 ns per loop (mean ± std. dev. of 7 runs, 10000000 loops each)\n",
      "116 ns ± 0.417 ns per loop (mean ± std. dev. of 7 runs, 10000000 loops each)\n"
     ]
    }
   ],
   "source": [
    "#################### TODO ####################\n",
    "%timeit \"Psyduck\" in bro_set\n",
    "%timeit \"Psyduck\" in brock_pokedex\n",
    "%timeit \"Machop\" in ash_set\n",
    "%timeit \"Machop\" in ash_pokedex \n",
    "##############################################"
   ]
  },
  {
   "cell_type": "code",
   "execution_count": 18,
   "metadata": {
    "id": "UyjPmpk6d9QR"
   },
   "outputs": [],
   "source": [
    "## Gathering unique Pokémon\n",
    "def find_unique_items(data):\n",
    "    uniques = []\n",
    "\n",
    "    for item in data:\n",
    "        if item not in uniques:\n",
    "            uniques.append(item)\n",
    "\n",
    "    return uniques"
   ]
  },
  {
   "cell_type": "code",
   "execution_count": 19,
   "metadata": {
    "id": "mCPg_ZAmd9QR"
   },
   "outputs": [
    {
     "name": "stdout",
     "output_type": "stream",
     "text": [
      "30\n",
      "['Pikachu', 'Bulbasaur', 'Koffing', 'Spearow', 'Vulpix', 'Wigglytuff', 'Zubat', 'Rattata', 'Psyduck', 'Squirtle', 'Krabby', 'Horsea', 'Slowbro', 'Tentacool', 'Vaporeon', 'Magikarp', 'Poliwag', 'Starmie', 'Onix', 'Geodude', 'Golem', 'Tauros', 'Kabutops', 'Omastar', 'Machop', 'Dugtrio']\n",
      "26\n",
      "26\n"
     ]
    }
   ],
   "source": [
    "# Use find_unique_items() to collect unique Pokémon names\n",
    "names = ash_pokedex + misty_pokedex + brock_pokedex\n",
    "uniq_names_func = find_unique_items(names)\n",
    "print(len(ash_pokedex) + len(misty_pokedex) + len(brock_pokedex))\n",
    "print(uniq_names_func)\n",
    "print(len(uniq_names_func))\n",
    "\n",
    "# Convert the names list to a set to collect unique Pokémon names\n",
    "uniq_names_set = set(names)\n",
    "print(len(uniq_names_set))"
   ]
  },
  {
   "cell_type": "code",
   "execution_count": 20,
   "metadata": {
    "id": "Hte4s7U5d9QR"
   },
   "outputs": [
    {
     "name": "stdout",
     "output_type": "stream",
     "text": [
      "True\n"
     ]
    }
   ],
   "source": [
    "# Check that both unique collections are equivalent\n",
    "print(sorted(uniq_names_func) == sorted(uniq_names_set))"
   ]
  },
  {
   "cell_type": "code",
   "execution_count": 21,
   "metadata": {
    "id": "u9Taxf22d9QR",
    "scrolled": true,
    "tags": []
   },
   "outputs": [
    {
     "name": "stdout",
     "output_type": "stream",
     "text": [
      "{'fire', 'rock', 'water'}\n",
      "{1, 2, 3, 4, 5}\n"
     ]
    }
   ],
   "source": [
    "# Use the best approach to collect unique primary types and generations\n",
    "primary_types = ['water', 'rock', 'water', 'fire']\n",
    "generations = [1, 2, 3, 2, 3, 4, 5]\n",
    "uniq_types = set(primary_types) \n",
    "uniq_gens = set(generations)\n",
    "print(uniq_types, uniq_gens, sep='\\n') "
   ]
  },
  {
   "cell_type": "code",
   "execution_count": 22,
   "metadata": {
    "id": "lGkXJHdmd9QR",
    "tags": []
   },
   "outputs": [
    {
     "name": "stdout",
     "output_type": "stream",
     "text": [
      "5.57 µs ± 74.4 ns per loop (mean ± std. dev. of 7 runs, 100000 loops each)\n",
      "594 ns ± 15.6 ns per loop (mean ± std. dev. of 7 runs, 1000000 loops each)\n"
     ]
    }
   ],
   "source": [
    "%timeit uniq_names_list = find_unique_items(names)\n",
    "%timeit uniq_names_set = set(names)"
   ]
  },
  {
   "cell_type": "markdown",
   "metadata": {
    "id": "c7DDKFnNd9QR"
   },
   "source": [
    "## Functions"
   ]
  },
  {
   "cell_type": "markdown",
   "metadata": {
    "id": "UrMwCDAid9QR",
    "tags": []
   },
   "source": [
    "#### 9. Squared Sum. Write a function sumSquared(n) calculating the squared sum from 1 to n: $$1^2 + 2^2 + ... + n^2$$"
   ]
  },
  {
   "cell_type": "code",
   "execution_count": null,
   "metadata": {
    "id": "nyEYh1z7d9QS"
   },
   "outputs": [],
   "source": [
    "# Write a function calculating the squared sum from 1 to n\n",
    "def sumSquared(n):\n",
    "    #################### TODO ####################\n",
    "    print((n*(n+1)*(2*n+1))//6)\n",
    "    pass\n",
    "    ##############################################\n",
    "\n",
    "sumSquared(3)"
   ]
  },
  {
   "cell_type": "markdown",
   "metadata": {
    "id": "wo7TNvljd9QS"
   },
   "source": [
    "#### 10. Fibonacci Numbers. Write a function returning the Fibonacci sequence with length of n"
   ]
  },
  {
   "cell_type": "code",
   "execution_count": null,
   "metadata": {
    "id": "NBft9X9rd9QS"
   },
   "outputs": [],
   "source": [
    "# Assume n is always given as n >= 0.\n",
    "# Write a function returning a list of Fibonacci sequence with length of n\n",
    "def fiboSequence(n):\n",
    "    #################### TODO ####################\n",
    "    fib = [1,1]\n",
    "    for i in range(2,n) :\n",
    "        fib.append(fib[i-2]+fib[i-1])\n",
    "    print(fib)\n",
    "    pass\n",
    "    ##############################################\n",
    "\n",
    "print(fiboSequence(10))"
   ]
  },
  {
   "cell_type": "markdown",
   "metadata": {
    "id": "3PWmezHOd9QS"
   },
   "source": [
    "## Pythonic Approach"
   ]
  },
  {
   "cell_type": "markdown",
   "metadata": {
    "id": "FpkROkled9QS",
    "tags": []
   },
   "source": [
    "#### 11. Print a list of strings with first five characters of the strings in list \"names\""
   ]
  },
  {
   "cell_type": "code",
   "execution_count": null,
   "metadata": {
    "id": "vIX5cthjd9QS",
    "tags": []
   },
   "outputs": [],
   "source": [
    "# using Non-Pythonic approach\n",
    "names = ['Jerry', 'Kramer', 'John', 'Elaine', 'George', 'Newman', 'Jane','Bensmaia','Schweighofer']\n",
    "i = 0\n",
    "new_list= []\n",
    "while i < len(names):\n",
    "    if len(names[i]) <= 5:\n",
    "        new_list.append(names[i])\n",
    "    else:\n",
    "        new_list.append(names[i][:5])\n",
    "    i += 1\n",
    "print(new_list)"
   ]
  },
  {
   "cell_type": "code",
   "execution_count": null,
   "metadata": {
    "id": "bhe4fXmEd9QS",
    "tags": []
   },
   "outputs": [],
   "source": [
    "#################### TODO ####################\n",
    "# Print the list with the first 5 characters of each name (same as the above list) in \"names\"\n",
    "# Must use for loop\n",
    "ans = []\n",
    "for s in names :\n",
    "    ans.append(s[:5])\n",
    "print(ans)\n",
    "##############################################"
   ]
  },
  {
   "cell_type": "code",
   "execution_count": null,
   "metadata": {
    "id": "tlBS0j2jd9QS",
    "tags": []
   },
   "outputs": [],
   "source": [
    "#################### TODO ####################\n",
    "# Print the same list by using list comprehension\n",
    "ans = [s[:5] for s in names]\n",
    "print(ans)\n",
    "##############################################"
   ]
  },
  {
   "cell_type": "markdown",
   "metadata": {
    "id": "WRX1ckr3d9QT"
   },
   "source": [
    "## Built-In Functions: range(), enumerate(), map(), filter()"
   ]
  },
  {
   "cell_type": "markdown",
   "metadata": {
    "id": "E3hmdAm0d9QT",
    "tags": []
   },
   "source": [
    "#### enumerate()"
   ]
  },
  {
   "cell_type": "code",
   "execution_count": null,
   "metadata": {
    "id": "gzDeVxztd9QT",
    "tags": []
   },
   "outputs": [],
   "source": [
    "# Rewrite the for loop to use enumerate\n",
    "names = ['Jerry', 'Kramer', 'John', 'Elaine', 'George', 'Newman', 'Jane','Bensmaia','Schweighofer']\n",
    "indexed_names = []\n",
    "for i,name in enumerate(names):\n",
    "    index_name = (i,name)\n",
    "    indexed_names.append(index_name) \n",
    "print(indexed_names)"
   ]
  },
  {
   "cell_type": "markdown",
   "metadata": {
    "id": "VWhBYa4Md9QT",
    "tags": []
   },
   "source": [
    "#### 12. Rewrite the above for loop using list comprehension: indexed_names_comp"
   ]
  },
  {
   "cell_type": "code",
   "execution_count": null,
   "metadata": {
    "id": "s_9mK-BZd9QT"
   },
   "outputs": [],
   "source": [
    "#################### TODO ####################\n",
    "indexed_names_comp = [(i,names[i]) for i in range(len(names))]\n",
    "##############################################\n",
    "print(indexed_names_comp)"
   ]
  },
  {
   "cell_type": "code",
   "execution_count": null,
   "metadata": {
    "id": "68zpUn-ad9QT",
    "tags": []
   },
   "outputs": [],
   "source": [
    "# Unpack an enumerate object with a starting index of one\n",
    "indexed_names_unpack = [*enumerate(names, start=1)]\n",
    "print(indexed_names_unpack)"
   ]
  },
  {
   "cell_type": "markdown",
   "metadata": {
    "id": "7rk1Pi1gd9QT",
    "tags": []
   },
   "source": [
    "#### map()\n",
    "map(function, iterable, ...)"
   ]
  },
  {
   "cell_type": "code",
   "execution_count": null,
   "metadata": {
    "id": "PI6FVVHOd9QT",
    "outputId": "76bec2be-5110-4d98-8bfa-09214605221d"
   },
   "outputs": [
    {
     "name": "stdout",
     "output_type": "stream",
     "text": [
      "<class 'map'>\n",
      "['JERRY', 'KRAMER', 'JOHN', 'ELAINE', 'GEORGE', 'NEWMAN', 'JANE', 'BENSMAIA', 'SCHWEIGHOFER']\n"
     ]
    }
   ],
   "source": [
    "names = ['Jerry', 'Kramer', 'John', 'Elaine', 'George', 'Newman', 'Jane','Bensmaia','Schweighofer']\n",
    "# Use map to apply str.upper to each element in names\n",
    "names_map  = map(str.upper, names)\n",
    "\n",
    "# Print the type of the names_map\n",
    "print(type(names_map))\n",
    "\n",
    "#################### TODO ####################\n",
    "# Unpack names_map into a list \"names_uppercase\"\n",
    "names_uppercase = [s for s in names_map]\n",
    "##############################################\n",
    "\n",
    "# Print the list created above\n",
    "print(names_uppercase)"
   ]
  },
  {
   "cell_type": "code",
   "execution_count": null,
   "metadata": {
    "id": "nI1W8lJtd9QT",
    "outputId": "2b82b748-3c33-4489-9c05-7f997b2d9e87"
   },
   "outputs": [
    {
     "name": "stdout",
     "output_type": "stream",
     "text": [
      "<map object at 0x1053bc9d0>\n",
      "[5, 7, 9]\n"
     ]
    }
   ],
   "source": [
    "numbers1 = [1, 2, 3] \n",
    "numbers2 = [4, 5, 6] \n",
    "  \n",
    "result = map(lambda x, y: x + y, numbers1, numbers2) \n",
    "result_list = [*map(lambda x, y: x + y, numbers1, numbers2)] \n",
    "print(result)\n",
    "print(result_list)"
   ]
  },
  {
   "cell_type": "code",
   "execution_count": null,
   "metadata": {
    "id": "xGQJHw8sd9QT",
    "outputId": "86bbf8e9-5b68-4c7b-904c-69e46dace0bc"
   },
   "outputs": [
    {
     "name": "stdout",
     "output_type": "stream",
     "text": [
      "[10, 400, 27000, 2560000, 312500000]\n"
     ]
    }
   ],
   "source": [
    "bases=[10, 20, 30, 40, 50]\n",
    "index=[1, 2, 3, 4, 5]\n",
    "powers=list(map(pow, bases, index))\n",
    "powers_better = [*map(pow, bases, index)]\n",
    "print(powers_better)"
   ]
  },
  {
   "cell_type": "markdown",
   "metadata": {
    "id": "aVL7rYM-d9QU",
    "tags": []
   },
   "source": [
    "#### 13. Print a list of list_numbers[i] * tuple_numbers[i] for every index i from 0 to len(list_numbers)"
   ]
  },
  {
   "cell_type": "code",
   "execution_count": null,
   "metadata": {
    "id": "Ap0AR3Kzd9QU"
   },
   "outputs": [],
   "source": [
    "#################### TODO ####################\n",
    "# Print a list of list_numbers[i] * tuple_numbers[i] for every index i from 0 to len(list_numbers)\n",
    "list_numbers = [1, 2, 3, 4]\n",
    "tuple_numbers = (5, 6, 7, 8)\n",
    "map_iterator = [list_numbers[i]*tuple_numbers[i] for i in range(len(list_numbers))]\n",
    "print(map_iterator)\n",
    "\n",
    "##############################################"
   ]
  },
  {
   "cell_type": "code",
   "execution_count": null,
   "metadata": {
    "id": "3UZ3kGL8d9QU"
   },
   "outputs": [],
   "source": [
    "#################### TODO ####################\n",
    "# Still we can get the result although list_numbers and tuple_numbers2 have different sizes.\n",
    "# with the map function.\n",
    "list_numbers = [1, 2, 3, 4]\n",
    "tuple_numbers2 = (5, 6, 7, 8, 9)\n",
    "map_iterator2 = [list_numbers[i]*tuple_numbers2[i] for i in range(min(len(list_numbers), len(tuple_numbers2)))]\n",
    "print(map_iterator2)\n",
    "##############################################"
   ]
  },
  {
   "cell_type": "code",
   "execution_count": null,
   "metadata": {
    "id": "DLSZRPDId9QU"
   },
   "outputs": [],
   "source": [
    "# Function map() can even have a list of functions instead of a list of data\n",
    "def multiply(x):\n",
    "    return (x*x)\n",
    "def add(x):\n",
    "    return (x+x)\n",
    "\n",
    "funcs = [multiply, add]\n",
    "for i in range(5):\n",
    "    value = list(map(lambda x: x(i), funcs))\n",
    "    print(value)"
   ]
  },
  {
   "cell_type": "markdown",
   "metadata": {
    "id": "_z_R_5sxd9QU",
    "tags": []
   },
   "source": [
    "#### filter()\n",
    "filter(function, iterable)"
   ]
  },
  {
   "cell_type": "code",
   "execution_count": null,
   "metadata": {
    "id": "0NX2F6HQd9QU"
   },
   "outputs": [],
   "source": [
    "creature_names = ['Sammy', 'Ashley', 'Jo', 'Olly', 'Jackie', 'Charlie']"
   ]
  },
  {
   "cell_type": "code",
   "execution_count": null,
   "metadata": {
    "id": "wbJRAx1kd9QU"
   },
   "outputs": [],
   "source": [
    "print(*filter(lambda x: x[0].lower() in 'aeiou', creature_names))"
   ]
  },
  {
   "cell_type": "code",
   "execution_count": 26,
   "metadata": {
    "id": "5LUyBurJd9QU"
   },
   "outputs": [
    {
     "name": "stdout",
     "output_type": "stream",
     "text": [
      "[-5, -4, -3, -2, -1]\n"
     ]
    }
   ],
   "source": [
    "number_list = range(-5, 5)\n",
    "less_than_zero = [*filter(lambda x: x < 0, number_list)]\n",
    "print(less_than_zero)"
   ]
  },
  {
   "cell_type": "markdown",
   "metadata": {
    "id": "NgBy4Pwyd9QU",
    "tags": []
   },
   "source": [
    "#### 14. Compute \"less_than_zero2\" exactly same as \"less_than_zero\" above by using list comprehension. Measure the running time of this computation with %timeit."
   ]
  },
  {
   "cell_type": "code",
   "execution_count": 28,
   "metadata": {
    "id": "xSr690V2d9QV"
   },
   "outputs": [
    {
     "name": "stdout",
     "output_type": "stream",
     "text": [
      "567 ns ± 21.5 ns per loop (mean ± std. dev. of 7 runs, 1000000 loops each)\n"
     ]
    }
   ],
   "source": [
    "#################### TODO ####################\n",
    "%timeit less_than_zero = [i for i in number_list if i<0]\n",
    "##############################################"
   ]
  },
  {
   "cell_type": "markdown",
   "metadata": {},
   "source": [
    "## NOTE"
   ]
  },
  {
   "cell_type": "markdown",
   "metadata": {},
   "source": [
    "* **Please do not change the names (`P1`, `P2`) of functions and their parameters.**\n",
    "* **Please keep the return type.**\n",
    "* **You can create new functions and classes as long as functions `P1`, `P2` corretly `return`.**\n",
    "* **Running the last cell will evaluate your implementation.**"
   ]
  },
  {
   "cell_type": "markdown",
   "metadata": {
    "jp-MarkdownHeadingCollapsed": true
   },
   "source": [
    "## Problem 1. Flip and Reverse Image\n",
    "\n",
    "**Given an n x n binary matrix image, flip the image horizontally, then invert it, and return the resulting image.**\n",
    "\n",
    "To flip an image horizontally means that each row of the image is reversed.  \n",
    "For example, flipping [1,1,0] horizontally results in [0,1,1].\n",
    "To invert an image means that each 0 is replaced by 1, and each 1 is replaced by 0.  \n",
    "For example, inverting [0,1,1] results in [1,0,0].\n",
    "\n",
    "\n",
    "### Constraints:\n",
    "\n",
    "* n == image.length\n",
    "* n == image[i].length\n",
    "* 1 <= n <= 20\n",
    "* images[i][j] is either 0 or 1."
   ]
  },
  {
   "cell_type": "markdown",
   "metadata": {},
   "source": [
    "## Example 1\n",
    "\n",
    "Input: image = [[1,1,0],[1,0,1],[0,0,0]]\n",
    "\n",
    "Output: [[1,0,0],[0,1,0],[1,1,1]]\n",
    "\n",
    "Explanation: First reverse each row: [[0,1,1],[1,0,1],[0,0,0]].\n",
    "\n",
    "Then, invert the image: [[1,0,0],[0,1,0],[1,1,1]]"
   ]
  },
  {
   "cell_type": "markdown",
   "metadata": {},
   "source": [
    "## Example 2\n",
    "\n",
    "Input: image = [[1,1,0,0],[1,0,0,1],[0,1,1,1],[1,0,1,0]]\n",
    "\n",
    "Output: [[1,1,0,0],[0,1,1,0],[0,0,0,1],[1,0,1,0]]\n",
    "\n",
    "Explanation: First reverse each row: [[0,0,1,1],[1,0,0,1],[1,1,1,0],[0,1,0,1]].\n",
    "\n",
    "Then invert the image: [[1,1,0,0],[0,1,1,0],[0,0,0,1],[1,0,1,0]]"
   ]
  },
  {
   "cell_type": "code",
   "execution_count": 29,
   "metadata": {},
   "outputs": [],
   "source": [
    "from typing import List\n",
    "\n",
    "def P1(image: List[List[int]]) -> List[List[int]]:\n",
    "    ### TODO: your code here ###\n",
    "    n = len(image)\n",
    "    ans = []\n",
    "    for s in image :\n",
    "        x = []\n",
    "        while s :\n",
    "            if s.pop()==1 : x.append(0)\n",
    "            else : x.append(1)\n",
    "        ans.append(x)\n",
    "    print(ans)\n",
    "    return"
   ]
  },
  {
   "cell_type": "markdown",
   "metadata": {},
   "source": [
    "## Problem 2. Unique Morse Representations\n",
    "\n",
    "International Morse Code defines a standard encoding where each letter is mapped to a series of dots and dashes, as follows:\n",
    "\n",
    "* 'a' maps to \".-\",\n",
    "* 'b' maps to \"-...\",\n",
    "* 'c' maps to \"-.-.\", and so on.\n",
    "\n",
    "For convenience, the full table for the 26 letters of the English alphabet is given below:\n",
    "\n",
    "[\".-\",\"-...\",\"-.-.\",\"-..\",\".\",\"..-.\",\"--.\",\"....\",\"..\",\".---\",\"-.-\",\".-..\",\"--\",\"-.\",\"---\",\".--.\",\"--.-\",\".-.\",\"...\",\"-\",\"..-\",\"...-\",\".--\",\"-..-\",\"-.--\",\"--..\"]\n",
    "\n",
    "['a','b','c','d','e','f','g','h','i','j','k','l','m','n','o','p','q','r','s','t','u','v','w','x','y','z']\n",
    "\n",
    "Given an array of strings words where each word can be written as a concatenation of the Morse code of each letter.\n",
    "\n",
    "For example, \"cab\" can be written as \"-.-..--...\", which is the concatenation of \"-.-.\", \".-\", and \"-...\". We will call such a concatenation the transformation of a word.\n",
    "Return the number of different transformations among all words we have."
   ]
  },
  {
   "cell_type": "markdown",
   "metadata": {},
   "source": [
    "### Example 1\n",
    "    Input: words = [\"gin\",\"zen\",\"gig\",\"msg\"]\n",
    "    Output: 2\n",
    "    Explanation: The transformation of each word is:\n",
    "    \"gin\" -> \"--...-.\"\n",
    "    \"zen\" -> \"--...-.\"\n",
    "    \"gig\" -> \"--...--.\"\n",
    "    \"msg\" -> \"--...--.\"\n",
    "    There are 2 different transformations: \"--...-.\" and \"--...--.\"."
   ]
  },
  {
   "cell_type": "markdown",
   "metadata": {},
   "source": [
    "### Example 2:\n",
    "    Input: words = [\"a\"]\n",
    "    Output: 1"
   ]
  },
  {
   "cell_type": "code",
   "execution_count": 16,
   "metadata": {},
   "outputs": [],
   "source": [
    "from typing import List\n",
    "\n",
    "def P2(words: List[str]) -> int:\n",
    "    ### TODO: your code here ###\n",
    "    morse = [\".-\",\"-...\",\"-.-.\",\"-..\",\".\",\"..-.\",\"--.\",\"....\",\"..\",\".---\",\"-.-\",\".-..\",\"--\",\"-.\",\"---\",\".--.\",\"--.-\",\".-.\",\"...\",\"-\",\"..-\",\"...-\",\".--\",\"-..-\",\"-.--\",\"--..\"]\n",
    "    ans = set()\n",
    "    for s in words :\n",
    "        x = \"\"\n",
    "        for i in list(s.rstrip()) :\n",
    "            x += morse[ord(i)-97]\n",
    "        ans.add(x)\n",
    "    print(len(ans))\n",
    "    return"
   ]
  },
  {
   "cell_type": "markdown",
   "metadata": {},
   "source": [
    "## Problem 3. Unique Email Addresses\n",
    "\n",
    "Every valid email consists of a local name and a domain name, separated by the '@' sign. Besides lowercase letters, the email may contain one or more '.' or '+'.\n",
    "\n",
    "For example, in \"gildonghong@hanyang.ac.kr\", \"martin\" is the local name, and \"hanyang.ac.kr\" is the domain name.\n",
    "If you add periods '.' between some characters in the local name part of an email address, mail sent there will be forwarded to the same address without dots in the local name. Note that this rule does not apply to domain names.\n",
    "\n",
    "For example, \"gildong.hong@hanyang.ac.kr\" and \"gildonghong@hanyang.ac.kr\" forward to the same email address.\n",
    "If you add a plus '+' in the local name, everything after the first plus sign will be ignored. This allows certain emails to be filtered. Note that this rule does not apply to domain names.\n",
    "\n",
    "For example, \"gildong.hong+ta@hanyang.ac.kr\" will be forwarded to \"gildonghong@hanyang.ac.kr\".\n",
    "It is possible to use both of these rules at the same time.\n",
    "\n",
    "Given an array of strings emails where we send one email to each emails[i], return the number of different addresses that actually receive mail."
   ]
  },
  {
   "cell_type": "markdown",
   "metadata": {},
   "source": [
    "## Constraints:\n",
    "emails[i] consist of lowercase English letters, '+', '.' and '@'.\n",
    "Each emails[i] contains exactly one '@' character.\n",
    "All local and domain names are non-empty.\n",
    "Local names do not start with a '+' character.\n",
    "Domain names end with the \"ac.kr\" suffix."
   ]
  },
  {
   "cell_type": "markdown",
   "metadata": {},
   "source": [
    "### Example 1\n",
    "    Input: emails = [\"hong.gildong+ta@hanyang.ac.kr\",\"difficult.tomakeexample@hanyang.ac.kr\",\"difficulttomake.example@hanyang.ac.kr\"]\n",
    "    Output: 2\n",
    "    Explanation: \"honggildong@hanyang.ac.kr\" and \"difficulttomakeexample@hanyang.ac.kr\" actually receive mails."
   ]
  },
  {
   "cell_type": "markdown",
   "metadata": {},
   "source": [
    "### Example 2\n",
    "    Input: emails = [\"a@hanyang.ac.kr\",\"b@hanyang.ac.kr\",\"c@hanyang.ac.kr\"]\n",
    "    Output: 3"
   ]
  },
  {
   "cell_type": "code",
   "execution_count": 6,
   "metadata": {},
   "outputs": [],
   "source": [
    "from typing import List\n",
    "\n",
    "def P3(emails: List[str]) -> int:\n",
    "    ### TODO: your code here ###\n",
    "    ans = set()\n",
    "    for s in emails :\n",
    "        mail = \"\"\n",
    "        for x in list(s.split(\"@\")[0].rstrip()) :\n",
    "            if x not in [\".\", \"+\"] : mail += x\n",
    "            elif x==\"+\" : break\n",
    "        ans.add(mail)\n",
    "    print(len(ans))\n",
    "    return"
   ]
  },
  {
   "cell_type": "code",
   "execution_count": null,
   "metadata": {},
   "outputs": [],
   "source": []
  }
 ],
 "metadata": {
  "colab": {
   "provenance": []
  },
  "kernelspec": {
   "display_name": "Python 3",
   "language": "python",
   "name": "python3"
  },
  "language_info": {
   "codemirror_mode": {
    "name": "ipython",
    "version": 3
   },
   "file_extension": ".py",
   "mimetype": "text/x-python",
   "name": "python",
   "nbconvert_exporter": "python",
   "pygments_lexer": "ipython3",
   "version": "3.8.5"
  }
 },
 "nbformat": 4,
 "nbformat_minor": 4
}

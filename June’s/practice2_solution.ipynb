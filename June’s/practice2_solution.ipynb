{
 "cells": [
  {
   "cell_type": "markdown",
   "metadata": {
    "id": "sv2r9B4hUPwD"
   },
   "source": [
    "# Practice 2: Python Standard Library"
   ]
  },
  {
   "cell_type": "markdown",
   "metadata": {
    "id": "1639OIdZUPwD"
   },
   "source": [
    "## Python data types: list, set, dictionary"
   ]
  },
  {
   "cell_type": "markdown",
   "metadata": {
    "id": "96owJUVtUPwD"
   },
   "source": [
    "#### 1. Iterate Area List. Write a code printing the following output\n",
    "the hallway is 11.25 sqm  \n",
    "the kitchen is 18.0 sqm  \n",
    "the living room is 20.0 sqm  \n",
    "the bedroom is 10.75 sqm  \n",
    "the bathroom is 9.5 sqm  "
   ]
  },
  {
   "cell_type": "code",
   "execution_count": null,
   "metadata": {
    "id": "-gjXlmK8UPwD",
    "outputId": "7f9c8b87-1227-4b10-c7d2-8be9128db494"
   },
   "outputs": [
    {
     "name": "stdout",
     "output_type": "stream",
     "text": [
      "the hallway is 11.25 sqm\n",
      "the kitchen is 18.0 sqm\n",
      "the living room is 20.0 sqm\n",
      "the bedroom is 10.75 sqm\n",
      "the bathroom is 9.5 sqm\n"
     ]
    }
   ],
   "source": [
    "# 1. Iterate Area List\n",
    "# A list of areas\n",
    "house = [[\"hallway\", 11.25], \n",
    "         [\"kitchen\", 18.0], \n",
    "         [\"living room\", 20.0], \n",
    "         [\"bedroom\", 10.75], \n",
    "         [\"bathroom\", 9.50]]\n",
    "# TODO: Write code printing the output\n",
    "# Build a for loop from scratch\n",
    "for item in house :\n",
    "    print('the '+ item[0] + ' is '+str(item[1])+ ' sqm' )"
   ]
  },
  {
   "cell_type": "markdown",
   "metadata": {
    "id": "sP6pyGArUPwE"
   },
   "source": [
    "#### 2. Duplicates in Baby Name List\n",
    "What if there are duplicate values and we want to find all their indices they occur?"
   ]
  },
  {
   "cell_type": "code",
   "execution_count": null,
   "metadata": {
    "id": "c2KZYoXMUPwE",
    "tags": []
   },
   "outputs": [],
   "source": [
    "# Recreate a list containing the names: baby_names\n",
    "baby_names = ['Ximena', 'Aliza', 'Ayden', 'Calvin']\n",
    "\n",
    "# append ‘Aliza‘ to baby_names\n",
    "baby_names.append('Aliza')\n",
    "\n",
    "# Print baby_names\n",
    "print(baby_names)\n",
    "\n",
    "# Find the position of 'Aliza': position\n",
    "position = baby_names.index('Aliza')\n",
    "\n",
    "# TODO. Find all positions that 'Aliza' occurs\n",
    "positions = [i for i, name in enumerate(baby_names) if name == 'Aliza']\n",
    "\n",
    "# Print baby_names\n",
    "print(positions)\n"
   ]
  },
  {
   "cell_type": "markdown",
   "metadata": {
    "id": "I7_dZSRJUPwE"
   },
   "source": [
    "#### 3. Common Mistake. What are the types of the following variables?"
   ]
  },
  {
   "cell_type": "code",
   "execution_count": null,
   "metadata": {
    "id": "UBYfCcPEUPwE",
    "outputId": "d8b2a527-0ed2-4f49-e763-db74f6b3a883",
    "tags": []
   },
   "outputs": [
    {
     "name": "stdout",
     "output_type": "stream",
     "text": [
      "<class 'str'>\n",
      "<class 'tuple'>\n"
     ]
    }
   ],
   "source": [
    "# 3. Common mistake\n",
    "# Understand the tuple type\n",
    "# Create the normal variable: normal\n",
    "normal = 'simple'\n",
    "# Create the mistaken variable: error\n",
    "error = 'trailing comma', \n",
    "# TODO. Print the types of the variables\n",
    "print(type(normal))\n",
    "print(type(error))"
   ]
  },
  {
   "cell_type": "markdown",
   "metadata": {
    "id": "rXvjSzfoUPwE"
   },
   "source": [
    "#### 4. Set Operations. Get the union and intersection of girl_names and boy_names"
   ]
  },
  {
   "cell_type": "code",
   "execution_count": null,
   "metadata": {
    "id": "dUhuGhiaUPwE",
    "tags": []
   },
   "outputs": [],
   "source": [
    "# Lists of baby names\n",
    "girl_names = ['ALEXIS', 'BLAKE', 'HAZEL', 'ISABELA', 'JAMIE']\n",
    "boy_names = ['AARON', 'ALEXIS', 'ARMAAN', 'BLAKE', 'DARREN', 'HENRY', 'JOHN', 'MARCUS']\n",
    "\n",
    "# TODO. Convert lists to sets\n",
    "girl_names_set = set(girl_names)\n",
    "boy_names_set = set(boy_names)\n",
    "# TODO. Find the union: all_names\n",
    "all_names = girl_names_set.union(boy_names_set)\n",
    "# TODO. Print the number of names in all_names \n",
    "print(len(all_names))\n",
    "# TODO. Find the intersection: overlapping_names\n",
    "overlapping_names = girl_names_set.intersection(boy_names_set)\n",
    "# Alternatively, you can choose the following.\n",
    "# overlapping_names = girl_names_set & boy_names_set\n",
    "# TODO. Print the number of names in overlapping_names \n",
    "print(len(overlapping_names))"
   ]
  },
  {
   "cell_type": "markdown",
   "metadata": {
    "id": "w_9YknUbUPwE",
    "tags": []
   },
   "source": [
    "#### 5. Dictionary Manipulation. Print out the following.\n",
    "the capital of spain is madrid  \n",
    "the capital of france is paris  \n",
    "the capital of germany is bonn  \n",
    "the capital of norway is oslo  \n",
    "the capital of italy is rome  \n",
    "the capital of poland is warsaw  \n",
    "the capital of australia is vienna "
   ]
  },
  {
   "cell_type": "code",
   "execution_count": null,
   "metadata": {
    "id": "aC4axU9CUPwE",
    "outputId": "d3ba4c96-8a0a-491f-d00e-b1b17675a137",
    "tags": []
   },
   "outputs": [
    {
     "name": "stdout",
     "output_type": "stream",
     "text": [
      "dict_keys(['spain', 'france', 'germany', 'norway'])\n",
      "oslo\n",
      "True\n",
      "{'spain': 'madrid', 'france': 'paris', 'germany': 'berlin', 'norway': 'oslo', 'italy': 'rome', 'poland': 'warsaw'}\n",
      "{'spain': 'madrid', 'france': 'paris', 'germany': 'berlin', 'norway': 'oslo', 'italy': 'rome', 'england': 'london', 'nethaland': 'amsterdam'}\n"
     ]
    }
   ],
   "source": [
    "# Definition of dictionary\n",
    "europe = {'spain':'madrid', 'france':'paris', 'germany':'berlin', 'norway':'oslo' }\n",
    "\n",
    "# Print out the keys in europe\n",
    "print(europe.keys())\n",
    "# Print out value that belongs to key 'norway'\n",
    "print(europe['norway'])\n",
    "\n",
    "# Add italy to europe\n",
    "europe['italy']='rome'\n",
    "# Print out italy in europe\n",
    "print('italy' in europe)\n",
    "\n",
    "# Add poland to europe\n",
    "europe['poland']='warsaw'\n",
    "# Print europe\n",
    "print(europe)\n",
    "\n",
    "# Update capital of england to london, that of nethaland to amsterdam\n",
    "europe.update({'england':'london', 'nethaland':'amsterdam'})\n",
    "europe.update(england='london', nethaland='amsterdam')\n",
    "\n",
    "# Remove poland\n",
    "del(europe['poland'])\n",
    "\n",
    "# Print europe\n",
    "print(europe)"
   ]
  },
  {
   "cell_type": "code",
   "execution_count": null,
   "metadata": {
    "id": "qTWg9e11UPwE",
    "outputId": "d2a88767-7030-4903-d553-396ab1e88f2f",
    "tags": []
   },
   "outputs": [
    {
     "name": "stdout",
     "output_type": "stream",
     "text": [
      "the capital of spain is madrid\n",
      "the capital of france is paris\n",
      "the capital of germany is berlin\n",
      "the capital of norway is oslo\n",
      "the capital of italy is rome\n",
      "the capital of england is london\n",
      "the capital of nethaland is amsterdam\n"
     ]
    }
   ],
   "source": [
    "#################### TODO ####################\n",
    "# Iterate over europe to print out the following output\n",
    "for key, value in europe.items() :\n",
    "     print(\"the capital of \"+ key +\" is \"+ value)\n",
    "##############################################"
   ]
  },
  {
   "cell_type": "markdown",
   "metadata": {
    "id": "kOB44qMMUPwE"
   },
   "source": [
    "Getting Values from Dictionary"
   ]
  },
  {
   "cell_type": "code",
   "execution_count": null,
   "metadata": {
    "id": "9GRvikaUUPwF",
    "tags": []
   },
   "outputs": [],
   "source": [
    "# Where is capital of spain? Search europe for that. \n",
    "print(europe.get('spain'))\n",
    "# What is the type of the following?\n",
    "print(type(europe.get('korea')))\n",
    "# Print the capital of japan or \"NotFound\"\n",
    "print('japan: {}'.format(europe.get('japan', 'NotFound')))\n",
    "# TODO. Get the default value of key korea as 'NotFound'\n",
    "europe.setdefault('korea', 'NotFound')\n",
    "print('korea: {}'.format(europe.get('korea')))\n",
    "print(europe)"
   ]
  },
  {
   "cell_type": "markdown",
   "metadata": {
    "id": "n79uvywBUPwF",
    "tags": []
   },
   "source": [
    "#### 6. Dictionary of Dictionaries. Define a dictionary of dictionaries, and add data to the dictionary"
   ]
  },
  {
   "cell_type": "code",
   "execution_count": null,
   "metadata": {
    "id": "iVT02nFoUPwF",
    "tags": []
   },
   "outputs": [],
   "source": [
    "# Dictionary of dictionaries\n",
    "europe = { 'spain': { 'capital':'madrid', 'population':46.77 },\n",
    "           'france': { 'capital':'paris', 'population':66.03 },\n",
    "           'germany': { 'capital':'berlin', 'population':80.62 },\n",
    "           'norway': { 'capital':'oslo', 'population':5.084 } }\n",
    "\n",
    "\n",
    "# Print out the capital of France\n",
    "print(europe['france']['capital'])\n",
    "\n",
    "# Create sub-dictionary data\n",
    "data = {'capital':'rome','population':59.83}\n",
    "\n",
    "#################### TODO ####################\n",
    "# TODO. Add data to europe under key 'italy'\n",
    "europe['italy']=data\n",
    "##############################################\n",
    "\n",
    "# Print europe\n",
    "print(europe)"
   ]
  },
  {
   "cell_type": "markdown",
   "metadata": {
    "id": "0sJPGEi_UPwF",
    "tags": []
   },
   "source": [
    "## Sets"
   ]
  },
  {
   "cell_type": "code",
   "execution_count": null,
   "metadata": {
    "id": "lOAzmdT5UPwF"
   },
   "outputs": [],
   "source": [
    "ash_pokedex = ['Pikachu', 'Bulbasaur', 'Koffing', 'Spearow', 'Vulpix', 'Wigglytuff', 'Zubat', 'Rattata', 'Psyduck', 'Squirtle']\n",
    "misty_pokedex = ['Krabby', 'Horsea', 'Slowbro', 'Tentacool', 'Vaporeon', 'Magikarp', 'Poliwag', 'Starmie', 'Psyduck', 'Squirtle']\n",
    "brock_pokedex = ['Onix', 'Geodude', 'Zubat', 'Golem', 'Vulpix', 'Tauros', 'Kabutops', 'Omastar', 'Machop', 'Dugtrio']"
   ]
  },
  {
   "cell_type": "code",
   "execution_count": null,
   "metadata": {
    "id": "y3tpF8MvUPwF"
   },
   "outputs": [],
   "source": [
    "## Comparing Pokedexes\n",
    "# Convert both lists to sets\n",
    "ash_set = set(ash_pokedex)\n",
    "misty_set = set(misty_pokedex)"
   ]
  },
  {
   "cell_type": "markdown",
   "metadata": {
    "id": "fjrsa8ycUPwF"
   },
   "source": [
    "#### 7. Find the Pokémon that exist in both sets."
   ]
  },
  {
   "cell_type": "code",
   "execution_count": null,
   "metadata": {
    "id": "Q928LIGBUPwF",
    "outputId": "1de15a4d-bc4e-44e9-b303-296f0596fc04"
   },
   "outputs": [
    {
     "name": "stdout",
     "output_type": "stream",
     "text": [
      "{'Squirtle', 'Psyduck'}\n",
      "{'Squirtle', 'Psyduck'}\n"
     ]
    }
   ],
   "source": [
    "#################### TODO ####################\n",
    "# Compute the Pokémons that exist in both sets.\n",
    "both = ash_set & misty_set\n",
    "print(both)\n",
    "both = ash_set.intersection(misty_set)\n",
    "print(both)\n",
    "##############################################"
   ]
  },
  {
   "cell_type": "code",
   "execution_count": null,
   "metadata": {
    "id": "NY_mURhVUPwF",
    "outputId": "39e3d2f6-c53b-4f29-9b93-77b368c4f0fd"
   },
   "outputs": [
    {
     "name": "stdout",
     "output_type": "stream",
     "text": [
      "{'Vulpix', 'Zubat', 'Wigglytuff', 'Koffing', 'Spearow', 'Pikachu', 'Bulbasaur', 'Rattata'}\n"
     ]
    }
   ],
   "source": [
    "# Find the Pokémon that Ash has and Misty does not have\n",
    "ash_only = ash_set.difference(misty_set)\n",
    "print(ash_only)"
   ]
  },
  {
   "cell_type": "markdown",
   "metadata": {
    "id": "OwkaqZ4aUPwF"
   },
   "source": [
    "#### 8. Find the Pokémon that are in only one set (not both)"
   ]
  },
  {
   "cell_type": "code",
   "execution_count": 77,
   "metadata": {
    "colab": {
     "base_uri": "https://localhost:8080/"
    },
    "executionInfo": {
     "elapsed": 505,
     "status": "ok",
     "timestamp": 1663567882310,
     "user": {
      "displayName": "­우지민",
      "userId": "16423887003847635019"
     },
     "user_tz": -540
    },
    "id": "OTo8zt99UPwF",
    "outputId": "d9ac4c68-fd4d-4f29-9628-a53f21dfd55c"
   },
   "outputs": [
    {
     "name": "stdout",
     "output_type": "stream",
     "text": [
      "{'Krabby', 'Slowbro', 'Poliwag', 'Vaporeon', 'Starmie', 'Wigglytuff', 'Bulbasaur', 'Spearow', 'Rattata', 'Vulpix', 'Pikachu', 'Magikarp', 'Koffing', 'Horsea', 'Tentacool', 'Zubat'}\n"
     ]
    }
   ],
   "source": [
    "# Find the Pokémon that are in only one set (not both)\n",
    "unique_to_set = ash_set.symmetric_difference(misty_set)\n",
    "print(unique_to_set)"
   ]
  },
  {
   "cell_type": "code",
   "execution_count": 78,
   "metadata": {
    "colab": {
     "base_uri": "https://localhost:8080/"
    },
    "executionInfo": {
     "elapsed": 389,
     "status": "ok",
     "timestamp": 1663567884304,
     "user": {
      "displayName": "­우지민",
      "userId": "16423887003847635019"
     },
     "user_tz": -540
    },
    "id": "XYGH_zScUPwF",
    "outputId": "6f5bb469-ee09-4214-8ac7-a19c5162fc9b"
   },
   "outputs": [
    {
     "name": "stdout",
     "output_type": "stream",
     "text": [
      "{'Geodude', 'Vulpix', 'Omastar', 'Machop', 'Zubat', 'Dugtrio', 'Onix', 'Tauros', 'Golem', 'Kabutops'}\n",
      "{'Bulbasaur', 'Spearow', 'Rattata', 'Squirtle', 'Vulpix', 'Pikachu', 'Zubat', 'Psyduck', 'Koffing', 'Wigglytuff'}\n"
     ]
    }
   ],
   "source": [
    "## Searching for Pokémon\n",
    "# Convert Brock's Pokédex to a set\n",
    "brock_pokedex_set = set(brock_pokedex)\n",
    "print(brock_pokedex_set)\n",
    "ash_pokedex_set = set(ash_pokedex)\n",
    "print(ash_pokedex_set)"
   ]
  },
  {
   "cell_type": "code",
   "execution_count": 79,
   "metadata": {
    "colab": {
     "base_uri": "https://localhost:8080/"
    },
    "executionInfo": {
     "elapsed": 2,
     "status": "ok",
     "timestamp": 1663567886144,
     "user": {
      "displayName": "­우지민",
      "userId": "16423887003847635019"
     },
     "user_tz": -540
    },
    "id": "84gIwY5lUPwG",
    "outputId": "fd4a9d73-3edb-4c62-e891-878a60a960f5"
   },
   "outputs": [
    {
     "name": "stdout",
     "output_type": "stream",
     "text": [
      "False\n",
      "False\n"
     ]
    }
   ],
   "source": [
    "# Check if Psyduck is in Brock's list and Ash's list\n",
    "print('Psyduck' in brock_pokedex)\n",
    "print('Machop' in ash_pokedex)"
   ]
  },
  {
   "cell_type": "code",
   "execution_count": 80,
   "metadata": {
    "executionInfo": {
     "elapsed": 372,
     "status": "ok",
     "timestamp": 1663567887929,
     "user": {
      "displayName": "­우지민",
      "userId": "16423887003847635019"
     },
     "user_tz": -540
    },
    "id": "5TF6pCXsUPwG"
   },
   "outputs": [],
   "source": [
    "# Within your IPython console, \n",
    "# use %timeit to compare membership testing  \n",
    "# for 'Psyduck' in ash_pokedex, 'Psyduck' in brock_pokedex_set and brock_pokedex\n",
    "# 'Machop' in ash_pokedex_set, and ash_pokedex (a total of four different timings)."
   ]
  },
  {
   "cell_type": "code",
   "execution_count": 81,
   "metadata": {
    "colab": {
     "base_uri": "https://localhost:8080/"
    },
    "executionInfo": {
     "elapsed": 25457,
     "status": "ok",
     "timestamp": 1663567914991,
     "user": {
      "displayName": "­우지민",
      "userId": "16423887003847635019"
     },
     "user_tz": -540
    },
    "id": "UzO4tyW4UPwG",
    "outputId": "3db995c1-6b3c-4de5-e920-4316d604198e"
   },
   "outputs": [
    {
     "name": "stdout",
     "output_type": "stream",
     "text": [
      "52.5 ns ± 1.08 ns per loop (mean ± std. dev. of 7 runs, 10000000 loops each)\n",
      "202 ns ± 7.45 ns per loop (mean ± std. dev. of 7 runs, 1000000 loops each)\n",
      "52.9 ns ± 3.55 ns per loop (mean ± std. dev. of 7 runs, 10000000 loops each)\n",
      "187 ns ± 1.04 ns per loop (mean ± std. dev. of 7 runs, 10000000 loops each)\n"
     ]
    }
   ],
   "source": [
    "#################### TODO ####################\n",
    "%timeit 'Psyduck' in brock_pokedex_set\n",
    "%timeit 'Psyduck' in brock_pokedex\n",
    "%timeit 'Machop' in ash_pokedex_set\n",
    "%timeit 'Machop' in ash_pokedex\n",
    "##############################################"
   ]
  },
  {
   "cell_type": "code",
   "execution_count": 82,
   "metadata": {
    "executionInfo": {
     "elapsed": 16,
     "status": "ok",
     "timestamp": 1663567914991,
     "user": {
      "displayName": "­우지민",
      "userId": "16423887003847635019"
     },
     "user_tz": -540
    },
    "id": "TZdofmdJUPwG"
   },
   "outputs": [],
   "source": [
    "## Gathering unique Pokémon\n",
    "def find_unique_items(data):\n",
    "    uniques = []\n",
    "\n",
    "    for item in data:\n",
    "        if item not in uniques:\n",
    "            uniques.append(item)\n",
    "\n",
    "    return uniques"
   ]
  },
  {
   "cell_type": "code",
   "execution_count": null,
   "metadata": {
    "colab": {
     "base_uri": "https://localhost:8080/"
    },
    "executionInfo": {
     "elapsed": 16,
     "status": "ok",
     "timestamp": 1663567914992,
     "user": {
      "displayName": "­우지민",
      "userId": "16423887003847635019"
     },
     "user_tz": -540
    },
    "id": "jjwbzajAUPwG",
    "outputId": "6f5cc9a3-2cef-40c4-f629-c8d932ee344e"
   },
   "outputs": [],
   "source": [
    "# Use find_unique_items() to collect unique Pokémon names\n",
    "names = ash_pokedex + misty_pokedex + brock_pokedex\n",
    "uniq_names_func = find_unique_items(names)\n",
    "print(len(ash_pokedex) + len(misty_pokedex) + len(brock_pokedex))\n",
    "print(uniq_names_func)\n",
    "print(len(uniq_names_func))\n",
    "\n",
    "# Convert the names list to a set to collect unique Pokémon names\n",
    "uniq_names_set = set(names)\n",
    "print(len(uniq_names_set))"
   ]
  },
  {
   "cell_type": "code",
   "execution_count": 84,
   "metadata": {
    "colab": {
     "base_uri": "https://localhost:8080/"
    },
    "executionInfo": {
     "elapsed": 15,
     "status": "ok",
     "timestamp": 1663567914992,
     "user": {
      "displayName": "­우지민",
      "userId": "16423887003847635019"
     },
     "user_tz": -540
    },
    "id": "EzA2CxZKUPwG",
    "outputId": "08115693-abab-4aae-a708-2f8d31a9f518"
   },
   "outputs": [
    {
     "name": "stdout",
     "output_type": "stream",
     "text": [
      "True\n"
     ]
    }
   ],
   "source": [
    "# Check that both unique collections are equivalent\n",
    "print(sorted(uniq_names_func) == sorted(uniq_names_set))"
   ]
  },
  {
   "cell_type": "code",
   "execution_count": null,
   "metadata": {
    "id": "u1ljbyU1UPwG"
   },
   "outputs": [],
   "source": [
    "# Use the best approach to collect unique primary types and generations\n",
    "primary_types = ['water', 'rock', 'water', 'fire']\n",
    "generations = [1, 2, 3, 2, 3, 4, 5]\n",
    "uniq_types = set(primary_types) \n",
    "uniq_gens = set(generations)\n",
    "print(uniq_types, uniq_gens, sep='\\n') "
   ]
  },
  {
   "cell_type": "code",
   "execution_count": null,
   "metadata": {
    "id": "9yepJdOTUPwG",
    "tags": []
   },
   "outputs": [],
   "source": [
    "%timeit uniq_names_list = find_unique_items(names)\n",
    "%timeit uniq_names_set = set(names)"
   ]
  },
  {
   "cell_type": "markdown",
   "metadata": {
    "id": "Eei9XvLCUPwG"
   },
   "source": [
    "## Functions"
   ]
  },
  {
   "cell_type": "markdown",
   "metadata": {
    "id": "v0Z8xgNbUPwG",
    "tags": []
   },
   "source": [
    "#### 9. Squared Sum. Write a function sumSquared(n) calculating the squared sum from 1 to n: $$1^2 + 2^2 + ... + n^2$$"
   ]
  },
  {
   "cell_type": "code",
   "execution_count": null,
   "metadata": {
    "id": "XLTEyGd8UPwG",
    "tags": []
   },
   "outputs": [],
   "source": [
    "# Write a function calculating the squared sum from 1 to n\n",
    "# Iterative function\n",
    "def sumSquared(n):\n",
    "    s = 0\n",
    "    for i in range(1, n+1):\n",
    "        s = s + i * i\n",
    "    return s\n",
    "\n",
    "sumSquared(3)"
   ]
  },
  {
   "cell_type": "code",
   "execution_count": null,
   "metadata": {
    "id": "NFi9qVsnUPwG",
    "tags": []
   },
   "outputs": [],
   "source": [
    "# Recursive function\n",
    "def sumSquared(n):\n",
    "    if n == 0:\n",
    "        return 0\n",
    "    return sumSquared(n-1) + n * n\n",
    "\n",
    "sumSquared(3)"
   ]
  },
  {
   "cell_type": "code",
   "execution_count": null,
   "metadata": {
    "id": "JaPT5g_LUPwG",
    "tags": []
   },
   "outputs": [],
   "source": [
    "# List comprehension\n",
    "def sumSquared(n):\n",
    "    #################### TODO ####################\n",
    "    return sum([i*i for i in range(1, n+1)])\n",
    "    ##############################################\n",
    "\n",
    "sumSquared(3)"
   ]
  },
  {
   "cell_type": "markdown",
   "metadata": {
    "id": "e805LNjsUPwG"
   },
   "source": [
    "#### 10. Fibonacci Numbers. Write a function returning the Fibonacci sequence with length of n"
   ]
  },
  {
   "cell_type": "code",
   "execution_count": null,
   "metadata": {
    "id": "mE3_xvzeUPwG"
   },
   "outputs": [],
   "source": [
    "# Write a function returning the nth element of Fibonacci sequence\n",
    "# Assume n is always given as n >= 0.\n",
    "def fibo(n):\n",
    "    if n <= 1:\n",
    "        return n\n",
    "    return fibo(n-2) + fibo(n-1)\n",
    "\n",
    "def fiboIter(n):\n",
    "    if n <= 1:\n",
    "        return n\n",
    "    a = 0\n",
    "    b = 1\n",
    "    for _ in range(n-1):\n",
    "        c = a + b\n",
    "        a = b\n",
    "        b = c      \n",
    "    return b\n",
    "\n",
    "# TODO.\n",
    "# Write a function returning a list of Fibonacci sequence with length of n\n",
    "def fiboSequence(n):\n",
    "    seq = []\n",
    "    for k in range(n):\n",
    "        seq.append(fiboIter(k))\n",
    "    return seq\n",
    "\n",
    "print(fiboSequence(10))"
   ]
  },
  {
   "cell_type": "markdown",
   "metadata": {
    "id": "uDKvPljlUPwH"
   },
   "source": [
    "## Pythonic Approach"
   ]
  },
  {
   "cell_type": "markdown",
   "metadata": {
    "id": "22mYfFQyUPwH",
    "tags": []
   },
   "source": [
    "#### 11. Print a list of strings with first five characters of the strings in list \"names\""
   ]
  },
  {
   "cell_type": "code",
   "execution_count": null,
   "metadata": {
    "id": "r9gw1JMpUPwH"
   },
   "outputs": [],
   "source": [
    "# using Non-Pythonic approach\n",
    "names = ['Jerry', 'Kramer', 'John', 'Elaine', 'George', 'Newman', 'Jane','Bensmaia','Schweighofer']\n",
    "i = 0\n",
    "new_list= []\n",
    "while i < len(names):\n",
    "    if len(names[i]) <= 5:\n",
    "        new_list.append(names[i])\n",
    "    else:\n",
    "        new_list.append(names[i][:5])\n",
    "    i += 1\n",
    "print(new_list)"
   ]
  },
  {
   "cell_type": "code",
   "execution_count": null,
   "metadata": {
    "id": "8buWJGFRUPwH",
    "tags": []
   },
   "outputs": [],
   "source": [
    "#################### TODO ####################\n",
    "# Print the list with the first 5 characters of each name (same as the above list) in \"names\"\n",
    "# Must use for loop\n",
    "better_list = []\n",
    "for name in names:\n",
    "    if len(name) <= 5:\n",
    "        better_list.append(name)\n",
    "    else:\n",
    "        better_list.append(name[:5])\n",
    "print(better_list)\n",
    "##############################################"
   ]
  },
  {
   "cell_type": "code",
   "execution_count": null,
   "metadata": {
    "id": "B4vS7IqQUPwH",
    "tags": []
   },
   "outputs": [],
   "source": [
    "#################### TODO ####################\n",
    "# Print the same list by using list comprehension\n",
    "best_list = [name if len(name)<=5 else name[:5] for name in names]\n",
    "print(best_list)\n",
    "##############################################"
   ]
  },
  {
   "cell_type": "markdown",
   "metadata": {
    "id": "qQYOlPA5UPwH"
   },
   "source": [
    "## Built-In Functions: range(), enumerate(), map(), filter()"
   ]
  },
  {
   "cell_type": "markdown",
   "metadata": {
    "id": "Xz4aPgUZUPwH",
    "tags": []
   },
   "source": [
    "#### enumerate()"
   ]
  },
  {
   "cell_type": "code",
   "execution_count": null,
   "metadata": {
    "id": "fTym19v7UPwH",
    "tags": []
   },
   "outputs": [],
   "source": [
    "# Rewrite the for loop to use enumerate\n",
    "indexed_names = []\n",
    "for i,name in enumerate(names):\n",
    "    index_name = (i,name)\n",
    "    indexed_names.append(index_name) \n",
    "print(indexed_names)"
   ]
  },
  {
   "cell_type": "markdown",
   "metadata": {
    "id": "AmuHzUa4UPwH",
    "tags": []
   },
   "source": [
    "#### 12. Rewrite the above for loop using list comprehension: indexed_names_comp"
   ]
  },
  {
   "cell_type": "code",
   "execution_count": null,
   "metadata": {
    "id": "HVwt8RVOUPwH",
    "tags": []
   },
   "outputs": [],
   "source": [
    "#################### TODO ####################\n",
    "# Rewrite the above for loop using list comprehension\n",
    "indexed_names_comp = [(i,name) for i,name in enumerate(names)]\n",
    "print(indexed_names_comp)\n",
    "##############################################"
   ]
  },
  {
   "cell_type": "code",
   "execution_count": null,
   "metadata": {
    "id": "nJD9HS94UPwH",
    "tags": []
   },
   "outputs": [],
   "source": [
    "# Unpack an enumerate object with a starting index of one\n",
    "indexed_names_unpack = [*enumerate(names, start=1)]\n",
    "print(indexed_names_unpack)"
   ]
  },
  {
   "cell_type": "markdown",
   "metadata": {
    "id": "I31Mwn1-UPwH",
    "tags": []
   },
   "source": [
    "#### map()\n",
    "map(function, iterable, ...)"
   ]
  },
  {
   "cell_type": "code",
   "execution_count": null,
   "metadata": {
    "id": "skGth9BeUPwH"
   },
   "outputs": [],
   "source": [
    "# Use map to apply str.upper to each element in names\n",
    "names_map  = map(str.upper, names)\n",
    "\n",
    "# Print the type of names_map\n",
    "print(type(names_map))\n",
    "\n",
    "#################### TODO ####################\n",
    "# Unpack names_map into a list \"names_uppercase\"\n",
    "names_uppercase = [*names_map]\n",
    "##############################################\n",
    "\n",
    "# Print the list created above\n",
    "print(names_uppercase)"
   ]
  },
  {
   "cell_type": "code",
   "execution_count": null,
   "metadata": {
    "id": "B9BFA7TXUPwI",
    "outputId": "e4894034-ec02-4263-d07c-9c1ba1369b08"
   },
   "outputs": [
    {
     "name": "stdout",
     "output_type": "stream",
     "text": [
      "<map object at 0x10809ed00>\n",
      "[5, 7, 9]\n"
     ]
    }
   ],
   "source": [
    "numbers1 = [1, 2, 3] \n",
    "numbers2 = [4, 5, 6] \n",
    "  \n",
    "result = map(lambda x, y: x + y, numbers1, numbers2) \n",
    "result_list = [*map(lambda x, y: x + y, numbers1, numbers2)] \n",
    "print(result)\n",
    "print(result_list)"
   ]
  },
  {
   "cell_type": "markdown",
   "metadata": {
    "id": "IwMQJYJ8UPwI",
    "tags": []
   },
   "source": [
    "#### 13. Print a list of list_numbers[i] * tuple_numbers[i] for every index i from 0 to len(list_numbers)"
   ]
  },
  {
   "cell_type": "code",
   "execution_count": null,
   "metadata": {
    "id": "_Y71vXWzUPwI",
    "outputId": "60821d05-bc0f-46ca-911c-468ae9b2fa5f"
   },
   "outputs": [
    {
     "name": "stdout",
     "output_type": "stream",
     "text": [
      "[5, 12, 21, 32]\n"
     ]
    }
   ],
   "source": [
    "#################### TODO ####################\n",
    "# Print a list of list_numbers[i] * tuple_numbers[i] for every index i from 0 to len(list_numbers)\n",
    "list_numbers = [1, 2, 3, 4]\n",
    "tuple_numbers = (5, 6, 7, 8)\n",
    "map_iterator = [*map(lambda x, y: x * y, list_numbers, tuple_numbers)]\n",
    "print(map_iterator)\n",
    "##############################################"
   ]
  },
  {
   "cell_type": "code",
   "execution_count": null,
   "metadata": {
    "id": "QS5QXvb9UPwI",
    "outputId": "69687921-8bdf-4e31-c2e2-b313f07135e1"
   },
   "outputs": [
    {
     "name": "stdout",
     "output_type": "stream",
     "text": [
      "[5, 12, 21, 32]\n"
     ]
    }
   ],
   "source": [
    "#################### TODO ####################\n",
    "# Still we can get the result although list_numbers and tuple_numbers2 have different sizes.\n",
    "# with the map function.\n",
    "list_numbers = [1, 2, 3, 4]\n",
    "tuple_numbers2 = (5, 6, 7, 8, 9)\n",
    "map_iterator2 = [*map(lambda x, y: x * y, list_numbers, tuple_numbers)]\n",
    "print(map_iterator2)\n",
    "##############################################"
   ]
  },
  {
   "cell_type": "code",
   "execution_count": null,
   "metadata": {
    "id": "-4liUvteUPwI",
    "outputId": "95fd68e4-e4ad-4f6d-c2bc-f42ececc053d"
   },
   "outputs": [
    {
     "name": "stdout",
     "output_type": "stream",
     "text": [
      "[10, 400, 27000, 2560000, 312500000]\n"
     ]
    }
   ],
   "source": [
    "bases=[10, 20, 30, 40, 50]\n",
    "index=[1, 2, 3, 4, 5]\n",
    "powers=list(map(pow, bases, index))\n",
    "powers_better = [*map(pow, bases, index)]\n",
    "print(powers_better)"
   ]
  },
  {
   "cell_type": "code",
   "execution_count": null,
   "metadata": {
    "id": "j3LYz1fUUPwI"
   },
   "outputs": [],
   "source": [
    "## map() can even have a list of functions instead of a list of data\n",
    "def multiply(x):\n",
    "    return (x*x)\n",
    "def add(x):\n",
    "    return (x+x)\n",
    "\n",
    "funcs = [multiply, add]\n",
    "for i in range(5):\n",
    "    value = list(map(lambda x: x(i), funcs))\n",
    "    print(value)"
   ]
  },
  {
   "cell_type": "markdown",
   "metadata": {
    "id": "7CLGTt_KUPwI",
    "tags": []
   },
   "source": [
    "#### filter()\n",
    "filter(function, iterable)"
   ]
  },
  {
   "cell_type": "code",
   "execution_count": null,
   "metadata": {
    "id": "F6AQbe-KUPwI"
   },
   "outputs": [],
   "source": [
    "creature_names = ['Sammy', 'Ashley', 'Jo', 'Olly', 'Jackie', 'Charlie']"
   ]
  },
  {
   "cell_type": "code",
   "execution_count": null,
   "metadata": {
    "id": "dzdjqHzaUPwI"
   },
   "outputs": [],
   "source": [
    "print(*filter(lambda x: x[0].lower() in 'aeiou', creature_names))"
   ]
  },
  {
   "cell_type": "markdown",
   "metadata": {
    "id": "thQFMtciUPwI",
    "tags": []
   },
   "source": [
    "#### 14. Compute \"less_than_zero2\" exactly same as \"less_than_zero\" above by using list comprehension. Measure the running time of this computation with %timeit."
   ]
  },
  {
   "cell_type": "code",
   "execution_count": 3,
   "metadata": {
    "id": "5-4br44zUPwI"
   },
   "outputs": [
    {
     "name": "stdout",
     "output_type": "stream",
     "text": [
      "467 ns ± 3.14 ns per loop (mean ± std. dev. of 7 runs, 1000000 loops each)\n",
      "None\n"
     ]
    }
   ],
   "source": [
    "#################### TODO ####################\n",
    "number_list = range(-5, 5)\n",
    "less_than_zero = [*filter(lambda x: x < 0, number_list)]\n",
    "print(less_than_zero)\n",
    "##############################################"
   ]
  },
  {
   "cell_type": "code",
   "execution_count": 4,
   "metadata": {
    "id": "JOW8U0sXUPwI"
   },
   "outputs": [
    {
     "name": "stdout",
     "output_type": "stream",
     "text": [
      "302 ns ± 0.64 ns per loop (mean ± std. dev. of 7 runs, 1000000 loops each)\n",
      "None\n"
     ]
    }
   ],
   "source": [
    "#################### TODO ####################\n",
    "less_than_zero2 = [k for k in number_list if k<0]\n",
    "print(less_than_zero2)\n",
    "##############################################"
   ]
  }
 ],
 "metadata": {
  "colab": {
   "provenance": []
  },
  "kernelspec": {
   "display_name": "Python 3 (ipykernel)",
   "language": "python",
   "name": "python3"
  },
  "language_info": {
   "codemirror_mode": {
    "name": "ipython",
    "version": 3
   },
   "file_extension": ".py",
   "mimetype": "text/x-python",
   "name": "python",
   "nbconvert_exporter": "python",
   "pygments_lexer": "ipython3",
   "version": "3.11.5"
  }
 },
 "nbformat": 4,
 "nbformat_minor": 4
}

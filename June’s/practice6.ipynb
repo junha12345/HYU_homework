{
 "cells": [
  {
   "cell_type": "markdown",
   "metadata": {
    "id": "Z94DX4sZZ91m",
    "tags": []
   },
   "source": [
    "# Practice 6: Writing Better Functions"
   ]
  },
  {
   "cell_type": "markdown",
   "metadata": {
    "id": "Lxr8xMPyZ91q"
   },
   "source": [
    "## Decorator Guide \n"
   ]
  },
  {
   "cell_type": "markdown",
   "metadata": {
    "id": "oVyGKIvcZ91q"
   },
   "source": [
    "### Decorator Basics"
   ]
  },
  {
   "cell_type": "markdown",
   "metadata": {
    "id": "jIpWH81zZ91r"
   },
   "source": [
    "#### Python's functions are objects"
   ]
  },
  {
   "cell_type": "code",
   "execution_count": 3,
   "metadata": {
    "id": "3RipCMJMZ91r",
    "outputId": "9c2bd3e9-f78f-4499-cc79-9a385b7fd2a0",
    "tags": []
   },
   "outputs": [
    {
     "name": "stdout",
     "output_type": "stream",
     "text": [
      "Yes!\n",
      "Yes!\n",
      "name 'shout' is not defined\n",
      "Yes!\n"
     ]
    }
   ],
   "source": [
    "def shout(word='yes'):\n",
    "    return word.capitalize() + '!'\n",
    "\n",
    "print(shout())\n",
    "# outputs : 'Yes!'\n",
    "\n",
    "# As an object, you can assign the function to a variable like any\n",
    "# other object \n",
    "\n",
    "scream = shout\n",
    "\n",
    "# Notice we don’t use parentheses: we are not calling the function, we are\n",
    "# putting the function `shout` into the variable `scream`. \n",
    "# It means you can then call `shout` from `scream`:\n",
    "\n",
    "print(scream())\n",
    "# outputs : 'Yes!'\n",
    "\n",
    "# More than that, it means you can remove the old name `shout`, and\n",
    "# the function will still be accessible from `scream`\n",
    "\n",
    "del shout\n",
    "try:\n",
    "    print(shout())\n",
    "except NameError as e:\n",
    "    print(e)\n",
    "    #outputs: \"name 'shout' is not defined\"\n",
    "\n",
    "print(scream())\n",
    "# outputs: 'Yes!'"
   ]
  },
  {
   "cell_type": "markdown",
   "metadata": {
    "id": "Kv2lbuxsZ91s"
   },
   "source": [
    "#### Python functions can be defined inside another function!"
   ]
  },
  {
   "cell_type": "code",
   "execution_count": 4,
   "metadata": {
    "id": "l2BwfKhVZ91t"
   },
   "outputs": [
    {
     "name": "stdout",
     "output_type": "stream",
     "text": [
      "yes...\n",
      "name 'whisper' is not defined\n"
     ]
    }
   ],
   "source": [
    "def talk():\n",
    "\n",
    "    # You can define a function on the fly in `talk` ...\n",
    "    def whisper(word='yes'):\n",
    "        return word.lower() + '...'\n",
    "\n",
    "    # ... and use it right away!\n",
    "\n",
    "    print(whisper())\n",
    "\n",
    "# You call `talk`, that defines `whisper` EVERY TIME you call it, then\n",
    "# `whisper` is called in `talk`. \n",
    "talk()\n",
    "# outputs: \n",
    "# \"yes...\"\n",
    "\n",
    "# But `whisper` DOES NOT EXIST outside `talk`:\n",
    "\n",
    "try:\n",
    "    print(whisper())\n",
    "except NameError as e:\n",
    "    print(e)\n",
    "    #outputs : \"name 'whisper' is not defined\"*"
   ]
  },
  {
   "cell_type": "markdown",
   "metadata": {
    "id": "X1MFaVOmZ91t"
   },
   "source": [
    "#### Functions references\n",
    "You’ve seen that functions are objects. Therefore, functions:\n",
    "\n",
    "    can be assigned to a variable\n",
    "    can be defined in another function\n",
    "\n",
    "That means that a function can return another function."
   ]
  },
  {
   "cell_type": "code",
   "execution_count": 5,
   "metadata": {
    "id": "t51ktR15Z91u",
    "outputId": "6f23f73b-8529-402f-a9a9-0b12d6774144",
    "tags": []
   },
   "outputs": [
    {
     "name": "stdout",
     "output_type": "stream",
     "text": [
      "<function getTalk.<locals>.shout at 0x0000021DDCE923E0>\n"
     ]
    }
   ],
   "source": [
    "def getTalk(kind='shout'):\n",
    "\n",
    "    # We define functions on the fly\n",
    "    def shout(word='yes'):\n",
    "        return word.capitalize() + '!'\n",
    "\n",
    "    def whisper(word='yes'):\n",
    "        return word.lower() + '...'\n",
    "\n",
    "    # Then we return one of them\n",
    "    if kind == 'shout':\n",
    "        # We don’t use '()'. We are not calling the function;\n",
    "        # instead, we’re returning the function object\n",
    "        return shout  \n",
    "    else:\n",
    "        return whisper\n",
    "\n",
    "# How do you use this strange beast?\n",
    "\n",
    "# Get the function and assign it to a variable\n",
    "talk = getTalk()      \n",
    "\n",
    "# You can see that `talk` is here a function object: \n",
    "#함수를 변수로 지정하면 calloing function 해줘야한다(괄호 필요).\n",
    "print(talk)\n",
    "#outputs : <function shout at 0xb7ea817c>"
   ]
  },
  {
   "cell_type": "code",
   "execution_count": 6,
   "metadata": {
    "id": "bfmkC-h3Z91u",
    "outputId": "dacad092-f76d-4776-d3f1-4e38d12b38bd",
    "tags": []
   },
   "outputs": [
    {
     "name": "stdout",
     "output_type": "stream",
     "text": [
      "Yes!\n"
     ]
    }
   ],
   "source": [
    "# The object is the one returned by the function:\n",
    "print(talk())\n",
    "#outputs : Yes!"
   ]
  },
  {
   "cell_type": "code",
   "execution_count": 7,
   "metadata": {
    "id": "uniZxcCDZ91v",
    "outputId": "823ab62c-189a-4914-ce16-ddffe2e46f8b",
    "tags": []
   },
   "outputs": [
    {
     "name": "stdout",
     "output_type": "stream",
     "text": [
      "yes...\n"
     ]
    }
   ],
   "source": [
    "################################## TODO ##################################\n",
    "# And you can even use it directly if you feel wild: ???\n",
    "print(getTalk('whisper')())\n",
    "#outputs : yes..."
   ]
  },
  {
   "cell_type": "markdown",
   "metadata": {
    "id": "02djs3CXZ91v"
   },
   "source": [
    "If you can return a function, you can pass one as a parameter"
   ]
  },
  {
   "cell_type": "code",
   "execution_count": 8,
   "metadata": {
    "id": "zhNIlLY-Z91v",
    "tags": []
   },
   "outputs": [],
   "source": [
    "def doSomethingBefore(func): \n",
    "    print('I do something before then I call the function you gave me')\n",
    "    print(func())"
   ]
  },
  {
   "cell_type": "code",
   "execution_count": 9,
   "metadata": {
    "id": "yDMlO3SmZ91w",
    "outputId": "79c21c32-323c-4a38-f847-d0abba05c3c6",
    "tags": []
   },
   "outputs": [
    {
     "name": "stdout",
     "output_type": "stream",
     "text": [
      "I do something before then I call the function you gave me\n",
      "Yes!\n"
     ]
    }
   ],
   "source": [
    "################################## TODO ##################################\n",
    "doSomethingBefore(scream)\n",
    "\n",
    "#outputs: \n",
    "#I do something before then I call the function you gave me\n",
    "#Yes!"
   ]
  },
  {
   "cell_type": "markdown",
   "metadata": {
    "id": "DVWJZdJmZ91w"
   },
   "source": [
    "Well, you just have everything needed to understand decorators. You see, decorators are “wrappers”, which means that they let you execute code before and after the function they decorate without modifying the function itself."
   ]
  },
  {
   "cell_type": "markdown",
   "metadata": {
    "id": "8zd0fcGMZ91w"
   },
   "source": [
    "#### Handcrafted decorators"
   ]
  },
  {
   "cell_type": "code",
   "execution_count": 10,
   "metadata": {
    "id": "ZhgPE2HHZ91w",
    "outputId": "9f4876b0-75a2-47fb-d71f-71c6c4edea1c",
    "tags": []
   },
   "outputs": [
    {
     "name": "stdout",
     "output_type": "stream",
     "text": [
      "I am a stand alone function, don’t you dare modify me\n"
     ]
    }
   ],
   "source": [
    "# A decorator is a function that expects ANOTHER function as parameter\n",
    "def my_shiny_new_decorator(a_function_to_decorate):\n",
    "\n",
    "    # Inside, the decorator defines a function on the fly: the wrapper.\n",
    "    # This function is going to be wrapped around the original function\n",
    "    # so it can execute code before and after it.\n",
    "    def the_wrapper_around_the_original_function():\n",
    "\n",
    "        # Put here the code you want to be executed BEFORE the original \n",
    "        # function is called\n",
    "        print('Before the function runs')\n",
    "\n",
    "        # Call the function here (using parentheses)\n",
    "        a_function_to_decorate()\n",
    "\n",
    "        # Put here the code you want to be executed AFTER the original \n",
    "        # function is called\n",
    "        print('After the function runs')\n",
    "\n",
    "    # At this point, `a_function_to_decorate` HAS NEVER BEEN EXECUTED.\n",
    "    # We return the wrapper function we have just created.\n",
    "    # The wrapper contains the function and the code to execute before\n",
    "    # and after. It’s ready to use!\n",
    "    return the_wrapper_around_the_original_function\n",
    "\n",
    "# Now imagine you create a function you don’t want to ever touch again.\n",
    "def a_stand_alone_function():\n",
    "    print('I am a stand alone function, don’t you dare modify me')\n",
    "\n",
    "a_stand_alone_function() \n",
    "#outputs: I am a stand alone function, don't you dare modify me\n",
    "\n",
    "# Well, you can decorate it to extend its behavior.\n",
    "# Just pass it to the decorator, it will wrap it dynamically in \n",
    "# any code you want and return you a new function ready to be used:"
   ]
  },
  {
   "cell_type": "markdown",
   "metadata": {
    "id": "7gcte73qZ91w"
   },
   "source": [
    "Now, you probably want that every time you call a_stand_alone_function, a_stand_alone_function_decorated is called instead. That’s easy, just overwrite a_stand_alone_function with the function returned by my_shiny_new_decorator:"
   ]
  },
  {
   "cell_type": "code",
   "execution_count": 11,
   "metadata": {
    "id": "IM7TCZS0Z91x",
    "outputId": "247ba2e8-632e-49a0-e42b-b5f9c90640cc",
    "tags": []
   },
   "outputs": [
    {
     "name": "stdout",
     "output_type": "stream",
     "text": [
      "Before the function runs\n",
      "I am a stand alone function, don’t you dare modify me\n",
      "After the function runs\n"
     ]
    }
   ],
   "source": [
    "################################## TODO ##################################\n",
    "my_shiny_new_decorator(a_stand_alone_function)()\n",
    "\n",
    "#outputs:\n",
    "#Before the function runs\n",
    "#I am a stand alone function, don’t you dare modify me\n",
    "#After the function runs\n",
    "\n",
    "# And guess what? That’s EXACTLY what decorators do!"
   ]
  },
  {
   "cell_type": "markdown",
   "metadata": {
    "id": "0KknvPs4Z91x"
   },
   "source": [
    "#### Decorators demystified"
   ]
  },
  {
   "cell_type": "code",
   "execution_count": 12,
   "metadata": {
    "colab": {
     "base_uri": "https://localhost:8080/",
     "height": 248
    },
    "executionInfo": {
     "elapsed": 8,
     "status": "error",
     "timestamp": 1662360771906,
     "user": {
      "displayName": "­우지민",
      "userId": "16423887003847635019"
     },
     "user_tz": -540
    },
    "id": "cR0ISx87Z91x",
    "outputId": "db932628-058b-42ca-d0b9-3210a1542ae9",
    "tags": []
   },
   "outputs": [
    {
     "name": "stdout",
     "output_type": "stream",
     "text": [
      "Before the function runs\n",
      "Leave me alone\n",
      "After the function runs\n"
     ]
    }
   ],
   "source": [
    "@my_shiny_new_decorator\n",
    "def another_stand_alone_function():\n",
    "    print('Leave me alone')\n",
    "\n",
    "another_stand_alone_function()  \n",
    "#outputs:  \n",
    "#Before the function runs\n",
    "#Leave me alone\n",
    "#After the function runs"
   ]
  },
  {
   "cell_type": "markdown",
   "metadata": {
    "id": "4PxoP-a-Z91x"
   },
   "source": [
    "@decorator is just a shortcut to:"
   ]
  },
  {
   "cell_type": "code",
   "execution_count": 13,
   "metadata": {
    "id": "_5rcxfW5Z91x",
    "tags": []
   },
   "outputs": [],
   "source": [
    "another_stand_alone_function = my_shiny_new_decorator(another_stand_alone_function)"
   ]
  },
  {
   "cell_type": "markdown",
   "metadata": {
    "id": "GLwrNpViZ91x"
   },
   "source": [
    "Decorators are just a pythonic variant of the decorator design pattern. There are several classic design patterns embedded in Python to ease development (like iterators).\n",
    "\n",
    "Of course, you can accumulate decorators:"
   ]
  },
  {
   "cell_type": "code",
   "execution_count": 14,
   "metadata": {
    "id": "qjG0pGljZ91y",
    "outputId": "44055339-7cb5-470c-f338-ce74e46ac02d",
    "tags": []
   },
   "outputs": [
    {
     "name": "stdout",
     "output_type": "stream",
     "text": [
      "--ham--\n"
     ]
    }
   ],
   "source": [
    "def bread(func):\n",
    "    def wrapper():\n",
    "        print(\"</''''''\\>\")\n",
    "        func()\n",
    "        print(\"<\\______/>\")\n",
    "    return wrapper\n",
    "\n",
    "def ingredients(func):\n",
    "    def wrapper():\n",
    "        print('#tomatoes#')\n",
    "        func()\n",
    "        print('~salad~')\n",
    "    return wrapper\n",
    "\n",
    "def sandwich(food='--ham--'):\n",
    "    print(food)\n",
    "\n",
    "sandwich()\n",
    "#outputs: --ham--"
   ]
  },
  {
   "cell_type": "code",
   "execution_count": 15,
   "metadata": {
    "id": "YZQVnERJZ91y",
    "outputId": "a227c859-9020-460f-8759-87d035f5edf6",
    "tags": []
   },
   "outputs": [
    {
     "name": "stdout",
     "output_type": "stream",
     "text": [
      "</''''''\\>\n",
      "#tomatoes#\n",
      "--ham--\n",
      "~salad~\n",
      "<\\______/>\n"
     ]
    }
   ],
   "source": [
    "sandwich = bread(ingredients(sandwich))\n",
    "sandwich()\n",
    "\n",
    "#outputs:\n",
    "#</''''''\\>\n",
    "# #tomatoes#\n",
    "# --ham--\n",
    "# ~salad~\n",
    "#<\\______/>"
   ]
  },
  {
   "cell_type": "markdown",
   "metadata": {
    "id": "YtD8vvQ-Z91y"
   },
   "source": [
    "Using the Python decorator syntax. Redefine function sandwich together with decorators."
   ]
  },
  {
   "cell_type": "code",
   "execution_count": 16,
   "metadata": {
    "id": "Qjjw3J4oZ91y",
    "tags": []
   },
   "outputs": [
    {
     "name": "stdout",
     "output_type": "stream",
     "text": [
      "</''''''\\>\n",
      "#tomatoes#\n",
      "--ham--\n",
      "~salad~\n",
      "<\\______/>\n"
     ]
    }
   ],
   "source": [
    "################################## TODO ##################################\n",
    "@bread\n",
    "@ingredients\n",
    "def sandwich(food='--ham--'):\n",
    "    print(food)\n",
    "    \n",
    "sandwich()\n",
    "    \n",
    "#outputs:\n",
    "#</''''''\\>\n",
    "# #tomatoes#\n",
    "# --ham--\n",
    "# ~salad~\n",
    "#<\\______/>"
   ]
  },
  {
   "cell_type": "markdown",
   "metadata": {
    "id": "Na1B6spJZ91y"
   },
   "source": [
    "The order you set the decorators MATTERS:"
   ]
  },
  {
   "cell_type": "code",
   "execution_count": 17,
   "metadata": {
    "id": "c20GYAifZ91y",
    "outputId": "ab978c30-7595-409f-e497-3447dfed63cf",
    "tags": []
   },
   "outputs": [
    {
     "name": "stdout",
     "output_type": "stream",
     "text": [
      "#tomatoes#\n",
      "</''''''\\>\n",
      "--ham--\n",
      "<\\______/>\n",
      "~salad~\n"
     ]
    }
   ],
   "source": [
    "################################## TODO ##################################\n",
    "# Implement function strange_sandwich that returns the following\n",
    "@ingredients\n",
    "@bread\n",
    "def sandwich(food='--ham--'):\n",
    "    print(food)\n",
    "    \n",
    "sandwich()\n",
    "#outputs:\n",
    "##tomatoes#\n",
    "#</''''''\\>\n",
    "# --ham--\n",
    "#<\\______/>\n",
    "# ~salad~"
   ]
  },
  {
   "cell_type": "markdown",
   "metadata": {
    "id": "h2-2jhSIZ91y"
   },
   "source": [
    "### Taking decorators to the next level"
   ]
  },
  {
   "cell_type": "markdown",
   "metadata": {
    "id": "yyq44wYSZ91y"
   },
   "source": [
    "#### Passing arguments to the decorated function"
   ]
  },
  {
   "cell_type": "code",
   "execution_count": 18,
   "metadata": {
    "id": "ba4cFGx7Z91z",
    "outputId": "4af57294-59b2-4036-d741-097485434edf",
    "tags": []
   },
   "outputs": [
    {
     "name": "stdout",
     "output_type": "stream",
     "text": [
      "I got args! Look: Peter Venkman\n",
      "my name is Peter Venkman\n"
     ]
    }
   ],
   "source": [
    "# It’s not black magic, you just have to let the wrapper \n",
    "# pass the argument:\n",
    "\n",
    "def a_decorator_passing_arguments(function_to_decorate):\n",
    "    def a_wrapper_accepting_arguments(arg1, arg2):\n",
    "        print('I got args! Look:', arg1, arg2)\n",
    "        function_to_decorate(arg1, arg2)\n",
    "    return a_wrapper_accepting_arguments\n",
    "\n",
    "# Since when you are calling the function returned by the decorator, you are\n",
    "# calling the wrapper, passing arguments to the wrapper will let it pass them to \n",
    "# the decorated function\n",
    "\n",
    "################################## TODO ##################################\n",
    "# Define function print_full_name and decorate it with the above decorator\n",
    "@a_decorator_passing_arguments\n",
    "def print_full_passing_arguments(arg1,arg2):\n",
    "    print(\"my name is\",arg1,arg2)\n",
    "\n",
    "print_full_passing_arguments(\"Peter\",\"Venkman\")\n",
    "\n",
    "# outputs:\n",
    "#I got args! Look: Peter Venkman\n",
    "#My name is Peter Venkman"
   ]
  },
  {
   "cell_type": "markdown",
   "metadata": {
    "id": "XYTz1yqbZ91z"
   },
   "source": [
    "#### Decorating methods\n",
    "If you’re making general-purpose decorator--one you’ll apply to any function or method, no matter its arguments--then just use *args, **kwargs:"
   ]
  },
  {
   "cell_type": "code",
   "execution_count": 19,
   "metadata": {
    "id": "XnNuXOdLZ91z",
    "outputId": "8eaa11a9-b61f-4acd-e438-194334e53af5",
    "tags": []
   },
   "outputs": [
    {
     "name": "stdout",
     "output_type": "stream",
     "text": [
      "Do I have args?:\n",
      "()\n",
      "{}\n",
      "Python is cool, no argument here.\n"
     ]
    }
   ],
   "source": [
    "def a_decorator_passing_arbitrary_arguments(function_to_decorate):\n",
    "    # The wrapper accepts any arguments\n",
    "    def a_wrapper_accepting_arbitrary_arguments(*args, **kwargs):\n",
    "        print('Do I have args?:')\n",
    "        print(args)\n",
    "        print(kwargs)\n",
    "        # Then you unpack the arguments, here *args, **kwargs\n",
    "        # If you are not familiar with unpacking, check:\n",
    "        # http://www.saltycrane.com/blog/2008/01/how-to-use-args-and-kwargs-in-python/\n",
    "        function_to_decorate(*args, **kwargs)\n",
    "    return a_wrapper_accepting_arbitrary_arguments\n",
    "\n",
    "@a_decorator_passing_arbitrary_arguments\n",
    "def function_with_no_argument():\n",
    "    print('Python is cool, no argument here.')\n",
    "\n",
    "function_with_no_argument()\n",
    "#outputs\n",
    "#Do I have args?:\n",
    "#()\n",
    "#{}\n",
    "#Python is cool, no argument here."
   ]
  },
  {
   "cell_type": "code",
   "execution_count": 20,
   "metadata": {
    "id": "_wBMt2D-Z91z",
    "outputId": "ca166c05-aa34-4d5c-a64c-64b0bda91a19",
    "tags": []
   },
   "outputs": [
    {
     "name": "stdout",
     "output_type": "stream",
     "text": [
      "Do I have args?:\n",
      "(1, 2, 3)\n",
      "{}\n",
      "1 2 3 "
     ]
    }
   ],
   "source": [
    "################################## TODO ################################## \n",
    "# Define function_with_argument and decorate it with a_decorator_passing_arbitrary_arguments\n",
    "#*는 전체 튜플, **는 dictionary, key와 value로 입력받는다.\n",
    "@a_decorator_passing_arbitrary_arguments\n",
    "def function_with_arguments(*args,**kwargs):  \n",
    "    for i in args:\n",
    "        print(i,end=' ')\n",
    "\n",
    "function_with_arguments(1,2,3)\n",
    "\n",
    "#outputs\n",
    "#Do I have args?:\n",
    "#(1, 2, 3)\n",
    "#{}\n",
    "#1 2 3 "
   ]
  },
  {
   "cell_type": "code",
   "execution_count": 21,
   "metadata": {
    "id": "t5-oexL6Z91z",
    "outputId": "b95fdfda-5882-4637-e263-3b93a6f3eca0",
    "tags": []
   },
   "outputs": [
    {
     "name": "stdout",
     "output_type": "stream",
     "text": [
      "Do I have args?:\n",
      "('Bill', 'Linus', 'Steve')\n",
      "{'platypus': 'Indeed!'}\n",
      "Do Bill , Linus and Steve like platypus? Indeed!\n"
     ]
    }
   ],
   "source": [
    "################################## TODO ##################################\n",
    "# Define function_with_named_argument and decorate it with a_decorator_passing_arbitrary_arguments\n",
    "@a_decorator_passing_arbitrary_arguments\n",
    "def function_with_named_arguments(*args, **kwargs):\n",
    "    print(\"Do\",args[0],\",\",args[1],\"and\",args[2], \"like platypus?\", kwargs[\"platypus\"])\n",
    "    \n",
    "    \n",
    "function_with_named_arguments('Bill', 'Linus', 'Steve', platypus='Indeed!')\n",
    "#outputs\n",
    "#Do I have args ? :\n",
    "#('Bill', 'Linus', 'Steve')\n",
    "#{'platypus': 'Indeed!'}\n",
    "#Do Bill, Linus and Steve like platypus? Indeed!"
   ]
  },
  {
   "cell_type": "markdown",
   "metadata": {
    "id": "CvfbVQiHZ910"
   },
   "source": [
    "#### Passing arguments to the decorator\n",
    "Great, now what would you say about passing arguments to the decorator itself?\n",
    "\n",
    "This can get somewhat twisted, since a decorator must accept a function as an argument. Therefore, you cannot pass the decorated function’s arguments directly to the decorator.\n",
    "\n",
    "Before rushing to the solution, let’s write a little reminder:"
   ]
  },
  {
   "cell_type": "code",
   "execution_count": 22,
   "metadata": {
    "id": "H_P-hZevZ910",
    "tags": []
   },
   "outputs": [
    {
     "name": "stdout",
     "output_type": "stream",
     "text": [
      "I am an ordinary function\n",
      "I am an ordinary function\n"
     ]
    }
   ],
   "source": [
    "#Decorators are ORDINARY functions\n",
    "def my_decorator(func):\n",
    "    print('I am an ordinary function')\n",
    "    def wrapper():\n",
    "        print('I am function returned by the decorator')\n",
    "        func()\n",
    "    return wrapper\n",
    "\n",
    "#Therefore, you can call it without any '@'\n",
    "\n",
    "def lazy_function():\n",
    "    print('zzzzzzzz')\n",
    "\n",
    "decorated_function = my_decorator(lazy_function)\n",
    "#outputs: I am an ordinary function\n",
    "            \n",
    "#It outputs 'I am an ordinary function', because that’s just what you do:\n",
    "#calling a function. Nothing magic.\n",
    "\n",
    "@my_decorator\n",
    "def lazy_function():\n",
    "    print('zzzzzzzz')\n",
    "    \n",
    "#outputs: I am an ordinary function"
   ]
  },
  {
   "cell_type": "markdown",
   "metadata": {
    "id": "LFuZQHCLZ910"
   },
   "source": [
    "It’s exactly the same: my_decorator is called. So when you @my_decorator, you are telling Python to call the function labelled by the variable “my_decorator”.\n",
    "\n",
    "This is important! The label you give can point directly to the decorator—or not.\n",
    "\n",
    "Let’s get evil."
   ]
  },
  {
   "cell_type": "code",
   "execution_count": 36,
   "metadata": {
    "id": "vJbxIwLXZ910"
   },
   "outputs": [],
   "source": [
    "def decorator_maker():\n",
    "    \n",
    "    print('I make decorators! I am executed only once: '+\\\n",
    "          'when you make me create a decorator.')\n",
    "            \n",
    "    def my_decorator(func):\n",
    "        \n",
    "        print('I am a decorator! I am executed only when you decorate a function.')\n",
    "               \n",
    "        def wrapped():\n",
    "            print ('I am the wrapper around the decorated function. '\n",
    "                  'I am called when you call the decorated function. '\n",
    "                  'As the wrapper, I return the RESULT of the decorated function.')\n",
    "            return func()\n",
    "        \n",
    "        print('As the decorator, I return the wrapped function.')\n",
    "        \n",
    "        return wrapped\n",
    "    \n",
    "    print('As a decorator maker, I return a decorator')\n",
    "    return my_decorator"
   ]
  },
  {
   "cell_type": "code",
   "execution_count": 32,
   "metadata": {
    "id": "VkKcIeVZZ910",
    "outputId": "1b43817f-bb87-425a-eb34-4d36d4236f2d"
   },
   "outputs": [
    {
     "name": "stdout",
     "output_type": "stream",
     "text": [
      "I make decorators! I am executed only once: when you make me create a decorator.\n",
      "As a decorator maker, I return a decorator\n"
     ]
    }
   ],
   "source": [
    "# Let’s create a decorator. It’s just a new function after all.\n",
    "new_decorator = decorator_maker()   \n",
    "#outputs:\n",
    "#I make decorators! I am executed only once: when you make me create a decorator.\n",
    "#As a decorator maker, I return a decorator"
   ]
  },
  {
   "cell_type": "code",
   "execution_count": 33,
   "metadata": {
    "id": "i_kqDOeGZ910"
   },
   "outputs": [],
   "source": [
    "# Then we decorate the function\n",
    "def decorated_function():\n",
    "    print('I am the decorated function.')"
   ]
  },
  {
   "cell_type": "code",
   "execution_count": 39,
   "metadata": {
    "id": "kLmeZFU4Z910",
    "outputId": "35da6eea-301b-4f22-da2e-62d15b165abd"
   },
   "outputs": [
    {
     "name": "stdout",
     "output_type": "stream",
     "text": [
      "I am a decorator! I am executed only when you decorate a function.\n",
      "As the decorator, I return the wrapped function.\n"
     ]
    }
   ],
   "source": [
    "################################## TODO ##################################->뭔말임\n",
    "# Define decorated_function\n",
    "decorated_function=new_decorator(decorated_function)\n",
    "\n",
    "#outputs:\n",
    "#I am a decorator! I am executed only when you decorate a function.\n",
    "#As the decorator, I return the wrapped function"
   ]
  },
  {
   "cell_type": "code",
   "execution_count": 40,
   "metadata": {
    "id": "_QSkWXesZ910",
    "outputId": "94510431-8814-4549-e08f-c78cbeb3278e"
   },
   "outputs": [
    {
     "name": "stdout",
     "output_type": "stream",
     "text": [
      "I am the wrapper around the decorated function. I am called when you call the decorated function. As the wrapper, I return the RESULT of the decorated function.\n",
      "I am the wrapper around the decorated function. I am called when you call the decorated function. As the wrapper, I return the RESULT of the decorated function.\n",
      "I am the wrapper around the decorated function. I am called when you call the decorated function. As the wrapper, I return the RESULT of the decorated function.\n",
      "I am function returned by the decorator\n",
      "I am the decorated function.\n"
     ]
    }
   ],
   "source": [
    "# Let’s call the function:->뭔말임\n",
    "decorated_function()\n",
    "#outputs:\n",
    "#I am the wrapper around the decorated function. I am called when you call the decorated function.\n",
    "#As the wrapper, I return the RESULT of the decorated function.\n",
    "#I am the decorated function."
   ]
  },
  {
   "cell_type": "markdown",
   "metadata": {
    "id": "1QoVyBR2Z911"
   },
   "source": [
    "No surprise here.\n",
    "\n",
    "Let’s do EXACTLY the same thing, but skip all the pesky intermediate variables:"
   ]
  },
  {
   "cell_type": "code",
   "execution_count": 41,
   "metadata": {
    "id": "hSGbZh7XZ911",
    "outputId": "e36f8a44-b082-4342-81af-3a25a8f38116"
   },
   "outputs": [
    {
     "name": "stdout",
     "output_type": "stream",
     "text": [
      "I make decorators! I am executed only once: when you make me create a decorator.\n",
      "As a decorator maker, I return a decorator\n",
      "I am a decorator! I am executed only when you decorate a function.\n",
      "As the decorator, I return the wrapped function.\n",
      "I am the wrapper around the decorated function. I am called when you call the decorated function. As the wrapper, I return the RESULT of the decorated function.\n",
      "I am the decorated function.\n"
     ]
    }
   ],
   "source": [
    "def decorated_function():\n",
    "    print('I am the decorated function.')\n",
    "\n",
    "################################## TODO ##################################\n",
    "decorated_function = decorator_maker()(decorated_function)\n",
    "#outputs:\n",
    "#I make decorators! I am executed only once: when you make me create a decorator.\n",
    "#As a decorator maker, I return a decorator\n",
    "#I am a decorator! I am executed only when you decorate a function.\n",
    "#As the decorator, I return the wrapped function.\n",
    "\n",
    "# Finally:\n",
    "decorated_function()    \n",
    "#outputs:\n",
    "#I am the wrapper around the decorated function. I am called when you call the decorated function.\n",
    "#As the wrapper, I return the RESULT of the decorated function.\n",
    "#I am the decorated function."
   ]
  },
  {
   "cell_type": "markdown",
   "metadata": {
    "id": "WQbLSYTFZ911"
   },
   "source": [
    "Let’s make it even shorter:"
   ]
  },
  {
   "cell_type": "code",
   "execution_count": 43,
   "metadata": {
    "id": "r4w_yH2cZ911",
    "outputId": "9a0e6ad2-bba9-412a-87ec-4426a4875ed1"
   },
   "outputs": [
    {
     "name": "stdout",
     "output_type": "stream",
     "text": [
      "I make decorators! I am executed only once: when you make me create a decorator.\n",
      "As a decorator maker, I return a decorator\n",
      "I am a decorator! I am executed only when you decorate a function.\n",
      "As the decorator, I return the wrapped function.\n",
      "I am the wrapper around the decorated function. I am called when you call the decorated function. As the wrapper, I return the RESULT of the decorated function.\n",
      "I am the decorated function.\n"
     ]
    }
   ],
   "source": [
    "################################## TODO ##################################\n",
    "# Redefine function decorated_function with decorators.\n",
    "@decorator_maker()\n",
    "def decorated_function():\n",
    "    print('I am the decorated function.')\n",
    "#outputs:\n",
    "#I make decorators! I am executed only once: when you make me create a decorator.\n",
    "#As a decorator maker, I return a decorator\n",
    "#I am a decorator! I am executed only when you decorate a function.\n",
    "#As the decorator, I return the wrapped function.\n",
    "\n",
    "#Eventually: \n",
    "decorated_function()    \n",
    "#outputs:\n",
    "#I am the wrapper around the decorated function. I am called when you call the decorated function.\n",
    "#As the wrapper, I return the RESULT of the decorated function.\n",
    "#I am the decorated function."
   ]
  },
  {
   "cell_type": "markdown",
   "metadata": {
    "id": "ft5EWiMwZ912"
   },
   "source": [
    "### Let’s practice: decorating a decorator\n",
    "Okay, as a bonus, I’ll give you a snippet to make any decorator accept generically any argument. After all, in order to accept arguments, we created our decorator using another function.\n",
    "\n",
    "We wrapped the decorator.\n",
    "\n",
    "Anything else we saw recently that wrapped function?\n",
    "\n",
    "Oh yes, decorators!\n",
    "\n",
    "Let’s have some fun and write a decorator for the decorators:"
   ]
  },
  {
   "cell_type": "code",
   "execution_count": 44,
   "metadata": {
    "id": "hIbM3IbpZ912"
   },
   "outputs": [],
   "source": [
    "def decorator_with_args(decorator_to_enhance):\n",
    "    \"\"\" \n",
    "    This function is supposed to be used as a decorator.\n",
    "    It must decorate an other function, that is intended to be used as a decorator.\n",
    "    Take a cup of coffee.\n",
    "    It will allow any decorator to accept an arbitrary number of arguments,\n",
    "    saving you the headache to remember how to do that every time.\n",
    "    \"\"\"\n",
    "    \n",
    "    # We use the same trick we did to pass arguments\n",
    "    def decorator_maker(*args, **kwargs):\n",
    "       \n",
    "        # We create on the fly a decorator that accepts only a function\n",
    "        # but keeps the passed arguments from the maker.\n",
    "        def decorator_wrapper(func):\n",
    "       \n",
    "            # We return the result of the original decorator, which, after all, \n",
    "            # IS JUST AN ORDINARY FUNCTION (which returns a function).\n",
    "            # Only pitfall: the decorator must have this specific signature or it won’t work:\n",
    "            return decorator_to_enhance(func, *args, **kwargs)\n",
    "        \n",
    "        return decorator_wrapper\n",
    "    \n",
    "    return decorator_maker"
   ]
  },
  {
   "cell_type": "markdown",
   "metadata": {
    "id": "9wMMvJAjZ912"
   },
   "source": [
    "It can be used as follows:"
   ]
  },
  {
   "cell_type": "code",
   "execution_count": 45,
   "metadata": {
    "id": "4zZpN0kmZ912"
   },
   "outputs": [
    {
     "name": "stdout",
     "output_type": "stream",
     "text": [
      "Decorated with (42, 404, 1024) {}\n",
      "Hello Universe and everything\n"
     ]
    }
   ],
   "source": [
    "# You create the function you will use as a decorator. And stick a decorator on it :-)\n",
    "# Don’t forget, the signature is `decorator(func, *args, **kwargs)`\n",
    "@decorator_with_args \n",
    "def decorated_decorator(func, *args, **kwargs): \n",
    "    def wrapper(function_arg1, function_arg2):\n",
    "        print('Decorated with', args, kwargs)\n",
    "        return func(function_arg1, function_arg2)\n",
    "    return wrapper\n",
    "    \n",
    "# Then you decorate the functions you wish with your brand new decorated decorator.\n",
    "\n",
    "################################## TODO ##################################\n",
    "# Define function decorated_function and decorate this function with decorated_decorator \n",
    "# so that the below function call prints the below outputs\n",
    "@decorated_decorator(42, 404, 1024)\n",
    "def decorated_function(function_arg1, function_arg2):\n",
    "    print('Hello', function_arg1, function_arg2)\n",
    "    \n",
    "decorated_function('Universe and', 'everything')\n",
    "#outputs:\n",
    "#Decorated with (42, 404, 1024) {}\n",
    "#Hello Universe and everything\n",
    "\n",
    "# Whoooot!"
   ]
  },
  {
   "cell_type": "markdown",
   "metadata": {
    "id": "Hj_ueRyFZ912",
    "tags": []
   },
   "source": [
    "### Best practices: decorators\n",
    "\n",
    "    Decorators were introduced in Python 2.4, so be sure your code will be run on >= 2.4.\n",
    "    Decorators slow down the function call. Keep that in mind.\n",
    "    You cannot un-decorate a function. (There are hacks to create decorators that can be removed, but nobody uses them.) So once a function is decorated, it’s decorated for all the code.\n",
    "    Decorators wrap functions, which can make them hard to debug. (This gets better from Python >= 2.5; see below.)\n",
    "\n",
    "The functools module was introduced in Python 2.5. It includes the function functools.wraps(), which copies the name, module, and docstring of the decorated function to its wrapper.\n",
    "\n",
    "(Fun fact: functools.wraps() is a decorator! ☺)"
   ]
  },
  {
   "cell_type": "code",
   "execution_count": null,
   "metadata": {
    "id": "XwYKJDg0Z912"
   },
   "outputs": [],
   "source": [
    "# For debugging, the stacktrace prints you the function __name__\n",
    "def foo():\n",
    "    print('foo')\n",
    "    \n",
    "print(foo.__name__)\n",
    "#outputs: foo\n",
    "    \n",
    "# With a decorator, it gets messy    \n",
    "def bar(func):\n",
    "    def wrapper():\n",
    "        print('bar')\n",
    "        return func()\n",
    "    return wrapper\n",
    "\n",
    "@bar\n",
    "def foo():\n",
    "    print('foo')\n",
    "\n",
    "print(foo.__name__)\n",
    "#outputs: wrapper\n",
    "\n",
    "# `functools` can help with that\n",
    "\n",
    "import functools\n",
    "\n",
    "def bar(func):\n",
    "    # We say that `wrapper`, is wrapping `func`\n",
    "    # and the magic begins\n",
    "    @functools.wraps(func)\n",
    "    def wrapper():\n",
    "        print('bar')\n",
    "        return func()\n",
    "    return wrapper\n",
    "\n",
    "@bar\n",
    "def foo():\n",
    "    print('foo')\n",
    "\n",
    "print(foo.__name__)\n",
    "#outputs: foo"
   ]
  },
  {
   "cell_type": "markdown",
   "metadata": {
    "id": "XMvbNkq8Z912"
   },
   "source": [
    "### How can the decorators be useful?\n",
    "Now the big question: What can I use decorators for?\n",
    "\n",
    "Seem cool and powerful, but a practical example would be great. Well, there are 1000 possibilities. Classic uses are extending a function behavior from an external lib (you can’t modify it), or for debugging (you don’t want to modify it because it’s temporary).\n",
    "\n",
    "You can use them to extend several functions in a DRY’s way, like so:"
   ]
  },
  {
   "cell_type": "code",
   "execution_count": 67,
   "metadata": {
    "id": "0xZKMimhZ912"
   },
   "outputs": [],
   "source": [
    "def benchmark(func):\n",
    "    \"\"\"\n",
    "    A decorator that prints the time a function takes\n",
    "    to execute.\n",
    "    \"\"\"\n",
    "    import time\n",
    "    import math\n",
    "    def wrapper(*args, **kwargs):\n",
    "        ################################## TODO ##################################\n",
    "        # 1. Measure the runtime of function func.\n",
    "        # 2. Print the name of func and the runtime\n",
    "        # 3. Return the return value of func\n",
    "        s = time.time()\n",
    "        res = func(*args, **kwargs)\n",
    "        e = time.time()\n",
    "        print(func.__name__,e-s)\n",
    "        \n",
    "        return res\n",
    "    \n",
    "    return wrapper\n",
    "\n",
    "\n",
    "def logging(func):\n",
    "    \"\"\"\n",
    "    A decorator that logs the activity of the script.\n",
    "    (it actually just prints it, but it could be logging!)\n",
    "    \"\"\"\n",
    "    def wrapper(*args, **kwargs):\n",
    "        res = func(*args, **kwargs)\n",
    "        print(func.__name__, args, kwargs)\n",
    "        return res\n",
    "    return wrapper\n",
    "\n",
    "\n",
    "def counter(func):\n",
    "    \"\"\"\n",
    "    A decorator that counts and prints the number of times a function has been executed\n",
    "    \"\"\"\n",
    "    def wrapper(*args, **kwargs):\n",
    "        wrapper.count = wrapper.count + 1\n",
    "        res = func(*args, **kwargs)\n",
    "        print('{0} has been used: {1}x'.format(func.__name__, wrapper.count))\n",
    "        return res\n",
    "    wrapper.count = 0\n",
    "    return wrapper"
   ]
  },
  {
   "cell_type": "code",
   "execution_count": 68,
   "metadata": {
    "id": "nNRXpCOXZ913",
    "outputId": "8af3553b-0f46-4afc-8c9b-93d6fe99490e"
   },
   "outputs": [
    {
     "name": "stdout",
     "output_type": "stream",
     "text": [
      "reverse_string ('Able was I ere I saw Elba',) {}\n",
      "wrapper 0.0\n",
      "wrapper has been used: 1x\n",
      "ablE was I ere I saw elbA\n",
      "reverse_string ('A man, a plan, a canoe, pasta, heros, rajahs, a coloratura, maps, snipe, percale, macaroni, a gag, a banana bag, a tan, a tag, a banana bag again (or a camel), a crepe, pins, Spam, a rut, a Rolo, cash, a jar, sore hats, a peon, a canal: Panama!',) {}\n",
      "wrapper 0.0\n",
      "wrapper has been used: 2x\n",
      "!amanaP :lanac a ,noep a ,stah eros ,raj a ,hsac ,oloR a ,tur a ,mapS ,snip ,eperc a ,)lemac a ro( niaga gab ananab a ,gat a ,nat a ,gab ananab a ,gag a ,inoracam ,elacrep ,epins ,spam ,arutaroloc a ,shajar ,soreh ,atsap ,eonac a ,nalp a ,nam A\n"
     ]
    }
   ],
   "source": [
    "################################## TODO ##################################\n",
    "# Decorate function reverse_string so that the below function calls lead to the below outputs.\n",
    "@counter\n",
    "@benchmark\n",
    "@logging\n",
    "def reverse_string(string):\n",
    "    return string[::-1]\n",
    "\n",
    "print(reverse_string('Able was I ere I saw Elba'))\n",
    "print(reverse_string('A man, a plan, a canoe, pasta, heros, rajahs, a coloratura, maps, snipe, percale, macaroni, a gag, a banana bag, a tan, a tag, a banana bag again (or a camel), a crepe, pins, Spam, a rut, a Rolo, cash, a jar, sore hats, a peon, a canal: Panama!'))\n",
    "\n",
    "#outputs:\n",
    "#reverse_string ('Able was I ere I saw Elba',) {}\n",
    "#wrapper 0.0\n",
    "#wrapper has been used: 1x \n",
    "#ablE was I ere I saw elbA\n",
    "#reverse_string ('A man, a plan, a canoe, pasta, heros, rajahs, a coloratura, maps, snipe, percale, macaroni, a gag, a banana bag, a tan, a tag, a banana bag again (or a camel), a crepe, pins, Spam, a rut, a Rolo, cash, a jar, sore hats, a peon, a canal: Panama!',) {}\n",
    "#wrapper 0.0\n",
    "#wrapper has been used: 2x\n",
    "#!amanaP :lanac a ,noep a ,stah eros ,raj a ,hsac ,oloR a ,tur a ,mapS ,snip ,eperc a ,)lemac a ro( niaga gab ananab a ,gat a ,nat a ,gab ananab a ,gag a ,inoracam ,elacrep ,epins ,spam ,arutaroloc a ,shajar ,soreh ,atsap ,eonac a ,nalp a ,nam A"
   ]
  },
  {
   "cell_type": "markdown",
   "metadata": {
    "id": "ypNbLEFbZ916"
   },
   "source": [
    "Of course the good thing with decorators is that you can use them right away on almost anything without rewriting. DRY, I said:"
   ]
  },
  {
   "cell_type": "code",
   "execution_count": 69,
   "metadata": {
    "id": "vQIMpYUXZ916",
    "outputId": "c6c2987a-b52f-479a-8dd5-57769aae667e"
   },
   "outputs": [
    {
     "ename": "URLError",
     "evalue": "<urlopen error [WinError 10060] 연결된 구성원으로부터 응답이 없어 연결하지 못했거나, 호스트로부터 응답이 없어 연결이 끊어졌습니다>",
     "output_type": "error",
     "traceback": [
      "\u001b[1;31m---------------------------------------------------------------------------\u001b[0m",
      "\u001b[1;31mTimeoutError\u001b[0m                              Traceback (most recent call last)",
      "File \u001b[1;32m~\\anaconda3\\Lib\\urllib\\request.py:1348\u001b[0m, in \u001b[0;36mAbstractHTTPHandler.do_open\u001b[1;34m(self, http_class, req, **http_conn_args)\u001b[0m\n\u001b[0;32m   1347\u001b[0m \u001b[38;5;28;01mtry\u001b[39;00m:\n\u001b[1;32m-> 1348\u001b[0m     h\u001b[38;5;241m.\u001b[39mrequest(req\u001b[38;5;241m.\u001b[39mget_method(), req\u001b[38;5;241m.\u001b[39mselector, req\u001b[38;5;241m.\u001b[39mdata, headers,\n\u001b[0;32m   1349\u001b[0m               encode_chunked\u001b[38;5;241m=\u001b[39mreq\u001b[38;5;241m.\u001b[39mhas_header(\u001b[38;5;124m'\u001b[39m\u001b[38;5;124mTransfer-encoding\u001b[39m\u001b[38;5;124m'\u001b[39m))\n\u001b[0;32m   1350\u001b[0m \u001b[38;5;28;01mexcept\u001b[39;00m \u001b[38;5;167;01mOSError\u001b[39;00m \u001b[38;5;28;01mas\u001b[39;00m err: \u001b[38;5;66;03m# timeout error\u001b[39;00m\n",
      "File \u001b[1;32m~\\anaconda3\\Lib\\http\\client.py:1286\u001b[0m, in \u001b[0;36mHTTPConnection.request\u001b[1;34m(self, method, url, body, headers, encode_chunked)\u001b[0m\n\u001b[0;32m   1285\u001b[0m \u001b[38;5;250m\u001b[39m\u001b[38;5;124;03m\"\"\"Send a complete request to the server.\"\"\"\u001b[39;00m\n\u001b[1;32m-> 1286\u001b[0m \u001b[38;5;28mself\u001b[39m\u001b[38;5;241m.\u001b[39m_send_request(method, url, body, headers, encode_chunked)\n",
      "File \u001b[1;32m~\\anaconda3\\Lib\\http\\client.py:1332\u001b[0m, in \u001b[0;36mHTTPConnection._send_request\u001b[1;34m(self, method, url, body, headers, encode_chunked)\u001b[0m\n\u001b[0;32m   1331\u001b[0m     body \u001b[38;5;241m=\u001b[39m _encode(body, \u001b[38;5;124m'\u001b[39m\u001b[38;5;124mbody\u001b[39m\u001b[38;5;124m'\u001b[39m)\n\u001b[1;32m-> 1332\u001b[0m \u001b[38;5;28mself\u001b[39m\u001b[38;5;241m.\u001b[39mendheaders(body, encode_chunked\u001b[38;5;241m=\u001b[39mencode_chunked)\n",
      "File \u001b[1;32m~\\anaconda3\\Lib\\http\\client.py:1281\u001b[0m, in \u001b[0;36mHTTPConnection.endheaders\u001b[1;34m(self, message_body, encode_chunked)\u001b[0m\n\u001b[0;32m   1280\u001b[0m     \u001b[38;5;28;01mraise\u001b[39;00m CannotSendHeader()\n\u001b[1;32m-> 1281\u001b[0m \u001b[38;5;28mself\u001b[39m\u001b[38;5;241m.\u001b[39m_send_output(message_body, encode_chunked\u001b[38;5;241m=\u001b[39mencode_chunked)\n",
      "File \u001b[1;32m~\\anaconda3\\Lib\\http\\client.py:1041\u001b[0m, in \u001b[0;36mHTTPConnection._send_output\u001b[1;34m(self, message_body, encode_chunked)\u001b[0m\n\u001b[0;32m   1040\u001b[0m \u001b[38;5;28;01mdel\u001b[39;00m \u001b[38;5;28mself\u001b[39m\u001b[38;5;241m.\u001b[39m_buffer[:]\n\u001b[1;32m-> 1041\u001b[0m \u001b[38;5;28mself\u001b[39m\u001b[38;5;241m.\u001b[39msend(msg)\n\u001b[0;32m   1043\u001b[0m \u001b[38;5;28;01mif\u001b[39;00m message_body \u001b[38;5;129;01mis\u001b[39;00m \u001b[38;5;129;01mnot\u001b[39;00m \u001b[38;5;28;01mNone\u001b[39;00m:\n\u001b[0;32m   1044\u001b[0m \n\u001b[0;32m   1045\u001b[0m     \u001b[38;5;66;03m# create a consistent interface to message_body\u001b[39;00m\n",
      "File \u001b[1;32m~\\anaconda3\\Lib\\http\\client.py:979\u001b[0m, in \u001b[0;36mHTTPConnection.send\u001b[1;34m(self, data)\u001b[0m\n\u001b[0;32m    978\u001b[0m \u001b[38;5;28;01mif\u001b[39;00m \u001b[38;5;28mself\u001b[39m\u001b[38;5;241m.\u001b[39mauto_open:\n\u001b[1;32m--> 979\u001b[0m     \u001b[38;5;28mself\u001b[39m\u001b[38;5;241m.\u001b[39mconnect()\n\u001b[0;32m    980\u001b[0m \u001b[38;5;28;01melse\u001b[39;00m:\n",
      "File \u001b[1;32m~\\anaconda3\\Lib\\http\\client.py:945\u001b[0m, in \u001b[0;36mHTTPConnection.connect\u001b[1;34m(self)\u001b[0m\n\u001b[0;32m    944\u001b[0m sys\u001b[38;5;241m.\u001b[39maudit(\u001b[38;5;124m\"\u001b[39m\u001b[38;5;124mhttp.client.connect\u001b[39m\u001b[38;5;124m\"\u001b[39m, \u001b[38;5;28mself\u001b[39m, \u001b[38;5;28mself\u001b[39m\u001b[38;5;241m.\u001b[39mhost, \u001b[38;5;28mself\u001b[39m\u001b[38;5;241m.\u001b[39mport)\n\u001b[1;32m--> 945\u001b[0m \u001b[38;5;28mself\u001b[39m\u001b[38;5;241m.\u001b[39msock \u001b[38;5;241m=\u001b[39m \u001b[38;5;28mself\u001b[39m\u001b[38;5;241m.\u001b[39m_create_connection(\n\u001b[0;32m    946\u001b[0m     (\u001b[38;5;28mself\u001b[39m\u001b[38;5;241m.\u001b[39mhost,\u001b[38;5;28mself\u001b[39m\u001b[38;5;241m.\u001b[39mport), \u001b[38;5;28mself\u001b[39m\u001b[38;5;241m.\u001b[39mtimeout, \u001b[38;5;28mself\u001b[39m\u001b[38;5;241m.\u001b[39msource_address)\n\u001b[0;32m    947\u001b[0m \u001b[38;5;66;03m# Might fail in OSs that don't implement TCP_NODELAY\u001b[39;00m\n",
      "File \u001b[1;32m~\\anaconda3\\Lib\\socket.py:851\u001b[0m, in \u001b[0;36mcreate_connection\u001b[1;34m(address, timeout, source_address, all_errors)\u001b[0m\n\u001b[0;32m    850\u001b[0m \u001b[38;5;28;01mif\u001b[39;00m \u001b[38;5;129;01mnot\u001b[39;00m all_errors:\n\u001b[1;32m--> 851\u001b[0m     \u001b[38;5;28;01mraise\u001b[39;00m exceptions[\u001b[38;5;241m0\u001b[39m]\n\u001b[0;32m    852\u001b[0m \u001b[38;5;28;01mraise\u001b[39;00m ExceptionGroup(\u001b[38;5;124m\"\u001b[39m\u001b[38;5;124mcreate_connection failed\u001b[39m\u001b[38;5;124m\"\u001b[39m, exceptions)\n",
      "File \u001b[1;32m~\\anaconda3\\Lib\\socket.py:836\u001b[0m, in \u001b[0;36mcreate_connection\u001b[1;34m(address, timeout, source_address, all_errors)\u001b[0m\n\u001b[0;32m    835\u001b[0m     sock\u001b[38;5;241m.\u001b[39mbind(source_address)\n\u001b[1;32m--> 836\u001b[0m sock\u001b[38;5;241m.\u001b[39mconnect(sa)\n\u001b[0;32m    837\u001b[0m \u001b[38;5;66;03m# Break explicitly a reference cycle\u001b[39;00m\n",
      "\u001b[1;31mTimeoutError\u001b[0m: [WinError 10060] 연결된 구성원으로부터 응답이 없어 연결하지 못했거나, 호스트로부터 응답이 없어 연결이 끊어졌습니다",
      "\nDuring handling of the above exception, another exception occurred:\n",
      "\u001b[1;31mURLError\u001b[0m                                  Traceback (most recent call last)",
      "Cell \u001b[1;32mIn[69], line 14\u001b[0m\n\u001b[0;32m     10\u001b[0m     \u001b[38;5;28;01mexcept\u001b[39;00m:\n\u001b[0;32m     11\u001b[0m         \u001b[38;5;28;01mreturn\u001b[39;00m \u001b[38;5;124m'\u001b[39m\u001b[38;5;124mNo, I’m ... doesn’t!\u001b[39m\u001b[38;5;124m'\u001b[39m\n\u001b[1;32m---> 14\u001b[0m \u001b[38;5;28mprint\u001b[39m(get_random_futurama_quote())\n\u001b[0;32m     15\u001b[0m \u001b[38;5;28mprint\u001b[39m(get_random_futurama_quote())\n",
      "Cell \u001b[1;32mIn[67], line 41\u001b[0m, in \u001b[0;36mcounter.<locals>.wrapper\u001b[1;34m(*args, **kwargs)\u001b[0m\n\u001b[0;32m     39\u001b[0m \u001b[38;5;28;01mdef\u001b[39;00m \u001b[38;5;21mwrapper\u001b[39m(\u001b[38;5;241m*\u001b[39margs, \u001b[38;5;241m*\u001b[39m\u001b[38;5;241m*\u001b[39mkwargs):\n\u001b[0;32m     40\u001b[0m     wrapper\u001b[38;5;241m.\u001b[39mcount \u001b[38;5;241m=\u001b[39m wrapper\u001b[38;5;241m.\u001b[39mcount \u001b[38;5;241m+\u001b[39m \u001b[38;5;241m1\u001b[39m\n\u001b[1;32m---> 41\u001b[0m     res \u001b[38;5;241m=\u001b[39m func(\u001b[38;5;241m*\u001b[39margs, \u001b[38;5;241m*\u001b[39m\u001b[38;5;241m*\u001b[39mkwargs)\n\u001b[0;32m     42\u001b[0m     \u001b[38;5;28mprint\u001b[39m(\u001b[38;5;124m'\u001b[39m\u001b[38;5;132;01m{0}\u001b[39;00m\u001b[38;5;124m has been used: \u001b[39m\u001b[38;5;132;01m{1}\u001b[39;00m\u001b[38;5;124mx\u001b[39m\u001b[38;5;124m'\u001b[39m\u001b[38;5;241m.\u001b[39mformat(func\u001b[38;5;241m.\u001b[39m\u001b[38;5;18m__name__\u001b[39m, wrapper\u001b[38;5;241m.\u001b[39mcount))\n\u001b[0;32m     43\u001b[0m     \u001b[38;5;28;01mreturn\u001b[39;00m res\n",
      "Cell \u001b[1;32mIn[67], line 14\u001b[0m, in \u001b[0;36mbenchmark.<locals>.wrapper\u001b[1;34m(*args, **kwargs)\u001b[0m\n\u001b[0;32m      8\u001b[0m \u001b[38;5;28;01mdef\u001b[39;00m \u001b[38;5;21mwrapper\u001b[39m(\u001b[38;5;241m*\u001b[39margs, \u001b[38;5;241m*\u001b[39m\u001b[38;5;241m*\u001b[39mkwargs):\n\u001b[0;32m      9\u001b[0m     \u001b[38;5;66;03m################################## TODO ##################################\u001b[39;00m\n\u001b[0;32m     10\u001b[0m     \u001b[38;5;66;03m# 1. Measure the runtime of function func.\u001b[39;00m\n\u001b[0;32m     11\u001b[0m     \u001b[38;5;66;03m# 2. Print the name of func and the runtime\u001b[39;00m\n\u001b[0;32m     12\u001b[0m     \u001b[38;5;66;03m# 3. Return the return value of func\u001b[39;00m\n\u001b[0;32m     13\u001b[0m     s \u001b[38;5;241m=\u001b[39m time\u001b[38;5;241m.\u001b[39mtime()\n\u001b[1;32m---> 14\u001b[0m     res \u001b[38;5;241m=\u001b[39m func(\u001b[38;5;241m*\u001b[39margs, \u001b[38;5;241m*\u001b[39m\u001b[38;5;241m*\u001b[39mkwargs)\n\u001b[0;32m     15\u001b[0m     e \u001b[38;5;241m=\u001b[39m time\u001b[38;5;241m.\u001b[39mtime()\n\u001b[0;32m     16\u001b[0m     \u001b[38;5;28mprint\u001b[39m(func\u001b[38;5;241m.\u001b[39m\u001b[38;5;18m__name__\u001b[39m,e\u001b[38;5;241m-\u001b[39ms)\n",
      "Cell \u001b[1;32mIn[67], line 29\u001b[0m, in \u001b[0;36mlogging.<locals>.wrapper\u001b[1;34m(*args, **kwargs)\u001b[0m\n\u001b[0;32m     28\u001b[0m \u001b[38;5;28;01mdef\u001b[39;00m \u001b[38;5;21mwrapper\u001b[39m(\u001b[38;5;241m*\u001b[39margs, \u001b[38;5;241m*\u001b[39m\u001b[38;5;241m*\u001b[39mkwargs):\n\u001b[1;32m---> 29\u001b[0m     res \u001b[38;5;241m=\u001b[39m func(\u001b[38;5;241m*\u001b[39margs, \u001b[38;5;241m*\u001b[39m\u001b[38;5;241m*\u001b[39mkwargs)\n\u001b[0;32m     30\u001b[0m     \u001b[38;5;28mprint\u001b[39m(func\u001b[38;5;241m.\u001b[39m\u001b[38;5;18m__name__\u001b[39m, args, kwargs)\n\u001b[0;32m     31\u001b[0m     \u001b[38;5;28;01mreturn\u001b[39;00m res\n",
      "Cell \u001b[1;32mIn[69], line 6\u001b[0m, in \u001b[0;36mget_random_futurama_quote\u001b[1;34m()\u001b[0m\n\u001b[0;32m      1\u001b[0m \u001b[38;5;129m@counter\u001b[39m\n\u001b[0;32m      2\u001b[0m \u001b[38;5;129m@benchmark\u001b[39m\n\u001b[0;32m      3\u001b[0m \u001b[38;5;129m@logging\u001b[39m\n\u001b[0;32m      4\u001b[0m \u001b[38;5;28;01mdef\u001b[39;00m \u001b[38;5;21mget_random_futurama_quote\u001b[39m():\n\u001b[0;32m      5\u001b[0m     \u001b[38;5;28;01mfrom\u001b[39;00m \u001b[38;5;21;01murllib\u001b[39;00m\u001b[38;5;21;01m.\u001b[39;00m\u001b[38;5;21;01mrequest\u001b[39;00m \u001b[38;5;28;01mimport\u001b[39;00m urlopen\n\u001b[1;32m----> 6\u001b[0m     result \u001b[38;5;241m=\u001b[39m urlopen(\u001b[38;5;124m'\u001b[39m\u001b[38;5;124mhttp://subfusion.net/cgi-bin/quote.pl?quote=futurama\u001b[39m\u001b[38;5;124m'\u001b[39m)\u001b[38;5;241m.\u001b[39mread()\n\u001b[0;32m      7\u001b[0m     \u001b[38;5;28;01mtry\u001b[39;00m:\n\u001b[0;32m      8\u001b[0m         value \u001b[38;5;241m=\u001b[39m result\u001b[38;5;241m.\u001b[39msplit(\u001b[38;5;124m'\u001b[39m\u001b[38;5;124m<br><b><hr><br>\u001b[39m\u001b[38;5;124m'\u001b[39m)[\u001b[38;5;241m1\u001b[39m]\u001b[38;5;241m.\u001b[39msplit(\u001b[38;5;124m'\u001b[39m\u001b[38;5;124m<br><br><hr>\u001b[39m\u001b[38;5;124m'\u001b[39m)[\u001b[38;5;241m0\u001b[39m]\n",
      "File \u001b[1;32m~\\anaconda3\\Lib\\urllib\\request.py:216\u001b[0m, in \u001b[0;36murlopen\u001b[1;34m(url, data, timeout, cafile, capath, cadefault, context)\u001b[0m\n\u001b[0;32m    214\u001b[0m \u001b[38;5;28;01melse\u001b[39;00m:\n\u001b[0;32m    215\u001b[0m     opener \u001b[38;5;241m=\u001b[39m _opener\n\u001b[1;32m--> 216\u001b[0m \u001b[38;5;28;01mreturn\u001b[39;00m opener\u001b[38;5;241m.\u001b[39mopen(url, data, timeout)\n",
      "File \u001b[1;32m~\\anaconda3\\Lib\\urllib\\request.py:519\u001b[0m, in \u001b[0;36mOpenerDirector.open\u001b[1;34m(self, fullurl, data, timeout)\u001b[0m\n\u001b[0;32m    516\u001b[0m     req \u001b[38;5;241m=\u001b[39m meth(req)\n\u001b[0;32m    518\u001b[0m sys\u001b[38;5;241m.\u001b[39maudit(\u001b[38;5;124m'\u001b[39m\u001b[38;5;124murllib.Request\u001b[39m\u001b[38;5;124m'\u001b[39m, req\u001b[38;5;241m.\u001b[39mfull_url, req\u001b[38;5;241m.\u001b[39mdata, req\u001b[38;5;241m.\u001b[39mheaders, req\u001b[38;5;241m.\u001b[39mget_method())\n\u001b[1;32m--> 519\u001b[0m response \u001b[38;5;241m=\u001b[39m \u001b[38;5;28mself\u001b[39m\u001b[38;5;241m.\u001b[39m_open(req, data)\n\u001b[0;32m    521\u001b[0m \u001b[38;5;66;03m# post-process response\u001b[39;00m\n\u001b[0;32m    522\u001b[0m meth_name \u001b[38;5;241m=\u001b[39m protocol\u001b[38;5;241m+\u001b[39m\u001b[38;5;124m\"\u001b[39m\u001b[38;5;124m_response\u001b[39m\u001b[38;5;124m\"\u001b[39m\n",
      "File \u001b[1;32m~\\anaconda3\\Lib\\urllib\\request.py:536\u001b[0m, in \u001b[0;36mOpenerDirector._open\u001b[1;34m(self, req, data)\u001b[0m\n\u001b[0;32m    533\u001b[0m     \u001b[38;5;28;01mreturn\u001b[39;00m result\n\u001b[0;32m    535\u001b[0m protocol \u001b[38;5;241m=\u001b[39m req\u001b[38;5;241m.\u001b[39mtype\n\u001b[1;32m--> 536\u001b[0m result \u001b[38;5;241m=\u001b[39m \u001b[38;5;28mself\u001b[39m\u001b[38;5;241m.\u001b[39m_call_chain(\u001b[38;5;28mself\u001b[39m\u001b[38;5;241m.\u001b[39mhandle_open, protocol, protocol \u001b[38;5;241m+\u001b[39m\n\u001b[0;32m    537\u001b[0m                           \u001b[38;5;124m'\u001b[39m\u001b[38;5;124m_open\u001b[39m\u001b[38;5;124m'\u001b[39m, req)\n\u001b[0;32m    538\u001b[0m \u001b[38;5;28;01mif\u001b[39;00m result:\n\u001b[0;32m    539\u001b[0m     \u001b[38;5;28;01mreturn\u001b[39;00m result\n",
      "File \u001b[1;32m~\\anaconda3\\Lib\\urllib\\request.py:496\u001b[0m, in \u001b[0;36mOpenerDirector._call_chain\u001b[1;34m(self, chain, kind, meth_name, *args)\u001b[0m\n\u001b[0;32m    494\u001b[0m \u001b[38;5;28;01mfor\u001b[39;00m handler \u001b[38;5;129;01min\u001b[39;00m handlers:\n\u001b[0;32m    495\u001b[0m     func \u001b[38;5;241m=\u001b[39m \u001b[38;5;28mgetattr\u001b[39m(handler, meth_name)\n\u001b[1;32m--> 496\u001b[0m     result \u001b[38;5;241m=\u001b[39m func(\u001b[38;5;241m*\u001b[39margs)\n\u001b[0;32m    497\u001b[0m     \u001b[38;5;28;01mif\u001b[39;00m result \u001b[38;5;129;01mis\u001b[39;00m \u001b[38;5;129;01mnot\u001b[39;00m \u001b[38;5;28;01mNone\u001b[39;00m:\n\u001b[0;32m    498\u001b[0m         \u001b[38;5;28;01mreturn\u001b[39;00m result\n",
      "File \u001b[1;32m~\\anaconda3\\Lib\\urllib\\request.py:1377\u001b[0m, in \u001b[0;36mHTTPHandler.http_open\u001b[1;34m(self, req)\u001b[0m\n\u001b[0;32m   1376\u001b[0m \u001b[38;5;28;01mdef\u001b[39;00m \u001b[38;5;21mhttp_open\u001b[39m(\u001b[38;5;28mself\u001b[39m, req):\n\u001b[1;32m-> 1377\u001b[0m     \u001b[38;5;28;01mreturn\u001b[39;00m \u001b[38;5;28mself\u001b[39m\u001b[38;5;241m.\u001b[39mdo_open(http\u001b[38;5;241m.\u001b[39mclient\u001b[38;5;241m.\u001b[39mHTTPConnection, req)\n",
      "File \u001b[1;32m~\\anaconda3\\Lib\\urllib\\request.py:1351\u001b[0m, in \u001b[0;36mAbstractHTTPHandler.do_open\u001b[1;34m(self, http_class, req, **http_conn_args)\u001b[0m\n\u001b[0;32m   1348\u001b[0m         h\u001b[38;5;241m.\u001b[39mrequest(req\u001b[38;5;241m.\u001b[39mget_method(), req\u001b[38;5;241m.\u001b[39mselector, req\u001b[38;5;241m.\u001b[39mdata, headers,\n\u001b[0;32m   1349\u001b[0m                   encode_chunked\u001b[38;5;241m=\u001b[39mreq\u001b[38;5;241m.\u001b[39mhas_header(\u001b[38;5;124m'\u001b[39m\u001b[38;5;124mTransfer-encoding\u001b[39m\u001b[38;5;124m'\u001b[39m))\n\u001b[0;32m   1350\u001b[0m     \u001b[38;5;28;01mexcept\u001b[39;00m \u001b[38;5;167;01mOSError\u001b[39;00m \u001b[38;5;28;01mas\u001b[39;00m err: \u001b[38;5;66;03m# timeout error\u001b[39;00m\n\u001b[1;32m-> 1351\u001b[0m         \u001b[38;5;28;01mraise\u001b[39;00m URLError(err)\n\u001b[0;32m   1352\u001b[0m     r \u001b[38;5;241m=\u001b[39m h\u001b[38;5;241m.\u001b[39mgetresponse()\n\u001b[0;32m   1353\u001b[0m \u001b[38;5;28;01mexcept\u001b[39;00m:\n",
      "\u001b[1;31mURLError\u001b[0m: <urlopen error [WinError 10060] 연결된 구성원으로부터 응답이 없어 연결하지 못했거나, 호스트로부터 응답이 없어 연결이 끊어졌습니다>"
     ]
    }
   ],
   "source": [
    "@counter\n",
    "@benchmark\n",
    "@logging\n",
    "def get_random_futurama_quote():\n",
    "    from urllib.request import urlopen\n",
    "    result = urlopen('http://subfusion.net/cgi-bin/quote.pl?quote=futurama').read()\n",
    "    try:\n",
    "        value = result.split('<br><b><hr><br>')[1].split('<br><br><hr>')[0]\n",
    "        return value.strip()\n",
    "    except:\n",
    "        return 'No, I’m ... doesn’t!'\n",
    "\n",
    "    \n",
    "print(get_random_futurama_quote())\n",
    "print(get_random_futurama_quote())\n",
    "\n",
    "#outputs:\n",
    "#get_random_futurama_quote () {}\n",
    "#wrapper 0.02\n",
    "#wrapper has been used: 1x\n",
    "#The laws of science be a harsh mistress.\n",
    "#get_random_futurama_quote () {}\n",
    "#wrapper 0.01\n",
    "#wrapper has been used: 2x\n",
    "#Curse you, merciful Poseidon!"
   ]
  },
  {
   "cell_type": "markdown",
   "metadata": {
    "id": "D_CFtlXSZ916"
   },
   "source": [
    "### Useful decorators"
   ]
  },
  {
   "cell_type": "code",
   "execution_count": 101,
   "metadata": {
    "id": "aPTHOq-AZ916"
   },
   "outputs": [],
   "source": [
    "import pandas as pd"
   ]
  },
  {
   "cell_type": "code",
   "execution_count": 102,
   "metadata": {
    "id": "BIygRRatZ916"
   },
   "outputs": [],
   "source": [
    "def load_data():  \n",
    "    df = pd.DataFrame()\n",
    "    df['height'] = [72.1, 69.8, 63.2, 64.7]\n",
    "    df['weight'] = [198, 204, 164, 238]\n",
    "    return df"
   ]
  },
  {
   "cell_type": "code",
   "execution_count": 103,
   "metadata": {
    "id": "pNrj6fPvZ916"
   },
   "outputs": [],
   "source": [
    "def mean(data):\n",
    "    print(data.mean())\n",
    "def std(data):\n",
    "    print(data.std())\n",
    "def minimum(data):\n",
    "    print(data.min())\n",
    "def maximum(data):\n",
    "    print(data.max())"
   ]
  },
  {
   "cell_type": "code",
   "execution_count": 104,
   "metadata": {
    "id": "JubJFAneZ916"
   },
   "outputs": [
    {
     "name": "stdout",
     "output_type": "stream",
     "text": [
      "   height  weight\n",
      "0    72.1     198\n",
      "1    69.8     204\n",
      "2    63.2     164\n",
      "3    64.7     238\n"
     ]
    }
   ],
   "source": [
    "# Add the missing function references to the function map\n",
    "function_map = {\n",
    "  'mean': mean,\n",
    "  'std': std,\n",
    "  'minimum': minimum,\n",
    "  'maximum': maximum\n",
    "}\n",
    "\n",
    "data = load_data()\n",
    "print(data)"
   ]
  },
  {
   "cell_type": "code",
   "execution_count": 105,
   "metadata": {
    "id": "5UwRCDfWZ916"
   },
   "outputs": [
    {
     "name": "stdout",
     "output_type": "stream",
     "text": [
      "height     67.45\n",
      "weight    201.00\n",
      "dtype: float64\n",
      "height     4.194043\n",
      "weight    30.309514\n",
      "dtype: float64\n",
      "height     63.2\n",
      "weight    164.0\n",
      "dtype: float64\n",
      "height     72.1\n",
      "weight    238.0\n",
      "dtype: float64\n"
     ]
    }
   ],
   "source": [
    "# Call the chosen function and pass \"data\" as an argument\n",
    "function_map['mean'](data)\n",
    "function_map['std'](data)\n",
    "function_map['minimum'](data)\n",
    "function_map['maximum'](data)"
   ]
  },
  {
   "cell_type": "code",
   "execution_count": 106,
   "metadata": {
    "id": "okVJLqphZ917"
   },
   "outputs": [],
   "source": [
    "def has_docstring(func):\n",
    "    \"\"\"Check to see if the function \n",
    "  `func` has a docstring.\n",
    "\n",
    "  Args:\n",
    "    func (callable): A function.\n",
    "\n",
    "  Returns:\n",
    "    bool\n",
    "  \"\"\"\n",
    "    return func.__doc__ is not None"
   ]
  },
  {
   "cell_type": "code",
   "execution_count": 107,
   "metadata": {
    "id": "QGB8pPWPZ917"
   },
   "outputs": [],
   "source": [
    "def load_and_plot_data(filename):\n",
    "    \"\"\"Load a data frame and plot each column.  \n",
    "    Args:\n",
    "    filename (str): Path to a CSV file of data.\n",
    "    Returns:\n",
    "    pandas.DataFrame  \n",
    "    \"\"\"\n",
    "    df = pd.load_csv(filename, index_col=0)\n",
    "    df.hist()\n",
    "    return df"
   ]
  },
  {
   "cell_type": "code",
   "execution_count": 108,
   "metadata": {
    "id": "-vnrvUNXZ917"
   },
   "outputs": [
    {
     "data": {
      "text/plain": [
       "True"
      ]
     },
     "execution_count": 108,
     "metadata": {},
     "output_type": "execute_result"
    }
   ],
   "source": [
    "has_docstring(load_and_plot_data)"
   ]
  },
  {
   "cell_type": "raw",
   "metadata": {
    "id": "9LZ8qVe_Z917"
   },
   "source": [
    "Returning functions for a math game\n",
    "You are building an educational math game where the player enters a math term, \n",
    "and your program returns a function that matches that term. For instance, \n",
    "if the user types \"add\", your program returns a function that adds two numbers"
   ]
  },
  {
   "cell_type": "code",
   "execution_count": 118,
   "metadata": {
    "id": "hbQzrNUZZ917"
   },
   "outputs": [
    {
     "name": "stdout",
     "output_type": "stream",
     "text": [
      "5 + 2 = 7\n",
      "5 - 2 = 3\n"
     ]
    }
   ],
   "source": [
    "def create_math_function(func_name):\n",
    "    if func_name == 'add':\n",
    "        def add(a, b):\n",
    "            return a + b\n",
    "        return add\n",
    "    elif func_name == 'subtract':\n",
    "    # Define the subtract() function\n",
    "        def subtract(a, b):\n",
    "            return a - b\n",
    "        return subtract\n",
    "    else:\n",
    "        print(\"I don't know that one\")\n",
    "    \n",
    "################################## TODO ##################################\n",
    "# Define variable add with the above function\n",
    "add = create_math_function('add')\n",
    "print('5 + 2 = {}'.format(add(5, 2)))\n",
    "\n",
    "################################## TODO ##################################\n",
    "# Define variable subtract with the above function\n",
    "subtract = create_math_function('subtract')\n",
    "print('5 - 2 = {}'.format(subtract(5, 2)))"
   ]
  },
  {
   "cell_type": "markdown",
   "metadata": {
    "id": "1waUnmfAZ917"
   },
   "source": [
    "### Defining a decorator"
   ]
  },
  {
   "cell_type": "code",
   "execution_count": 91,
   "metadata": {
    "id": "pvhoUurXZ917"
   },
   "outputs": [],
   "source": [
    "def print_before_and_after(func):\n",
    "    def wrapper(*args):\n",
    "        print('Before {}'.format(func.__name__))\n",
    "    # Call the function being decorated with *args\n",
    "        func(*args)\n",
    "        print('After {}'.format(func.__name__))\n",
    "  # Return the nested function\n",
    "    return wrapper"
   ]
  },
  {
   "cell_type": "code",
   "execution_count": 92,
   "metadata": {
    "id": "AJFBGSO9Z917"
   },
   "outputs": [
    {
     "name": "stdout",
     "output_type": "stream",
     "text": [
      "Before multiply\n",
      "50\n",
      "After multiply\n"
     ]
    }
   ],
   "source": [
    "@print_before_and_after\n",
    "def multiply(a, b):\n",
    "    print(a * b)\n",
    "\n",
    "multiply(5, 10)"
   ]
  },
  {
   "cell_type": "code",
   "execution_count": 93,
   "metadata": {
    "id": "9a5_oRpjZ917"
   },
   "outputs": [],
   "source": [
    "## More examples"
   ]
  },
  {
   "cell_type": "code",
   "execution_count": 94,
   "metadata": {
    "id": "OOXEDLZYZ918"
   },
   "outputs": [],
   "source": [
    "def print_return_type(func):\n",
    "    # Define wrapper(), the decorated function\n",
    "    def wrapper(*args, **kwargs):\n",
    "        # Call the function being decorated\n",
    "        result = func(*args, **kwargs)\n",
    "        print('{}() returned type {}'.format(\n",
    "          func.__name__, type(result)\n",
    "        ))\n",
    "        return result\n",
    "    # Return the decorated function\n",
    "    return wrapper"
   ]
  },
  {
   "cell_type": "code",
   "execution_count": 95,
   "metadata": {
    "id": "5_2IS5HlZ918"
   },
   "outputs": [
    {
     "name": "stdout",
     "output_type": "stream",
     "text": [
      "foo() returned type <class 'int'>\n",
      "42\n",
      "foo() returned type <class 'list'>\n",
      "[1, 2, 3]\n",
      "foo() returned type <class 'dict'>\n",
      "{'a': 42}\n"
     ]
    }
   ],
   "source": [
    "@print_return_type\n",
    "def foo(value):\n",
    "    return value\n",
    "  \n",
    "print(foo(42))\n",
    "print(foo([1, 2, 3]))\n",
    "print(foo({'a': 42}))"
   ]
  },
  {
   "cell_type": "code",
   "execution_count": 96,
   "metadata": {
    "id": "ajg-RqjiZ918"
   },
   "outputs": [],
   "source": [
    "def counter(func):\n",
    "    def wrapper(*args, **kwargs):\n",
    "        wrapper.count += 1\n",
    "        # Call the function being decorated and return the result\n",
    "        return wrapper.count\n",
    "    wrapper.count = 0\n",
    "    # Return the new decorated function\n",
    "    return wrapper"
   ]
  },
  {
   "cell_type": "code",
   "execution_count": 100,
   "metadata": {
    "id": "0yHjaUYMZ918"
   },
   "outputs": [
    {
     "name": "stdout",
     "output_type": "stream",
     "text": [
      "foo() was called 3 times.\n"
     ]
    }
   ],
   "source": [
    "################################## TODO ##################################\n",
    "# Decorate foo() with the counter() decorator\n",
    "\n",
    "@counter\n",
    "def foo(value):\n",
    "    return value\n",
    "\n",
    "foo()\n",
    "foo()\n",
    "foo()\n",
    "print('foo() was called {} times.'.format(foo.count))"
   ]
  },
  {
   "cell_type": "markdown",
   "metadata": {
    "id": "K0LCsx2jZ918"
   },
   "source": [
    "### Decorators with argument"
   ]
  },
  {
   "cell_type": "code",
   "execution_count": 84,
   "metadata": {
    "id": "XGG5knXJZ918"
   },
   "outputs": [],
   "source": [
    "def run_n_times(n):\n",
    "    \"\"\"Define and return a decorator\"\"\"\n",
    "    def decorator(func):\n",
    "        def wrapper(*args, **kwargs):\n",
    "            for i in range(n):\n",
    "                func(*args, **kwargs)\n",
    "        return wrapper\n",
    "    return decorator"
   ]
  },
  {
   "cell_type": "code",
   "execution_count": 85,
   "metadata": {
    "id": "CYnOtNPzZ918"
   },
   "outputs": [
    {
     "name": "stdout",
     "output_type": "stream",
     "text": [
      "35\n",
      "35\n",
      "35\n",
      "35\n",
      "35\n",
      "35\n",
      "35\n",
      "35\n",
      "35\n",
      "35\n"
     ]
    }
   ],
   "source": [
    "# Make print_sum() run 10 times with the run_n_times() decorator\n",
    "@run_n_times(10)\n",
    "def print_sum(a, b):\n",
    "    print(a + b)\n",
    "\n",
    "print_sum(15, 20)"
   ]
  },
  {
   "cell_type": "code",
   "execution_count": 90,
   "metadata": {
    "id": "jT3wU-EXZ918"
   },
   "outputs": [
    {
     "name": "stdout",
     "output_type": "stream",
     "text": [
      "104\n",
      "104\n",
      "104\n",
      "104\n",
      "104\n"
     ]
    }
   ],
   "source": [
    "################################## TODO ##################################\n",
    "# Use run_n_times() to create the run_five_times() decorator\n",
    "run_five_times = run_n_times(5)\n",
    "\n",
    "################################## TODO ##################################\n",
    "# Decorate print_sum with run_five_times\n",
    "\n",
    "@run_five_times\n",
    "def print_sum(a, b):\n",
    "    print(a + b)\n",
    "    \n",
    "print_sum(4, 100)"
   ]
  },
  {
   "cell_type": "code",
   "execution_count": null,
   "metadata": {
    "id": "37xSU3xbZ918"
   },
   "outputs": [],
   "source": [
    "# Modify the print() function to always run 20 times\n",
    "default_print = print\n",
    "print = run_n_times(20)(print)\n",
    "\n",
    "\n",
    "print('What is happening?!?!')\n",
    "print = default_print\n",
    "print('I am OK')"
   ]
  },
  {
   "cell_type": "markdown",
   "metadata": {
    "id": "ml_8MFYKZ918"
   },
   "source": [
    "### Check the return type"
   ]
  },
  {
   "cell_type": "code",
   "execution_count": 70,
   "metadata": {
    "id": "AA7DLbacZ918"
   },
   "outputs": [],
   "source": [
    "def returns_dict(func):\n",
    "  # Complete the returns_dict() decorator\n",
    "    def wrapper(*args, **kwargs):\n",
    "        result = func(*args, **kwargs)\n",
    "        assert(type(result) == dict)\n",
    "        return result\n",
    "    return wrapper"
   ]
  },
  {
   "cell_type": "code",
   "execution_count": 71,
   "metadata": {
    "id": "zdt4XwuqZ919"
   },
   "outputs": [],
   "source": [
    "@returns_dict\n",
    "def foo(value):\n",
    "    return value"
   ]
  },
  {
   "cell_type": "code",
   "execution_count": 72,
   "metadata": {
    "id": "o6VuC-Q2Z919"
   },
   "outputs": [
    {
     "name": "stdout",
     "output_type": "stream",
     "text": [
      "foo() did not return a dict!\n"
     ]
    }
   ],
   "source": [
    "try:\n",
    "    print(foo([1,2,3]))\n",
    "except AssertionError:\n",
    "    print('foo() did not return a dict!')"
   ]
  },
  {
   "cell_type": "code",
   "execution_count": 73,
   "metadata": {
    "id": "FeUVIdCgZ919"
   },
   "outputs": [],
   "source": [
    "def returns(return_type):\n",
    "    # Complete the returns() decorator\n",
    "    def decorator(funct):\n",
    "        def wrapper(*args, **kwargs):\n",
    "            result = funct(*args, **kwargs)\n",
    "            assert(type(result) == return_type)\n",
    "            return result\n",
    "        return wrapper\n",
    "    return decorator\n",
    "  \n"
   ]
  },
  {
   "cell_type": "code",
   "execution_count": 74,
   "metadata": {
    "id": "B9ej_2OkZ919"
   },
   "outputs": [],
   "source": [
    "@returns(dict)\n",
    "def foo(value):\n",
    "    return value\n"
   ]
  },
  {
   "cell_type": "code",
   "execution_count": 75,
   "metadata": {
    "id": "oq_t7ICyZ919"
   },
   "outputs": [
    {
     "name": "stdout",
     "output_type": "stream",
     "text": [
      "foo() did not return a dict!\n"
     ]
    }
   ],
   "source": [
    "try:\n",
    "    print(foo([1,2,3]))\n",
    "except AssertionError:\n",
    "    print('foo() did not return a dict!')"
   ]
  },
  {
   "cell_type": "code",
   "execution_count": 82,
   "metadata": {
    "id": "b2K7B9tJZ919"
   },
   "outputs": [
    {
     "name": "stdout",
     "output_type": "stream",
     "text": [
      "[1, 2, 3]\n"
     ]
    }
   ],
   "source": [
    "################################## TODO ##################################\n",
    "# Decorate the below foo function so that there will be no assertion error.\n",
    "@returns(list)\n",
    "def foo(value):\n",
    "    return value\n",
    "\n",
    "try:\n",
    "    print(foo([1,2,3]))\n",
    "except AssertionError:\n",
    "    print('foo() did not return a dict!')"
   ]
  }
 ],
 "metadata": {
  "colab": {
   "provenance": []
  },
  "kernelspec": {
   "display_name": "Python 3 (ipykernel)",
   "language": "python",
   "name": "python3"
  },
  "language_info": {
   "codemirror_mode": {
    "name": "ipython",
    "version": 3
   },
   "file_extension": ".py",
   "mimetype": "text/x-python",
   "name": "python",
   "nbconvert_exporter": "python",
   "pygments_lexer": "ipython3",
   "version": "3.11.4"
  }
 },
 "nbformat": 4,
 "nbformat_minor": 4
}

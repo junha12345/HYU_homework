{
 "cells": [
  {
   "cell_type": "markdown",
   "metadata": {
    "id": "VSYgduDWsOld",
    "tags": []
   },
   "source": [
    "# Practice 4: NumPy"
   ]
  },
  {
   "cell_type": "markdown",
   "metadata": {
    "id": "5e9cpfl7sOlh"
   },
   "source": [
    "## Slicing"
   ]
  },
  {
   "cell_type": "code",
   "execution_count": 5,
   "metadata": {
    "colab": {
     "base_uri": "https://localhost:8080/"
    },
    "executionInfo": {
     "elapsed": 296,
     "status": "ok",
     "timestamp": 1663150246962,
     "user": {
      "displayName": "­우지민",
      "userId": "16423887003847635019"
     },
     "user_tz": -540
    },
    "id": "Uq383wHlsOli",
    "outputId": "04f02f29-b9e4-4f9d-93b2-09c6f05583e9",
    "tags": []
   },
   "outputs": [
    {
     "name": "stdout",
     "output_type": "stream",
     "text": [
      "[0, 1, 2, 3, 4, 5, 6, 7, 8, 9]\n"
     ]
    }
   ],
   "source": [
    "import numpy as np\n",
    "\n",
    "mylist = list(range(10))\n",
    "print(mylist)"
   ]
  },
  {
   "cell_type": "markdown",
   "metadata": {
    "id": "BotLdBknsOlk"
   },
   "source": [
    "Use slicing to produce the following outputs:"
   ]
  },
  {
   "cell_type": "markdown",
   "metadata": {
    "id": "nG40Re_tsOlk"
   },
   "source": [
    "[2, 3, 4, 5]"
   ]
  },
  {
   "cell_type": "code",
   "execution_count": 6,
   "metadata": {
    "executionInfo": {
     "elapsed": 549,
     "status": "ok",
     "timestamp": 1663150248264,
     "user": {
      "displayName": "­우지민",
      "userId": "16423887003847635019"
     },
     "user_tz": -540
    },
    "id": "xEfhijpKsOll",
    "tags": []
   },
   "outputs": [
    {
     "data": {
      "text/plain": [
       "[2, 3, 4, 5]"
      ]
     },
     "execution_count": 6,
     "metadata": {},
     "output_type": "execute_result"
    }
   ],
   "source": [
    "#################### TODO ####################\n",
    "mylist[2:6]\n",
    "##############################################"
   ]
  },
  {
   "cell_type": "markdown",
   "metadata": {
    "id": "447U7QcDsOll"
   },
   "source": [
    "[0, 1, 2, 3, 4]"
   ]
  },
  {
   "cell_type": "code",
   "execution_count": 7,
   "metadata": {
    "executionInfo": {
     "elapsed": 7,
     "status": "ok",
     "timestamp": 1663150248264,
     "user": {
      "displayName": "­우지민",
      "userId": "16423887003847635019"
     },
     "user_tz": -540
    },
    "id": "nkPAFVTCsOll",
    "tags": []
   },
   "outputs": [
    {
     "data": {
      "text/plain": [
       "[0, 1, 2, 3, 4]"
      ]
     },
     "execution_count": 7,
     "metadata": {},
     "output_type": "execute_result"
    }
   ],
   "source": [
    "#################### TODO ####################\n",
    "mylist[:5]\n",
    "##############################################"
   ]
  },
  {
   "cell_type": "markdown",
   "metadata": {
    "id": "shi2wbwesOlm"
   },
   "source": [
    "[6, 7, 8, 9]"
   ]
  },
  {
   "cell_type": "code",
   "execution_count": 8,
   "metadata": {
    "executionInfo": {
     "elapsed": 7,
     "status": "ok",
     "timestamp": 1663150248264,
     "user": {
      "displayName": "­우지민",
      "userId": "16423887003847635019"
     },
     "user_tz": -540
    },
    "id": "4XA8mbRrsOlm",
    "tags": []
   },
   "outputs": [
    {
     "data": {
      "text/plain": [
       "[6, 7, 8, 9]"
      ]
     },
     "execution_count": 8,
     "metadata": {},
     "output_type": "execute_result"
    }
   ],
   "source": [
    "#################### TODO ####################\n",
    "mylist[6:10]\n",
    "##############################################"
   ]
  },
  {
   "cell_type": "markdown",
   "metadata": {
    "id": "HEzsEqnxsOln"
   },
   "source": [
    "[0, 2, 4, 6, 8]"
   ]
  },
  {
   "cell_type": "code",
   "execution_count": 9,
   "metadata": {
    "executionInfo": {
     "elapsed": 6,
     "status": "ok",
     "timestamp": 1663150248264,
     "user": {
      "displayName": "­우지민",
      "userId": "16423887003847635019"
     },
     "user_tz": -540
    },
    "id": "rvYbFjdGsOln",
    "tags": []
   },
   "outputs": [
    {
     "data": {
      "text/plain": [
       "[0, 2, 4, 6, 8]"
      ]
     },
     "execution_count": 9,
     "metadata": {},
     "output_type": "execute_result"
    }
   ],
   "source": [
    "#################### TODO ####################\n",
    "mylist[:10:2]\n",
    "##############################################"
   ]
  },
  {
   "cell_type": "markdown",
   "metadata": {
    "id": "NBi_lB5zsOln"
   },
   "source": [
    "[9, 8, 7, 6, 5, 4, 3, 2, 1, 0]"
   ]
  },
  {
   "cell_type": "code",
   "execution_count": 10,
   "metadata": {
    "executionInfo": {
     "elapsed": 7,
     "status": "ok",
     "timestamp": 1663150248265,
     "user": {
      "displayName": "­우지민",
      "userId": "16423887003847635019"
     },
     "user_tz": -540
    },
    "id": "SIwfD82gsOlo",
    "tags": []
   },
   "outputs": [
    {
     "data": {
      "text/plain": [
       "[9, 8, 7, 6, 5, 4, 3, 2, 1, 0]"
      ]
     },
     "execution_count": 10,
     "metadata": {},
     "output_type": "execute_result"
    }
   ],
   "source": [
    "#################### TODO ####################\n",
    "mylist[::-1]\n",
    "##############################################"
   ]
  },
  {
   "cell_type": "markdown",
   "metadata": {
    "id": "PDPpLeevsOlo"
   },
   "source": [
    "[7, 5, 3]"
   ]
  },
  {
   "cell_type": "code",
   "execution_count": 11,
   "metadata": {
    "executionInfo": {
     "elapsed": 7,
     "status": "ok",
     "timestamp": 1663150248265,
     "user": {
      "displayName": "­우지민",
      "userId": "16423887003847635019"
     },
     "user_tz": -540
    },
    "id": "Q-eW9uHAsOlo",
    "tags": []
   },
   "outputs": [
    {
     "data": {
      "text/plain": [
       "[7, 5, 3]"
      ]
     },
     "execution_count": 11,
     "metadata": {},
     "output_type": "execute_result"
    }
   ],
   "source": [
    "#################### TODO ####################\n",
    "mylist[::-1][2:7:2]\n",
    "##############################################"
   ]
  },
  {
   "cell_type": "markdown",
   "metadata": {
    "id": "Rh1S6vgWsOlp"
   },
   "source": [
    "## Matrices and lists of lists"
   ]
  },
  {
   "cell_type": "code",
   "execution_count": 12,
   "metadata": {
    "executionInfo": {
     "elapsed": 7,
     "status": "ok",
     "timestamp": 1663150248265,
     "user": {
      "displayName": "­우지민",
      "userId": "16423887003847635019"
     },
     "user_tz": -540
    },
    "id": "NZp6Gv5asOlp",
    "tags": []
   },
   "outputs": [],
   "source": [
    "matrix = [[0, 1, 2],\n",
    "          [3, 4, 5],\n",
    "          [6, 7, 8]]"
   ]
  },
  {
   "cell_type": "markdown",
   "metadata": {
    "id": "aPtM34ANsOlp"
   },
   "source": [
    "Get the second row by slicing twice"
   ]
  },
  {
   "cell_type": "code",
   "execution_count": 13,
   "metadata": {
    "executionInfo": {
     "elapsed": 7,
     "status": "ok",
     "timestamp": 1663150248265,
     "user": {
      "displayName": "­우지민",
      "userId": "16423887003847635019"
     },
     "user_tz": -540
    },
    "id": "BcWjINuEsOlp",
    "tags": []
   },
   "outputs": [
    {
     "data": {
      "text/plain": [
       "[[3, 4, 5]]"
      ]
     },
     "execution_count": 13,
     "metadata": {},
     "output_type": "execute_result"
    }
   ],
   "source": [
    "#################### TODO ####################\n",
    "matrix[1:2][:]\n",
    "##############################################"
   ]
  },
  {
   "cell_type": "markdown",
   "metadata": {
    "id": "qiP8b5jQsOlq"
   },
   "source": [
    "Try to get the second column by slicing. Do not use a list comprehension!"
   ]
  },
  {
   "cell_type": "code",
   "execution_count": 14,
   "metadata": {
    "colab": {
     "base_uri": "https://localhost:8080/"
    },
    "executionInfo": {
     "elapsed": 7,
     "status": "ok",
     "timestamp": 1663150248265,
     "user": {
      "displayName": "­우지민",
      "userId": "16423887003847635019"
     },
     "user_tz": -540
    },
    "id": "fkuKQNUHsOlq",
    "outputId": "0d2cf771-cdfd-4b67-ce73-5a590d62f6af",
    "tags": []
   },
   "outputs": [
    {
     "data": {
      "text/plain": [
       "[3, 4, 5]"
      ]
     },
     "execution_count": 14,
     "metadata": {},
     "output_type": "execute_result"
    }
   ],
   "source": [
    "matrix[:][1]"
   ]
  },
  {
   "cell_type": "code",
   "execution_count": 15,
   "metadata": {
    "executionInfo": {
     "elapsed": 5,
     "status": "ok",
     "timestamp": 1663150248265,
     "user": {
      "displayName": "­우지민",
      "userId": "16423887003847635019"
     },
     "user_tz": -540
    },
    "id": "v2HetF06sOlq",
    "tags": []
   },
   "outputs": [
    {
     "data": {
      "text/plain": [
       "[1, 4, 7]"
      ]
     },
     "execution_count": 15,
     "metadata": {},
     "output_type": "execute_result"
    }
   ],
   "source": [
    "#################### TODO ####################\n",
    "# Previous approach did not work\n",
    "# Use list comprehension\n",
    "[i[1] for i in matrix]\n",
    "##############################################"
   ]
  },
  {
   "cell_type": "markdown",
   "metadata": {
    "id": "Yc1Sap52sOlr"
   },
   "source": [
    "## Getting started"
   ]
  },
  {
   "cell_type": "markdown",
   "metadata": {
    "id": "p92JYKQFsOlr"
   },
   "source": [
    "Import the NumPy package"
   ]
  },
  {
   "cell_type": "code",
   "execution_count": 16,
   "metadata": {
    "executionInfo": {
     "elapsed": 5,
     "status": "ok",
     "timestamp": 1663150248265,
     "user": {
      "displayName": "­우지민",
      "userId": "16423887003847635019"
     },
     "user_tz": -540
    },
    "id": "TdREOcQ3sOlr",
    "tags": []
   },
   "outputs": [],
   "source": [
    "#################### TODO ####################\n",
    "import numpy as np\n",
    "##############################################"
   ]
  },
  {
   "cell_type": "markdown",
   "metadata": {
    "id": "9Tr1L63asOlr"
   },
   "source": [
    "## Create an array"
   ]
  },
  {
   "cell_type": "code",
   "execution_count": 17,
   "metadata": {
    "colab": {
     "base_uri": "https://localhost:8080/"
    },
    "executionInfo": {
     "elapsed": 2565,
     "status": "ok",
     "timestamp": 1663150250825,
     "user": {
      "displayName": "­우지민",
      "userId": "16423887003847635019"
     },
     "user_tz": -540
    },
    "id": "4OMLacjasOlr",
    "outputId": "1afeae93-0eb5-4e74-c2f1-f40651eabd8a",
    "tags": []
   },
   "outputs": [
    {
     "name": "stdout",
     "output_type": "stream",
     "text": [
      "Search results for 'create array'\n",
      "---------------------------------\n",
      "numpy.memmap\n",
      "    Create a memory-map to an array stored in a *binary* file on disk.\n",
      "numpy.char.array\n",
      "    Create a `chararray`.\n",
      "numpy.diagflat\n",
      "    Create a two-dimensional array with the flattened input as a diagonal.\n",
      "numpy.fromiter\n",
      "    Create a new 1-dimensional array from an iterable object.\n",
      "numpy.partition\n",
      "    Return a partitioned copy of an array.\n",
      "numpy.from_dlpack\n",
      "    Create a NumPy array from an object implementing the ``__dlpack__``\n",
      "numpy.rec.fromarrays\n",
      "    Create a record array from a (flat) list of arrays\n",
      "numpy.ctypeslib.as_array\n",
      "    Create a numpy array from a ctypes array or POINTER.\n",
      "numpy.ma.diagflat\n",
      "    Create a two-dimensional array with the flattened input as a diagonal.\n",
      "numpy.ma.make_mask\n",
      "    Create a boolean mask from an array.\n",
      "numpy.rec.fromfile\n",
      "    Create an array from binary file data\n",
      "numpy.rec.fromstring\n",
      "    Create a record array from binary data\n",
      "numpy.lib.Arrayterator\n",
      "    Buffered iterator for big arrays.\n",
      "numpy.rec.fromrecords\n",
      "    Create a recarray from a list of records in text form.\n",
      "numpy.ctypeslib.as_ctypes\n",
      "    Create and return a ctypes object from a numpy array.  Actually\n",
      "numpy.ma.mrecords.fromarrays\n",
      "    Creates a mrecarray from a (flat) list of masked arrays.\n",
      "numpy.ma.mvoid.__new__\n",
      "    Create a new masked array from scratch.\n",
      "numpy.ma.MaskedArray.__new__\n",
      "    Create a new masked array from scratch.\n",
      "numpy.ma.mrecords.fromtextfile\n",
      "    Creates a mrecarray from data stored in the file `filename`.\n",
      "numpy.array\n",
      "    array(object, dtype=None, *, copy=True, order='K', subok=False, ndmin=0,\n",
      "numpy.asarray\n",
      "    Convert the input to an array.\n",
      "numpy.ndarray\n",
      "    ndarray(shape, dtype=float, buffer=None, offset=0,\n",
      "numpy.recarray\n",
      "    Construct an ndarray that allows field access using attributes.\n",
      "numpy.chararray\n",
      "    chararray(shape, itemsize=1, unicode=False, buffer=None, offset=0,\n",
      "numpy.exp\n",
      "    Calculate the exponential of all elements in the input array.\n",
      "numpy.pad\n",
      "    Pad an array.\n",
      "numpy.asanyarray\n",
      "    Convert the input to an ndarray, but pass ndarray subclasses through.\n",
      "numpy.cbrt\n",
      "    Return the cube-root of an array, element-wise.\n",
      "numpy.copy\n",
      "    Return an array copy of the given object.\n",
      "numpy.diag\n",
      "    Extract a diagonal or construct a diagonal array.\n",
      "numpy.exp2\n",
      "    Calculate `2**p` for all `p` in the input array.\n",
      "numpy.fmax\n",
      "    Element-wise maximum of array elements.\n",
      "numpy.fmin\n",
      "    Element-wise minimum of array elements.\n",
      "numpy.load\n",
      "    Load arrays or pickled objects from ``.npy``, ``.npz`` or pickled files.\n",
      "numpy.modf\n",
      "    Return the fractional and integral parts of an array, element-wise.\n",
      "numpy.rint\n",
      "    Round elements of the array to the nearest integer.\n",
      "numpy.sort\n",
      "    Return a sorted copy of an array.\n",
      "numpy.sqrt\n",
      "    Return the non-negative square-root of an array, element-wise.\n",
      "numpy.void\n",
      "    Create a new structured or unstructured void scalar.\n",
      "numpy.array_equiv\n",
      "    Returns True if input arrays are shape consistent and all elements equal.\n",
      "numpy.dtype\n",
      "    Create a data type object.\n",
      "numpy.expm1\n",
      "    Calculate ``exp(x) - 1`` for all elements in the array.\n",
      "numpy.isnan\n",
      "    Test element-wise for NaN and return result as a boolean array.\n",
      "numpy.isnat\n",
      "    Test element-wise for NaT (not a time) and return result as a boolean array.\n",
      "numpy.log10\n",
      "    Return the base 10 logarithm of the input array, element-wise.\n",
      "numpy.log1p\n",
      "    Return the natural logarithm of one plus the input array, element-wise.\n",
      "numpy.power\n",
      "    First array elements raised to powers from second array, element-wise.\n",
      "numpy.ufunc\n",
      "    Functions that operate element by element on whole arrays.\n",
      "numpy.choose\n",
      "    Construct an array from an index array and a list of arrays to choose from.\n",
      "numpy.nditer\n",
      "    Efficient multi-dimensional iterator object to iterate over arrays.\n",
      "numpy.maximum\n",
      "    Element-wise maximum of array elements.\n",
      "numpy.minimum\n",
      "    Element-wise minimum of array elements.\n",
      "numpy.meshgrid\n",
      "    Return coordinate matrices from coordinate vectors.\n",
      "numpy.swapaxes\n",
      "    Interchange two axes of an array.\n",
      "numpy.full_like\n",
      "    Return a full array with the same shape and type as a given array.\n",
      "numpy.ones_like\n",
      "    Return an array of ones with the same shape and type as a given array.\n",
      "numpy.bitwise_or\n",
      "    Compute the bit-wise OR of two arrays element-wise.\n",
      "numpy.rec.array\n",
      "    Construct a record array from a wide-variety of objects.\n",
      "numpy.datetime64\n",
      "    If created from a 64-bit integer, it represents an offset from\n",
      "numpy.empty_like\n",
      "    Return a new array with the same shape and type as a given array.\n",
      "numpy.frombuffer\n",
      "    Interpret a buffer as a 1-dimensional array.\n",
      "numpy.zeros_like\n",
      "    Return an array of zeros with the same shape and type as a given array.\n",
      "numpy.asarray_chkfinite\n",
      "    Convert the input to an array, checking for NaNs or Infs.\n",
      "numpy.bitwise_and\n",
      "    Compute the bit-wise AND of two arrays element-wise.\n",
      "numpy.bitwise_xor\n",
      "    Compute the bit-wise XOR of two arrays element-wise.\n",
      "numpy.float_power\n",
      "    First array elements raised to powers from second array, element-wise.\n",
      "numpy.diag_indices\n",
      "    Return the indices to access the main diagonal of an array.\n",
      "numpy.ma.exp\n",
      "    Calculate the exponential of all elements in the input array.\n",
      "numpy.nested_iters\n",
      "    Create nditers for use in nested loops\n",
      "numpy.ma.sqrt\n",
      "    Return the non-negative square-root of an array, element-wise.\n",
      "numpy.ma.log10\n",
      "    Return the base 10 logarithm of the input array, element-wise.\n",
      "numpy.chararray.tolist\n",
      "    a.tolist()\n",
      "numpy.put_along_axis\n",
      "    Put values into the destination array by matching 1d index and data slices.\n",
      "numpy.ma.mrecords.MaskedRecords.__new__\n",
      "    Create a new masked array from scratch.\n",
      "numpy.ma.choose\n",
      "    Use an index array to construct a new array from a list of choices.\n",
      "numpy.ma.maximum\n",
      "    Element-wise maximum of array elements.\n",
      "numpy.ma.minimum\n",
      "    Element-wise minimum of array elements.\n",
      "numpy.savez_compressed\n",
      "    Save several arrays into a single file in compressed ``.npz`` format.\n",
      "numpy.matlib.rand\n",
      "    Return a matrix of random values with given shape.\n",
      "numpy.datetime_as_string\n",
      "    Convert an array of datetimes into an array of strings.\n",
      "numpy.ma.ones_like\n",
      "    Return an array of ones with the same shape and type as a given array.\n",
      "numpy.ma.bitwise_or\n",
      "    Compute the bit-wise OR of two arrays element-wise.\n",
      "numpy.ma.frombuffer\n",
      "    Interpret a buffer as a 1-dimensional array.\n",
      "numpy.ma.zeros_like\n",
      "    Return an array of zeros with the same shape and type as a given array.\n",
      "numpy.ma.bitwise_and\n",
      "    Compute the bit-wise AND of two arrays element-wise.\n",
      "numpy.ma.bitwise_xor\n",
      "    Compute the bit-wise XOR of two arrays element-wise.\n",
      "numpy.ma.make_mask_none\n",
      "    Return a boolean mask of the given shape, filled with False.\n",
      "numpy.ma.tests.test_subclassing.MSubArray.__new__\n",
      "    Create a new masked array from scratch.\n",
      "numpy.ma.tests.test_subclassing.SubMaskedArray.__new__\n",
      "    Create a new masked array from scratch.\n",
      "numpy.ma.mrecords.fromrecords\n",
      "    Creates a MaskedRecords from a list of records.\n",
      "numpy.f2py.tests.test_array_from_pyobj.Array.has_shared_memory\n",
      "    Check that created array shares data with input array.\n",
      "numpy.abs\n",
      "    Calculate the absolute value element-wise.\n",
      "numpy.add\n",
      "    Add arguments element-wise.\n",
      "numpy.cos\n",
      "    Cosine element-wise.\n",
      "numpy.log\n",
      "    Natural logarithm, element-wise.\n",
      "numpy.mod\n",
      "    Returns the element-wise remainder of division.\n",
      "numpy.lib.recfunctions.require_fields\n",
      "    Casts a structured array to a new dtype using assignment by field-name.\n",
      "numpy.sin\n",
      "    Trigonometric sine, element-wise.\n",
      "numpy.tan\n",
      "    Compute tangent element-wise.\n",
      "numpy.ceil\n",
      "    Return the ceiling of the input, element-wise.\n",
      "numpy.conj\n",
      "    Return the complex conjugate, element-wise.\n",
      "numpy.cosh\n",
      "    Hyperbolic cosine, element-wise.\n",
      "numpy.fabs\n",
      "    Compute the absolute values element-wise.\n",
      "numpy.fmod\n",
      "    Returns the element-wise remainder of division.\n",
      "numpy.less\n",
      "    Return the truth value of (x1 < x2) element-wise.\n",
      "numpy.log2\n",
      "    Base-2 logarithm of `x`.\n",
      "numpy.sign\n",
      "    Returns an element-wise indication of the sign of a number.\n",
      "numpy.sinh\n",
      "    Hyperbolic sine, element-wise.\n",
      "numpy.tanh\n",
      "    Compute hyperbolic tangent element-wise.\n",
      "numpy.equal\n",
      "    Return (x1 == x2) element-wise.\n",
      "numpy.floor\n",
      "    Return the floor of the input, element-wise.\n",
      "numpy.frexp\n",
      "    Decompose the elements of x into mantissa and twos exponent.\n",
      "numpy.hypot\n",
      "    Given the \"legs\" of a right triangle, return its hypotenuse.\n",
      "numpy.isinf\n",
      "    Test element-wise for positive or negative infinity.\n",
      "numpy.ldexp\n",
      "    Returns x1 * 2**x2, element-wise.\n",
      "numpy.trunc\n",
      "    Return the truncated value of the input, element-wise.\n",
      "numpy.arccos\n",
      "    Trigonometric inverse cosine, element-wise.\n",
      "numpy.arcsin\n",
      "    Inverse sine, element-wise.\n",
      "numpy.arctan\n",
      "    Trigonometric inverse tangent, element-wise.\n",
      "numpy.around\n",
      "    Evenly round to the given number of decimals.\n",
      "numpy.divide\n",
      "    Divide arguments element-wise.\n",
      "numpy.divmod\n",
      "    Return element-wise quotient and remainder simultaneously.\n",
      "numpy.source\n",
      "    Print or write to a file the source code for a NumPy object.\n",
      "numpy.square\n",
      "    Return the element-wise square of the input.\n",
      "numpy.arccosh\n",
      "    Inverse hyperbolic cosine, element-wise.\n",
      "numpy.arcsinh\n",
      "    Inverse hyperbolic sine element-wise.\n",
      "numpy.arctan2\n",
      "    Element-wise arc tangent of ``x1/x2`` choosing the quadrant correctly.\n",
      "numpy.arctanh\n",
      "    Inverse hyperbolic tangent element-wise.\n",
      "numpy.deg2rad\n",
      "    Convert angles from degrees to radians.\n",
      "numpy.degrees\n",
      "    Convert angles from radians to degrees.\n",
      "numpy.greater\n",
      "    Return the truth value of (x1 > x2) element-wise.\n",
      "numpy.rad2deg\n",
      "    Convert angles from radians to degrees.\n",
      "numpy.radians\n",
      "    Convert angles from degrees to radians.\n",
      "numpy.signbit\n",
      "    Returns element-wise True where signbit is set (less than zero).\n",
      "numpy.spacing\n",
      "    Return the distance between x and the nearest adjacent number.\n",
      "numpy.copysign\n",
      "    Change the sign of x1 to that of x2, element-wise.\n",
      "numpy.diagonal\n",
      "    Return specified diagonals.\n",
      "numpy.isfinite\n",
      "    Test element-wise for finiteness (not infinity and not Not a Number).\n",
      "numpy.multiply\n",
      "    Multiply arguments element-wise.\n",
      "numpy.negative\n",
      "    Numerical negative, element-wise.\n",
      "numpy.subtract\n",
      "    Subtract arguments, element-wise.\n",
      "numpy.heaviside\n",
      "    Compute the Heaviside step function.\n",
      "numpy.logaddexp\n",
      "    Logarithm of the sum of exponentiations of the inputs.\n",
      "numpy.nextafter\n",
      "    Return the next floating-point value after x1 towards x2, element-wise.\n",
      "numpy.not_equal\n",
      "    Return (x1 != x2) element-wise.\n",
      "numpy.left_shift\n",
      "    Shift the bits of an integer to the left.\n",
      "numpy.less_equal\n",
      "    Return the truth value of (x1 <= x2) element-wise.\n",
      "numpy.logaddexp2\n",
      "    Logarithm of the sum of exponentiations of the inputs in base-2.\n",
      "numpy.logical_or\n",
      "    Compute the truth value of x1 OR x2 element-wise.\n",
      "numpy.nan_to_num\n",
      "    Replace NaN with zero and infinity with large finite numbers (default\n",
      "numpy.reciprocal\n",
      "    Return the reciprocal of the argument, element-wise.\n",
      "numpy.bitwise_not\n",
      "    Compute bit-wise inversion, or bit-wise NOT, element-wise.\n",
      "numpy.einsum_path\n",
      "    Evaluates the lowest cost contraction order for an einsum expression by\n",
      "numpy.histogram2d\n",
      "    Compute the bi-dimensional histogram of two data samples.\n",
      "numpy.logical_and\n",
      "    Compute the truth value of x1 AND x2 element-wise.\n",
      "numpy.logical_not\n",
      "    Compute the truth value of NOT x element-wise.\n",
      "numpy.logical_xor\n",
      "    Compute the truth value of x1 XOR x2, element-wise.\n",
      "numpy.right_shift\n",
      "    Shift the bits of an integer to the right.\n",
      "numpy.ma.abs\n",
      "    Calculate the absolute value element-wise.\n",
      "numpy.ma.add\n",
      "    Add arguments element-wise.\n",
      "numpy.ma.cos\n",
      "    Cosine element-wise.\n",
      "numpy.floor_divide\n",
      "    Return the largest integer smaller or equal to the division of the inputs.\n",
      "numpy.ma.log\n",
      "    Natural logarithm, element-wise.\n",
      "numpy.ma.mod\n",
      "    Returns the element-wise remainder of division.\n",
      "numpy.ma.sin\n",
      "    Trigonometric sine, element-wise.\n",
      "numpy.ma.tan\n",
      "    Compute tangent element-wise.\n",
      "numpy.ma.ceil\n",
      "    Return the ceiling of the input, element-wise.\n",
      "numpy.fft.ifft\n",
      "    Compute the one-dimensional inverse discrete Fourier Transform.\n",
      "numpy.ma.cosh\n",
      "    Hyperbolic cosine, element-wise.\n",
      "numpy.ma.fabs\n",
      "    Compute the absolute values element-wise.\n",
      "numpy.ma.fmod\n",
      "    Returns the element-wise remainder of division.\n",
      "numpy.greater_equal\n",
      "    Return the truth value of (x1 >= x2) element-wise.\n",
      "numpy.ma.less\n",
      "    Return the truth value of (x1 < x2) element-wise.\n",
      "numpy.ma.log2\n",
      "    Base-2 logarithm of `x`.\n",
      "numpy.ma.sinh\n",
      "    Hyperbolic sine, element-wise.\n",
      "numpy.ma.tanh\n",
      "    Compute hyperbolic tangent element-wise.\n",
      "numpy.busdaycalendar\n",
      "    A business day calendar object that efficiently stores information\n",
      "numpy.fft.ifftn\n",
      "    Compute the N-dimensional inverse discrete Fourier Transform.\n",
      "numpy.ma.equal\n",
      "    Return (x1 == x2) element-wise.\n",
      "numpy.ma.floor\n",
      "    Return the floor of the input, element-wise.\n",
      "numpy.ma.hypot\n",
      "    Given the \"legs\" of a right triangle, return its hypotenuse.\n",
      "numpy.ma.arccos\n",
      "    Trigonometric inverse cosine, element-wise.\n",
      "numpy.ma.arcsin\n",
      "    Inverse sine, element-wise.\n",
      "numpy.ma.arctan\n",
      "    Trigonometric inverse tangent, element-wise.\n",
      "numpy.ma.divide\n",
      "    Divide arguments element-wise.\n",
      "numpy.lib.recfunctions.unstructured_to_structured\n",
      "    Converts an n-D unstructured array into an (n-1)-D structured array.\n",
      "numpy.ma.arccosh\n",
      "    Inverse hyperbolic cosine, element-wise.\n",
      "numpy.ma.arcsinh\n",
      "    Inverse hyperbolic sine element-wise.\n",
      "numpy.ma.arctan2\n",
      "    Element-wise arc tangent of ``x1/x2`` choosing the quadrant correctly.\n",
      "numpy.ma.arctanh\n",
      "    Inverse hyperbolic tangent element-wise.\n",
      "numpy.ma.greater\n",
      "    Return the truth value of (x1 > x2) element-wise.\n",
      "numpy.ma.tests.test_subclassing.SubArray\n",
      "    ndarray(shape, dtype=float, buffer=None, offset=0,\n",
      "numpy.ma.multiply\n",
      "    Multiply arguments element-wise.\n",
      "numpy.ma.negative\n",
      "    Numerical negative, element-wise.\n",
      "numpy.ma.subtract\n",
      "    Subtract arguments, element-wise.\n",
      "numpy.ma.conjugate\n",
      "    Return the complex conjugate, element-wise.\n",
      "numpy.ma.not_equal\n",
      "    Return (x1 != x2) element-wise.\n",
      "numpy.ma.remainder\n",
      "    Returns the element-wise remainder of division.\n",
      "numpy.ma.empty_like\n",
      "    empty_like(prototype, dtype=None, order='K', subok=True, shape=None)\n",
      "numpy.ma.less_equal\n",
      "    Return the truth value of (x1 <= x2) element-wise.\n",
      "numpy.ma.logical_or\n",
      "    Compute the truth value of x1 OR x2 element-wise.\n",
      "numpy.ma.logical_and\n",
      "    Compute the truth value of x1 AND x2 element-wise.\n",
      "numpy.ma.logical_not\n",
      "    Compute the truth value of NOT x element-wise.\n",
      "numpy.ma.logical_xor\n",
      "    Compute the truth value of x1 XOR x2, element-wise.\n",
      "numpy.ma.true_divide\n",
      "    Divide arguments element-wise.\n",
      "numpy.ma.floor_divide\n",
      "    Return the largest integer smaller or equal to the division of the inputs.\n",
      "numpy.ma.greater_equal\n",
      "    Return the truth value of (x1 >= x2) element-wise.\n",
      "numpy.lib.tests.test_stride_tricks.SimpleSubClass\n",
      "    ndarray(shape, dtype=float, buffer=None, offset=0,\n",
      "numpy.ma.tests.test_subclassing.ComplicatedSubArray\n",
      "    ndarray(shape, dtype=float, buffer=None, offset=0,\n",
      "numpy.lib.tests.test_stride_tricks.VerySimpleSubClass\n",
      "    ndarray(shape, dtype=float, buffer=None, offset=0,\n",
      "numpy.random.RandomState.rand\n",
      "    Random values in a given shape.\n",
      "numpy.random.Generator.permuted\n",
      "    Randomly permute `x` along axis `axis`."
     ]
    }
   ],
   "source": [
    "np.lookfor('create array')"
   ]
  },
  {
   "cell_type": "code",
   "execution_count": 18,
   "metadata": {
    "colab": {
     "base_uri": "https://localhost:8080/"
    },
    "executionInfo": {
     "elapsed": 16,
     "status": "ok",
     "timestamp": 1663150250826,
     "user": {
      "displayName": "­우지민",
      "userId": "16423887003847635019"
     },
     "user_tz": -540
    },
    "id": "6ZZDa_NOsOlr",
    "outputId": "3a70fee1-8701-4c4d-841c-ee2f2014b9fb",
    "tags": []
   },
   "outputs": [
    {
     "name": "stdout",
     "output_type": "stream",
     "text": [
      "Help on built-in function array in module numpy:\n",
      "\n",
      "array(...)\n",
      "    array(object, dtype=None, *, copy=True, order='K', subok=False, ndmin=0,\n",
      "          like=None)\n",
      "    \n",
      "    Create an array.\n",
      "    \n",
      "    Parameters\n",
      "    ----------\n",
      "    object : array_like\n",
      "        An array, any object exposing the array interface, an object whose\n",
      "        __array__ method returns an array, or any (nested) sequence.\n",
      "        If object is a scalar, a 0-dimensional array containing object is\n",
      "        returned.\n",
      "    dtype : data-type, optional\n",
      "        The desired data-type for the array.  If not given, then the type will\n",
      "        be determined as the minimum type required to hold the objects in the\n",
      "        sequence.\n",
      "    copy : bool, optional\n",
      "        If true (default), then the object is copied.  Otherwise, a copy will\n",
      "        only be made if __array__ returns a copy, if obj is a nested sequence,\n",
      "        or if a copy is needed to satisfy any of the other requirements\n",
      "        (`dtype`, `order`, etc.).\n",
      "    order : {'K', 'A', 'C', 'F'}, optional\n",
      "        Specify the memory layout of the array. If object is not an array, the\n",
      "        newly created array will be in C order (row major) unless 'F' is\n",
      "        specified, in which case it will be in Fortran order (column major).\n",
      "        If object is an array the following holds.\n",
      "    \n",
      "        ===== ========= ===================================================\n",
      "        order  no copy                     copy=True\n",
      "        ===== ========= ===================================================\n",
      "        'K'   unchanged F & C order preserved, otherwise most similar order\n",
      "        'A'   unchanged F order if input is F and not C, otherwise C order\n",
      "        'C'   C order   C order\n",
      "        'F'   F order   F order\n",
      "        ===== ========= ===================================================\n",
      "    \n",
      "        When ``copy=False`` and a copy is made for other reasons, the result is\n",
      "        the same as if ``copy=True``, with some exceptions for 'A', see the\n",
      "        Notes section. The default order is 'K'.\n",
      "    subok : bool, optional\n",
      "        If True, then sub-classes will be passed-through, otherwise\n",
      "        the returned array will be forced to be a base-class array (default).\n",
      "    ndmin : int, optional\n",
      "        Specifies the minimum number of dimensions that the resulting\n",
      "        array should have.  Ones will be prepended to the shape as\n",
      "        needed to meet this requirement.\n",
      "    like : array_like, optional\n",
      "        Reference object to allow the creation of arrays which are not\n",
      "        NumPy arrays. If an array-like passed in as ``like`` supports\n",
      "        the ``__array_function__`` protocol, the result will be defined\n",
      "        by it. In this case, it ensures the creation of an array object\n",
      "        compatible with that passed in via this argument.\n",
      "    \n",
      "        .. versionadded:: 1.20.0\n",
      "    \n",
      "    Returns\n",
      "    -------\n",
      "    out : ndarray\n",
      "        An array object satisfying the specified requirements.\n",
      "    \n",
      "    See Also\n",
      "    --------\n",
      "    empty_like : Return an empty array with shape and type of input.\n",
      "    ones_like : Return an array of ones with shape and type of input.\n",
      "    zeros_like : Return an array of zeros with shape and type of input.\n",
      "    full_like : Return a new array with shape of input filled with value.\n",
      "    empty : Return a new uninitialized array.\n",
      "    ones : Return a new array setting values to one.\n",
      "    zeros : Return a new array setting values to zero.\n",
      "    full : Return a new array of given shape filled with value.\n",
      "    \n",
      "    \n",
      "    Notes\n",
      "    -----\n",
      "    When order is 'A' and `object` is an array in neither 'C' nor 'F' order,\n",
      "    and a copy is forced by a change in dtype, then the order of the result is\n",
      "    not necessarily 'C' as expected. This is likely a bug.\n",
      "    \n",
      "    Examples\n",
      "    --------\n",
      "    >>> np.array([1, 2, 3])\n",
      "    array([1, 2, 3])\n",
      "    \n",
      "    Upcasting:\n",
      "    \n",
      "    >>> np.array([1, 2, 3.0])\n",
      "    array([ 1.,  2.,  3.])\n",
      "    \n",
      "    More than one dimension:\n",
      "    \n",
      "    >>> np.array([[1, 2], [3, 4]])\n",
      "    array([[1, 2],\n",
      "           [3, 4]])\n",
      "    \n",
      "    Minimum dimensions 2:\n",
      "    \n",
      "    >>> np.array([1, 2, 3], ndmin=2)\n",
      "    array([[1, 2, 3]])\n",
      "    \n",
      "    Type provided:\n",
      "    \n",
      "    >>> np.array([1, 2, 3], dtype=complex)\n",
      "    array([ 1.+0.j,  2.+0.j,  3.+0.j])\n",
      "    \n",
      "    Data-type consisting of more than one element:\n",
      "    \n",
      "    >>> x = np.array([(1,2),(3,4)],dtype=[('a','<i4'),('b','<i4')])\n",
      "    >>> x['a']\n",
      "    array([1, 3])\n",
      "    \n",
      "    Creating an array from sub-classes:\n",
      "    \n",
      "    >>> np.array(np.mat('1 2; 3 4'))\n",
      "    array([[1, 2],\n",
      "           [3, 4]])\n",
      "    \n",
      "    >>> np.array(np.mat('1 2; 3 4'), subok=True)\n",
      "    matrix([[1, 2],\n",
      "            [3, 4]])\n",
      "\n"
     ]
    }
   ],
   "source": [
    "help(np.array)"
   ]
  },
  {
   "cell_type": "markdown",
   "metadata": {
    "id": "VOOR5dOCsOlr"
   },
   "source": [
    "The variable `matrix` contains a list of lists. Turn it into an `ndarray` and assign it to the variable `myarray`. Verify that its type is correct."
   ]
  },
  {
   "cell_type": "code",
   "execution_count": 19,
   "metadata": {
    "executionInfo": {
     "elapsed": 10,
     "status": "ok",
     "timestamp": 1663150250826,
     "user": {
      "displayName": "­우지민",
      "userId": "16423887003847635019"
     },
     "user_tz": -540
    },
    "id": "JrRTKO8CsOlr",
    "tags": []
   },
   "outputs": [],
   "source": [
    "#################### TODO ####################\n",
    "# Convert matrix to myarray\n",
    "myarray=np.array(matrix)\n",
    "##############################################"
   ]
  },
  {
   "cell_type": "code",
   "execution_count": 20,
   "metadata": {
    "colab": {
     "base_uri": "https://localhost:8080/",
     "height": 193
    },
    "executionInfo": {
     "elapsed": 602,
     "status": "error",
     "timestamp": 1663150251418,
     "user": {
      "displayName": "­우지민",
      "userId": "16423887003847635019"
     },
     "user_tz": -540
    },
    "id": "lFQGx4RrsOlr",
    "outputId": "ad782dd1-63d8-4be4-8306-82b2d02f4fea",
    "tags": []
   },
   "outputs": [
    {
     "data": {
      "text/plain": [
       "numpy.ndarray"
      ]
     },
     "execution_count": 20,
     "metadata": {},
     "output_type": "execute_result"
    }
   ],
   "source": [
    "# Verify that its type is correct\n",
    "type(myarray)"
   ]
  },
  {
   "cell_type": "markdown",
   "metadata": {
    "id": "3SP7vUV7sOls"
   },
   "source": [
    "For practicing purposes, arrays can conveniently be created with the `arange` method."
   ]
  },
  {
   "cell_type": "code",
   "execution_count": 21,
   "metadata": {
    "executionInfo": {
     "elapsed": 12,
     "status": "aborted",
     "timestamp": 1663150251418,
     "user": {
      "displayName": "­우지민",
      "userId": "16423887003847635019"
     },
     "user_tz": -540
    },
    "id": "-MDqbSI2sOls",
    "tags": []
   },
   "outputs": [
    {
     "data": {
      "text/plain": [
       "array([0, 1, 2, 3, 4, 5])"
      ]
     },
     "execution_count": 21,
     "metadata": {},
     "output_type": "execute_result"
    }
   ],
   "source": [
    "myarray1 = np.arange(6)\n",
    "myarray1"
   ]
  },
  {
   "cell_type": "code",
   "execution_count": 22,
   "metadata": {
    "executionInfo": {
     "elapsed": 11,
     "status": "aborted",
     "timestamp": 1663150251418,
     "user": {
      "displayName": "­우지민",
      "userId": "16423887003847635019"
     },
     "user_tz": -540
    },
    "id": "O57xPjHPsOls",
    "tags": []
   },
   "outputs": [],
   "source": [
    "def array_attributes(a):\n",
    "    for attr in ('ndim', 'size', 'itemsize', 'dtype', 'shape', 'strides'):\n",
    "        print('{:8s}: {}'.format(attr, getattr(a, attr)))"
   ]
  },
  {
   "cell_type": "code",
   "execution_count": 23,
   "metadata": {
    "executionInfo": {
     "elapsed": 12,
     "status": "aborted",
     "timestamp": 1663150251419,
     "user": {
      "displayName": "­우지민",
      "userId": "16423887003847635019"
     },
     "user_tz": -540
    },
    "id": "RqFHMwXjsOls",
    "tags": []
   },
   "outputs": [
    {
     "name": "stdout",
     "output_type": "stream",
     "text": [
      "ndim    : 1\n",
      "size    : 6\n",
      "itemsize: 4\n",
      "dtype   : int32\n",
      "shape   : (6,)\n",
      "strides : (4,)\n"
     ]
    }
   ],
   "source": [
    "array_attributes(myarray1)"
   ]
  },
  {
   "cell_type": "markdown",
   "metadata": {
    "id": "1yG2k9ZhsOls"
   },
   "source": [
    "## Data types"
   ]
  },
  {
   "cell_type": "markdown",
   "metadata": {
    "id": "SPz3kW-XsOls"
   },
   "source": [
    "Use `np.array()` to create arrays containing\n",
    " * floats\n",
    " * complex numbers\n",
    " * booleans\n",
    " * strings\n",
    " \n",
    "and check the `dtype` attribute."
   ]
  },
  {
   "cell_type": "code",
   "execution_count": 24,
   "metadata": {
    "executionInfo": {
     "elapsed": 12,
     "status": "aborted",
     "timestamp": 1663150251419,
     "user": {
      "displayName": "­우지민",
      "userId": "16423887003847635019"
     },
     "user_tz": -540
    },
    "id": "kqdiMxI3sOlt",
    "tags": []
   },
   "outputs": [
    {
     "data": {
      "text/plain": [
       "dtype('float64')"
      ]
     },
     "execution_count": 24,
     "metadata": {},
     "output_type": "execute_result"
    }
   ],
   "source": [
    "np.array([[1.0, 2.0], [3.0, 4.0]]).dtype"
   ]
  },
  {
   "cell_type": "code",
   "execution_count": 25,
   "metadata": {
    "executionInfo": {
     "elapsed": 12,
     "status": "aborted",
     "timestamp": 1663150251419,
     "user": {
      "displayName": "­우지민",
      "userId": "16423887003847635019"
     },
     "user_tz": -540
    },
    "id": "kYuUU2JVsOlt",
    "tags": []
   },
   "outputs": [
    {
     "data": {
      "text/plain": [
       "dtype('complex128')"
      ]
     },
     "execution_count": 25,
     "metadata": {},
     "output_type": "execute_result"
    }
   ],
   "source": [
    "np.array([[1+2j, 3+4j], [3-4j, 1-2j]]).dtype"
   ]
  },
  {
   "cell_type": "code",
   "execution_count": 26,
   "metadata": {
    "executionInfo": {
     "elapsed": 12,
     "status": "aborted",
     "timestamp": 1663150251419,
     "user": {
      "displayName": "­우지민",
      "userId": "16423887003847635019"
     },
     "user_tz": -540
    },
    "id": "YozVCwQPsOlt",
    "tags": []
   },
   "outputs": [
    {
     "data": {
      "text/plain": [
       "dtype('bool')"
      ]
     },
     "execution_count": 26,
     "metadata": {},
     "output_type": "execute_result"
    }
   ],
   "source": [
    "np.array([True, False]).dtype"
   ]
  },
  {
   "cell_type": "code",
   "execution_count": 27,
   "metadata": {
    "executionInfo": {
     "elapsed": 12,
     "status": "aborted",
     "timestamp": 1663150251419,
     "user": {
      "displayName": "­우지민",
      "userId": "16423887003847635019"
     },
     "user_tz": -540
    },
    "id": "pWCFh0_DsOlt",
    "tags": []
   },
   "outputs": [
    {
     "data": {
      "text/plain": [
       "dtype('<U9')"
      ]
     },
     "execution_count": 27,
     "metadata": {},
     "output_type": "execute_result"
    }
   ],
   "source": [
    "np.array(['Python', 'EuroSciPy', 'Erlangen']).dtype"
   ]
  },
  {
   "cell_type": "markdown",
   "metadata": {
    "id": "iydPE-xzsOlt"
   },
   "source": [
    "Do you understand what is happening in the following statement?"
   ]
  },
  {
   "cell_type": "code",
   "execution_count": 29,
   "metadata": {
    "executionInfo": {
     "elapsed": 13,
     "status": "aborted",
     "timestamp": 1663150251420,
     "user": {
      "displayName": "­우지민",
      "userId": "16423887003847635019"
     },
     "user_tz": -540
    },
    "id": "a1Vojg1DsOlt",
    "tags": []
   },
   "outputs": [
    {
     "data": {
      "text/plain": [
       "array([   1,   11,   21,   31,   41,   51,   61,   71,   81,   91,  101,\n",
       "        111,  121, -125, -115, -105], dtype=int8)"
      ]
     },
     "execution_count": 29,
     "metadata": {},
     "output_type": "execute_result"
    }
   ],
   "source": [
    "np.arange(1, 160, 10, dtype=np.int8)"
   ]
  },
  {
   "cell_type": "markdown",
   "metadata": {
    "id": "JCl8DrqrsOlt"
   },
   "source": [
    "## Reshape"
   ]
  },
  {
   "cell_type": "markdown",
   "metadata": {
    "id": "j5sijnD8sOlt"
   },
   "source": [
    "## Indexing and slicing"
   ]
  },
  {
   "cell_type": "markdown",
   "metadata": {
    "id": "k82IAqnBsOlt"
   },
   "source": [
    "### 1d arrays"
   ]
  },
  {
   "cell_type": "code",
   "execution_count": 30,
   "metadata": {
    "executionInfo": {
     "elapsed": 13,
     "status": "aborted",
     "timestamp": 1663150251420,
     "user": {
      "displayName": "­우지민",
      "userId": "16423887003847635019"
     },
     "user_tz": -540
    },
    "id": "W0WQ3-uKsOlt",
    "tags": []
   },
   "outputs": [],
   "source": [
    "a = np.arange(10)"
   ]
  },
  {
   "cell_type": "markdown",
   "metadata": {
    "id": "MupwKSM9sOlu"
   },
   "source": [
    "Create the array [7, 8, 9]"
   ]
  },
  {
   "cell_type": "code",
   "execution_count": 31,
   "metadata": {
    "executionInfo": {
     "elapsed": 12,
     "status": "aborted",
     "timestamp": 1663150251420,
     "user": {
      "displayName": "­우지민",
      "userId": "16423887003847635019"
     },
     "user_tz": -540
    },
    "id": "1FVVZwspsOlu",
    "tags": []
   },
   "outputs": [
    {
     "data": {
      "text/plain": [
       "array([7, 8, 9])"
      ]
     },
     "execution_count": 31,
     "metadata": {},
     "output_type": "execute_result"
    }
   ],
   "source": [
    "#################### TODO ####################\n",
    "a[7:]\n",
    "##############################################"
   ]
  },
  {
   "cell_type": "markdown",
   "metadata": {
    "id": "6CqH9pqvsOlu"
   },
   "source": [
    "Create the array [2, 4, 6, 8]"
   ]
  },
  {
   "cell_type": "code",
   "execution_count": 32,
   "metadata": {
    "executionInfo": {
     "elapsed": 12,
     "status": "aborted",
     "timestamp": 1663150251420,
     "user": {
      "displayName": "­우지민",
      "userId": "16423887003847635019"
     },
     "user_tz": -540
    },
    "id": "Q6zy3zP5sOlu",
    "tags": []
   },
   "outputs": [
    {
     "data": {
      "text/plain": [
       "array([2, 4, 6, 8])"
      ]
     },
     "execution_count": 32,
     "metadata": {},
     "output_type": "execute_result"
    }
   ],
   "source": [
    "#################### TODO ####################\n",
    "a[2::2]\n",
    "##############################################"
   ]
  },
  {
   "cell_type": "markdown",
   "metadata": {
    "id": "cF2-ugUksOlu"
   },
   "source": [
    "Create the array [9, 8, 7, 6, 5, 4, 3, 2, 1, 0]"
   ]
  },
  {
   "cell_type": "code",
   "execution_count": 33,
   "metadata": {
    "executionInfo": {
     "elapsed": 12,
     "status": "aborted",
     "timestamp": 1663150251420,
     "user": {
      "displayName": "­우지민",
      "userId": "16423887003847635019"
     },
     "user_tz": -540
    },
    "id": "UFPB6E71sOlu",
    "tags": []
   },
   "outputs": [
    {
     "data": {
      "text/plain": [
       "array([9, 8, 7, 6, 5, 4, 3, 2, 1, 0])"
      ]
     },
     "execution_count": 33,
     "metadata": {},
     "output_type": "execute_result"
    }
   ],
   "source": [
    "#################### TODO ####################\n",
    "a[::-1]\n",
    "##############################################"
   ]
  },
  {
   "cell_type": "markdown",
   "metadata": {
    "id": "asqB21LGsOlu"
   },
   "source": [
    "Create the array [8, 9]"
   ]
  },
  {
   "cell_type": "code",
   "execution_count": 34,
   "metadata": {
    "executionInfo": {
     "elapsed": 12,
     "status": "aborted",
     "timestamp": 1663150251420,
     "user": {
      "displayName": "­우지민",
      "userId": "16423887003847635019"
     },
     "user_tz": -540
    },
    "id": "-bXz2sGZsOlu",
    "tags": []
   },
   "outputs": [
    {
     "data": {
      "text/plain": [
       "array([8, 9])"
      ]
     },
     "execution_count": 34,
     "metadata": {},
     "output_type": "execute_result"
    }
   ],
   "source": [
    "#################### TODO ####################\n",
    "a[-2:]\n",
    "##############################################"
   ]
  },
  {
   "cell_type": "markdown",
   "metadata": {
    "id": "Tzq-CUP2sOlu"
   },
   "source": [
    "Create the array [7, 6, 5, 4]"
   ]
  },
  {
   "cell_type": "code",
   "execution_count": 35,
   "metadata": {
    "executionInfo": {
     "elapsed": 13,
     "status": "aborted",
     "timestamp": 1663150251421,
     "user": {
      "displayName": "­우지민",
      "userId": "16423887003847635019"
     },
     "user_tz": -540
    },
    "id": "PRIo0e9ssOlu",
    "tags": []
   },
   "outputs": [
    {
     "data": {
      "text/plain": [
       "array([7, 6, 5, 4])"
      ]
     },
     "execution_count": 35,
     "metadata": {},
     "output_type": "execute_result"
    }
   ],
   "source": [
    "#################### TODO ####################\n",
    "a[7:3:-1]\n",
    "##############################################"
   ]
  },
  {
   "cell_type": "markdown",
   "metadata": {
    "id": "Ly40_eI9sOlv"
   },
   "source": [
    "### Higher dimensions"
   ]
  },
  {
   "cell_type": "code",
   "execution_count": 36,
   "metadata": {
    "executionInfo": {
     "elapsed": 13,
     "status": "aborted",
     "timestamp": 1663150251421,
     "user": {
      "displayName": "­우지민",
      "userId": "16423887003847635019"
     },
     "user_tz": -540
    },
    "id": "JNwQMjdhsOlv",
    "tags": []
   },
   "outputs": [],
   "source": [
    "a = np.arange(40).reshape(5, 8)"
   ]
  },
  {
   "cell_type": "code",
   "execution_count": 37,
   "metadata": {
    "executionInfo": {
     "elapsed": 13,
     "status": "aborted",
     "timestamp": 1663150251421,
     "user": {
      "displayName": "­우지민",
      "userId": "16423887003847635019"
     },
     "user_tz": -540
    },
    "id": "STHhcEkssOlv",
    "tags": []
   },
   "outputs": [
    {
     "name": "stdout",
     "output_type": "stream",
     "text": [
      "[[ 0  1  2  3  4  5  6  7]\n",
      " [ 8  9 10 11 12 13 14 15]\n",
      " [16 17 18 19 20 21 22 23]\n",
      " [24 25 26 27 28 29 30 31]\n",
      " [32 33 34 35 36 37 38 39]]\n"
     ]
    }
   ],
   "source": [
    "print(a)"
   ]
  },
  {
   "cell_type": "code",
   "execution_count": 38,
   "metadata": {
    "executionInfo": {
     "elapsed": 13,
     "status": "aborted",
     "timestamp": 1663150251421,
     "user": {
      "displayName": "­우지민",
      "userId": "16423887003847635019"
     },
     "user_tz": -540
    },
    "id": "wl6flUkjsOlv",
    "tags": []
   },
   "outputs": [
    {
     "data": {
      "text/plain": [
       "array([[32, 33, 34, 35, 36, 37, 38, 39],\n",
       "       [24, 25, 26, 27, 28, 29, 30, 31],\n",
       "       [16, 17, 18, 19, 20, 21, 22, 23],\n",
       "       [ 8,  9, 10, 11, 12, 13, 14, 15],\n",
       "       [ 0,  1,  2,  3,  4,  5,  6,  7]])"
      ]
     },
     "execution_count": 38,
     "metadata": {},
     "output_type": "execute_result"
    }
   ],
   "source": [
    "a[[4,3,2,1,0],:]"
   ]
  },
  {
   "cell_type": "markdown",
   "metadata": {
    "id": "6UXJ9B0asOlv"
   },
   "source": [
    "Create the array\n",
    "[[21, 22, 23],\n",
    "[29, 30, 31],\n",
    "[37, 38, 39]]"
   ]
  },
  {
   "cell_type": "code",
   "execution_count": 39,
   "metadata": {
    "executionInfo": {
     "elapsed": 12,
     "status": "aborted",
     "timestamp": 1663150251421,
     "user": {
      "displayName": "­우지민",
      "userId": "16423887003847635019"
     },
     "user_tz": -540
    },
    "id": "1RYA9GWTsOlv",
    "tags": []
   },
   "outputs": [
    {
     "data": {
      "text/plain": [
       "array([[21, 22, 23],\n",
       "       [29, 30, 31],\n",
       "       [37, 38, 39]])"
      ]
     },
     "execution_count": 39,
     "metadata": {},
     "output_type": "execute_result"
    }
   ],
   "source": [
    "#################### TODO ####################\n",
    "a[2:,-3:]\n",
    "##############################################"
   ]
  },
  {
   "cell_type": "markdown",
   "metadata": {
    "id": "HOKHQOHBsOlv"
   },
   "source": [
    "Create the array [ 3, 11, 19, 27, 35]"
   ]
  },
  {
   "cell_type": "code",
   "execution_count": 40,
   "metadata": {
    "executionInfo": {
     "elapsed": 12,
     "status": "aborted",
     "timestamp": 1663150251421,
     "user": {
      "displayName": "­우지민",
      "userId": "16423887003847635019"
     },
     "user_tz": -540
    },
    "id": "PhDj_aQKsOlv",
    "tags": []
   },
   "outputs": [
    {
     "data": {
      "text/plain": [
       "array([[ 3],\n",
       "       [11],\n",
       "       [19],\n",
       "       [27],\n",
       "       [35]])"
      ]
     },
     "execution_count": 40,
     "metadata": {},
     "output_type": "execute_result"
    }
   ],
   "source": [
    "#################### TODO ####################\n",
    "a[:,3:4]\n",
    "##############################################"
   ]
  },
  {
   "cell_type": "markdown",
   "metadata": {
    "id": "z4VNIVdlsOlv"
   },
   "source": [
    "Create the array [11, 12, 13]"
   ]
  },
  {
   "cell_type": "code",
   "execution_count": 41,
   "metadata": {
    "executionInfo": {
     "elapsed": 13,
     "status": "aborted",
     "timestamp": 1663150251422,
     "user": {
      "displayName": "­우지민",
      "userId": "16423887003847635019"
     },
     "user_tz": -540
    },
    "id": "UOERmqDYsOlv",
    "tags": []
   },
   "outputs": [
    {
     "data": {
      "text/plain": [
       "array([[11, 12, 13]])"
      ]
     },
     "execution_count": 41,
     "metadata": {},
     "output_type": "execute_result"
    }
   ],
   "source": [
    "#################### TODO ####################\n",
    "a[1:2,3:6]\n",
    "##############################################"
   ]
  },
  {
   "cell_type": "markdown",
   "metadata": {
    "id": "hXW-7ondsOlv"
   },
   "source": [
    "Create the array\n",
    "[[ 8, 11, 14],\n",
    "[24, 27, 30]]"
   ]
  },
  {
   "cell_type": "code",
   "execution_count": 42,
   "metadata": {
    "executionInfo": {
     "elapsed": 13,
     "status": "aborted",
     "timestamp": 1663150251422,
     "user": {
      "displayName": "­우지민",
      "userId": "16423887003847635019"
     },
     "user_tz": -540
    },
    "id": "NjrI4dHIsOlv"
   },
   "outputs": [
    {
     "data": {
      "text/plain": [
       "array([[ 8, 11, 14],\n",
       "       [24, 27, 30]])"
      ]
     },
     "execution_count": 42,
     "metadata": {},
     "output_type": "execute_result"
    }
   ],
   "source": [
    "#################### TODO ####################\n",
    "a[1::2,::3]\n",
    "##############################################"
   ]
  },
  {
   "cell_type": "markdown",
   "metadata": {
    "id": "bzR9XFBxsOlw"
   },
   "source": [
    "Create the array\n",
    "[[32, 33, 34, 35, 36, 37, 38, 39],\n",
    "[24, 25, 26, 27, 28, 29, 30, 31],\n",
    "[16, 17, 18, 19, 20, 21, 22, 23],\n",
    "[ 8,  9, 10, 11, 12, 13, 14, 15],\n",
    "[ 0,  1,  2,  3,  4,  5,  6,  7]])"
   ]
  },
  {
   "cell_type": "code",
   "execution_count": 44,
   "metadata": {
    "executionInfo": {
     "elapsed": 13,
     "status": "aborted",
     "timestamp": 1663150251422,
     "user": {
      "displayName": "­우지민",
      "userId": "16423887003847635019"
     },
     "user_tz": -540
    },
    "id": "qT6SjIVcsOlw"
   },
   "outputs": [
    {
     "data": {
      "text/plain": [
       "array([[32, 33, 34, 35, 36, 37, 38, 39],\n",
       "       [24, 25, 26, 27, 28, 29, 30, 31],\n",
       "       [16, 17, 18, 19, 20, 21, 22, 23],\n",
       "       [ 8,  9, 10, 11, 12, 13, 14, 15],\n",
       "       [ 0,  1,  2,  3,  4,  5,  6,  7]])"
      ]
     },
     "execution_count": 44,
     "metadata": {},
     "output_type": "execute_result"
    }
   ],
   "source": [
    "#################### TODO ####################\n",
    "a[::-1,:]\n",
    "##############################################"
   ]
  },
  {
   "cell_type": "markdown",
   "metadata": {
    "id": "cPZKR8oEsOlw"
   },
   "source": [
    "Create the array [7, 6, 5, 4]"
   ]
  },
  {
   "cell_type": "code",
   "execution_count": 48,
   "metadata": {
    "executionInfo": {
     "elapsed": 13,
     "status": "aborted",
     "timestamp": 1663150251422,
     "user": {
      "displayName": "­우지민",
      "userId": "16423887003847635019"
     },
     "user_tz": -540
    },
    "id": "pZZjZ_aIsOlw"
   },
   "outputs": [
    {
     "data": {
      "text/plain": [
       "array([[7, 6, 5, 4]])"
      ]
     },
     "execution_count": 48,
     "metadata": {},
     "output_type": "execute_result"
    }
   ],
   "source": [
    "#################### TODO ####################\n",
    "a[0:1,7:3:-1]\n",
    "##############################################"
   ]
  },
  {
   "cell_type": "markdown",
   "metadata": {
    "id": "-1pwte0ZsOlw"
   },
   "source": [
    "## Fancy indexing ‒ Boolean mask"
   ]
  },
  {
   "cell_type": "code",
   "execution_count": 49,
   "metadata": {
    "executionInfo": {
     "elapsed": 13,
     "status": "aborted",
     "timestamp": 1663150251422,
     "user": {
      "displayName": "­우지민",
      "userId": "16423887003847635019"
     },
     "user_tz": -540
    },
    "id": "mYo5QF-NsOlw"
   },
   "outputs": [
    {
     "name": "stdout",
     "output_type": "stream",
     "text": [
      "[[ 0  1  2  3  4  5  6  7]\n",
      " [ 8  9 10 11 12 13 14 15]\n",
      " [16 17 18 19 20 21 22 23]\n",
      " [24 25 26 27 28 29 30 31]\n",
      " [32 33 34 35 36 37 38 39]]\n"
     ]
    }
   ],
   "source": [
    "a = np.arange(40).reshape(5, 8)\n",
    "print(a)"
   ]
  },
  {
   "cell_type": "code",
   "execution_count": 50,
   "metadata": {
    "executionInfo": {
     "elapsed": 13,
     "status": "aborted",
     "timestamp": 1663150251422,
     "user": {
      "displayName": "­우지민",
      "userId": "16423887003847635019"
     },
     "user_tz": -540
    },
    "id": "n_zUP6xOsOlw"
   },
   "outputs": [
    {
     "data": {
      "text/plain": [
       "array([[ True, False, False,  True, False, False,  True, False],\n",
       "       [False,  True, False, False,  True, False, False,  True],\n",
       "       [False, False,  True, False, False,  True, False, False],\n",
       "       [ True, False, False,  True, False, False,  True, False],\n",
       "       [False,  True, False, False,  True, False, False,  True]])"
      ]
     },
     "execution_count": 50,
     "metadata": {},
     "output_type": "execute_result"
    }
   ],
   "source": [
    "a %3 == 0"
   ]
  },
  {
   "cell_type": "code",
   "execution_count": 51,
   "metadata": {
    "executionInfo": {
     "elapsed": 14,
     "status": "aborted",
     "timestamp": 1663150251423,
     "user": {
      "displayName": "­우지민",
      "userId": "16423887003847635019"
     },
     "user_tz": -540
    },
    "id": "qziRpLJ9sOlw"
   },
   "outputs": [
    {
     "data": {
      "text/plain": [
       "array([ 0,  3,  6,  9, 12, 15, 18, 21, 24, 27, 30, 33, 36, 39])"
      ]
     },
     "execution_count": 51,
     "metadata": {},
     "output_type": "execute_result"
    }
   ],
   "source": [
    "a[a %3 == 0]"
   ]
  },
  {
   "cell_type": "code",
   "execution_count": 52,
   "metadata": {
    "executionInfo": {
     "elapsed": 13,
     "status": "aborted",
     "timestamp": 1663150251423,
     "user": {
      "displayName": "­우지민",
      "userId": "16423887003847635019"
     },
     "user_tz": -540
    },
    "id": "Eoh5E97IsOlw"
   },
   "outputs": [
    {
     "data": {
      "text/plain": [
       "array([11, 12, 18, 21, 27, 28])"
      ]
     },
     "execution_count": 52,
     "metadata": {},
     "output_type": "execute_result"
    }
   ],
   "source": [
    "a[(1, 1, 2, 2, 3, 3), (3, 4, 2, 5, 3, 4)]"
   ]
  },
  {
   "cell_type": "code",
   "execution_count": 60,
   "metadata": {
    "executionInfo": {
     "elapsed": 13,
     "status": "aborted",
     "timestamp": 1663150251423,
     "user": {
      "displayName": "­우지민",
      "userId": "16423887003847635019"
     },
     "user_tz": -540
    },
    "id": "rkUKCu6NsOlx"
   },
   "outputs": [
    {
     "data": {
      "text/plain": [
       "array([0., 0., 0., 0., 0.])"
      ]
     },
     "execution_count": 60,
     "metadata": {},
     "output_type": "execute_result"
    }
   ],
   "source": [
    "np.zeros(5)  ## Compare np.nonzero()"
   ]
  },
  {
   "cell_type": "code",
   "execution_count": 61,
   "metadata": {
    "executionInfo": {
     "elapsed": 13,
     "status": "aborted",
     "timestamp": 1663150251423,
     "user": {
      "displayName": "­우지민",
      "userId": "16423887003847635019"
     },
     "user_tz": -540
    },
    "id": "FdNlZta4sOlx"
   },
   "outputs": [
    {
     "name": "stdout",
     "output_type": "stream",
     "text": [
      "[[3 0 0]\n",
      " [0 4 0]\n",
      " [5 6 0]]\n"
     ]
    }
   ],
   "source": [
    "x = np.array([[3, 0, 0], [0, 4, 0], [5, 6, 0]])\n",
    "print(x)"
   ]
  },
  {
   "cell_type": "code",
   "execution_count": 86,
   "metadata": {
    "executionInfo": {
     "elapsed": 13,
     "status": "aborted",
     "timestamp": 1663150251423,
     "user": {
      "displayName": "­우지민",
      "userId": "16423887003847635019"
     },
     "user_tz": -540
    },
    "id": "mwHP-i_GsOlx"
   },
   "outputs": [
    {
     "data": {
      "text/plain": [
       "(array([0, 1, 2, 2], dtype=int64), array([0, 1, 0, 1], dtype=int64))"
      ]
     },
     "execution_count": 86,
     "metadata": {},
     "output_type": "execute_result"
    }
   ],
   "source": [
    "np.nonzero(x)"
   ]
  },
  {
   "cell_type": "code",
   "execution_count": 87,
   "metadata": {
    "executionInfo": {
     "elapsed": 13,
     "status": "aborted",
     "timestamp": 1663150251423,
     "user": {
      "displayName": "­우지민",
      "userId": "16423887003847635019"
     },
     "user_tz": -540
    },
    "id": "1QhnEPXlsOlx"
   },
   "outputs": [
    {
     "data": {
      "text/plain": [
       "array([[False, False, False],\n",
       "       [ True,  True,  True],\n",
       "       [ True,  True,  True]])"
      ]
     },
     "execution_count": 87,
     "metadata": {},
     "output_type": "execute_result"
    }
   ],
   "source": [
    "a = np.array([[1, 2, 3], [4, 5, 6], [7, 8, 9]])\n",
    "a > 3"
   ]
  },
  {
   "cell_type": "code",
   "execution_count": 88,
   "metadata": {
    "executionInfo": {
     "elapsed": 14,
     "status": "aborted",
     "timestamp": 1663150251424,
     "user": {
      "displayName": "­우지민",
      "userId": "16423887003847635019"
     },
     "user_tz": -540
    },
    "id": "q-qpUYUesOlx",
    "scrolled": true
   },
   "outputs": [
    {
     "data": {
      "text/plain": [
       "(array([1, 1, 1, 2, 2, 2], dtype=int64),\n",
       " array([0, 1, 2, 0, 1, 2], dtype=int64))"
      ]
     },
     "execution_count": 88,
     "metadata": {},
     "output_type": "execute_result"
    }
   ],
   "source": [
    "np.nonzero(a > 3)"
   ]
  },
  {
   "cell_type": "code",
   "execution_count": 89,
   "metadata": {
    "executionInfo": {
     "elapsed": 14,
     "status": "aborted",
     "timestamp": 1663150251424,
     "user": {
      "displayName": "­우지민",
      "userId": "16423887003847635019"
     },
     "user_tz": -540
    },
    "id": "AaYsBfrIsOlx"
   },
   "outputs": [],
   "source": [
    "# nonzero can also be called as a method of the array\n",
    "idx = (a>3).nonzero()"
   ]
  },
  {
   "cell_type": "code",
   "execution_count": 90,
   "metadata": {
    "executionInfo": {
     "elapsed": 14,
     "status": "aborted",
     "timestamp": 1663150251424,
     "user": {
      "displayName": "­우지민",
      "userId": "16423887003847635019"
     },
     "user_tz": -540
    },
    "id": "aauCu6KdsOlx"
   },
   "outputs": [
    {
     "data": {
      "text/plain": [
       "[(1, 0), (1, 1), (1, 2), (2, 0), (2, 1), (2, 2)]"
      ]
     },
     "execution_count": 90,
     "metadata": {},
     "output_type": "execute_result"
    }
   ],
   "source": [
    "temp = [*zip(idx[0],idx[1])]\n",
    "temp"
   ]
  },
  {
   "cell_type": "code",
   "execution_count": 91,
   "metadata": {
    "executionInfo": {
     "elapsed": 14,
     "status": "aborted",
     "timestamp": 1663150251424,
     "user": {
      "displayName": "­우지민",
      "userId": "16423887003847635019"
     },
     "user_tz": -540
    },
    "id": "uYx7mTtXsOlx"
   },
   "outputs": [
    {
     "data": {
      "text/plain": [
       "array([4, 5, 6, 7, 8, 9])"
      ]
     },
     "execution_count": 91,
     "metadata": {},
     "output_type": "execute_result"
    }
   ],
   "source": [
    "a[np.nonzero(a > 3)]"
   ]
  },
  {
   "cell_type": "code",
   "execution_count": 92,
   "metadata": {
    "executionInfo": {
     "elapsed": 13,
     "status": "aborted",
     "timestamp": 1663150251424,
     "user": {
      "displayName": "­우지민",
      "userId": "16423887003847635019"
     },
     "user_tz": -540
    },
    "id": "5j4kQjb_sOlx"
   },
   "outputs": [
    {
     "data": {
      "text/plain": [
       "array([4, 5, 6, 7, 8, 9])"
      ]
     },
     "execution_count": 92,
     "metadata": {},
     "output_type": "execute_result"
    }
   ],
   "source": [
    "a[a > 3] "
   ]
  },
  {
   "cell_type": "code",
   "execution_count": 257,
   "metadata": {
    "executionInfo": {
     "elapsed": 13,
     "status": "aborted",
     "timestamp": 1663150251424,
     "user": {
      "displayName": "­우지민",
      "userId": "16423887003847635019"
     },
     "user_tz": -540
    },
    "id": "cpIMSyCksOlx"
   },
   "outputs": [
    {
     "data": {
      "text/plain": [
       "array([[-1.14050743, -0.52642013,  0.88191662,  0.66004576],\n",
       "       [ 0.11292663, -0.5990435 , -0.99929372,  0.78528364],\n",
       "       [-0.1398318 , -1.19833644,  0.79592241, -0.72829749],\n",
       "       [ 0.65215522,  0.66962706, -0.79044199, -0.88636791]])"
      ]
     },
     "execution_count": 257,
     "metadata": {},
     "output_type": "execute_result"
    }
   ],
   "source": [
    "#################### TODO ####################\n",
    "# Generate 4 by 4 matrix whose elements are random numbers from 0 to 1\n",
    "np.random.randn(4,4)\n",
    "##############################################"
   ]
  },
  {
   "cell_type": "code",
   "execution_count": 152,
   "metadata": {
    "executionInfo": {
     "elapsed": 13,
     "status": "aborted",
     "timestamp": 1663150251424,
     "user": {
      "displayName": "­우지민",
      "userId": "16423887003847635019"
     },
     "user_tz": -540
    },
    "id": "MWk5b-dosOly"
   },
   "outputs": [
    {
     "data": {
      "text/plain": [
       "[(0, 1), (1, 1), (1, 2), (1, 3), (2, 1), (2, 2), (3, 0), (3, 1), (3, 3)]"
      ]
     },
     "execution_count": 152,
     "metadata": {},
     "output_type": "execute_result"
    }
   ],
   "source": [
    "#################### TODO ####################\n",
    "# Find the location where element is larger than 0.5\n",
    "idx=(rand>0.5).nonzero()\n",
    "temp=[*zip(idx[0],idx[1])]\n",
    "temp\n",
    "##############################################"
   ]
  },
  {
   "cell_type": "markdown",
   "metadata": {
    "id": "S9BsluG9sOlz"
   },
   "source": [
    "## Reshape"
   ]
  },
  {
   "cell_type": "code",
   "execution_count": 141,
   "metadata": {
    "executionInfo": {
     "elapsed": 14,
     "status": "aborted",
     "timestamp": 1663150251425,
     "user": {
      "displayName": "­우지민",
      "userId": "16423887003847635019"
     },
     "user_tz": -540
    },
    "id": "bukluG4HsOlz"
   },
   "outputs": [
    {
     "data": {
      "text/plain": [
       "array([[0, 1, 2],\n",
       "       [3, 4, 5]])"
      ]
     },
     "execution_count": 141,
     "metadata": {},
     "output_type": "execute_result"
    }
   ],
   "source": [
    "myarray2 = myarray1.reshape(2, 3)\n",
    "myarray2"
   ]
  },
  {
   "cell_type": "code",
   "execution_count": 143,
   "metadata": {
    "executionInfo": {
     "elapsed": 14,
     "status": "aborted",
     "timestamp": 1663150251425,
     "user": {
      "displayName": "­우지민",
      "userId": "16423887003847635019"
     },
     "user_tz": -540
    },
    "id": "c4CfZO57sOl0"
   },
   "outputs": [
    {
     "data": {
      "text/plain": [
       "array([[0, 1, 2],\n",
       "       [3, 4, 5]])"
      ]
     },
     "execution_count": 143,
     "metadata": {},
     "output_type": "execute_result"
    }
   ],
   "source": [
    "# Simply use -1 for one argument\n",
    "myarray2.reshape(-1,3)\n",
    "myarray2.reshape(2,-1)"
   ]
  },
  {
   "cell_type": "code",
   "execution_count": 144,
   "metadata": {
    "executionInfo": {
     "elapsed": 14,
     "status": "aborted",
     "timestamp": 1663150251425,
     "user": {
      "displayName": "­우지민",
      "userId": "16423887003847635019"
     },
     "user_tz": -540
    },
    "id": "sTFS6ArCsOl0"
   },
   "outputs": [
    {
     "data": {
      "text/plain": [
       "(50,)"
      ]
     },
     "execution_count": 144,
     "metadata": {},
     "output_type": "execute_result"
    }
   ],
   "source": [
    "myarrayx = np.arange(1,100,2)\n",
    "np.shape(myarrayx)"
   ]
  },
  {
   "cell_type": "code",
   "execution_count": 145,
   "metadata": {
    "executionInfo": {
     "elapsed": 14,
     "status": "aborted",
     "timestamp": 1663150251425,
     "user": {
      "displayName": "­우지민",
      "userId": "16423887003847635019"
     },
     "user_tz": -540
    },
    "id": "XUJj8W-EsOl1"
   },
   "outputs": [
    {
     "data": {
      "text/plain": [
       "array([[ 1,  3,  5,  7,  9, 11, 13, 15, 17, 19],\n",
       "       [21, 23, 25, 27, 29, 31, 33, 35, 37, 39],\n",
       "       [41, 43, 45, 47, 49, 51, 53, 55, 57, 59],\n",
       "       [61, 63, 65, 67, 69, 71, 73, 75, 77, 79],\n",
       "       [81, 83, 85, 87, 89, 91, 93, 95, 97, 99]])"
      ]
     },
     "execution_count": 145,
     "metadata": {},
     "output_type": "execute_result"
    }
   ],
   "source": [
    "#################### TODO ####################\n",
    "# Reshape myarrayx as a 2D matrix with 5 rows\n",
    "myarrayx.reshape(5,10)\n",
    "##############################################"
   ]
  },
  {
   "cell_type": "code",
   "execution_count": 146,
   "metadata": {
    "executionInfo": {
     "elapsed": 14,
     "status": "aborted",
     "timestamp": 1663150251425,
     "user": {
      "displayName": "­우지민",
      "userId": "16423887003847635019"
     },
     "user_tz": -540
    },
    "id": "6tdYzFW2sOl1"
   },
   "outputs": [
    {
     "data": {
      "text/plain": [
       "array([[ 1,  3,  5,  7,  9, 11, 13, 15, 17, 19],\n",
       "       [21, 23, 25, 27, 29, 31, 33, 35, 37, 39],\n",
       "       [41, 43, 45, 47, 49, 51, 53, 55, 57, 59],\n",
       "       [61, 63, 65, 67, 69, 71, 73, 75, 77, 79],\n",
       "       [81, 83, 85, 87, 89, 91, 93, 95, 97, 99]])"
      ]
     },
     "execution_count": 146,
     "metadata": {},
     "output_type": "execute_result"
    }
   ],
   "source": [
    "#################### TODO ####################\n",
    "# Reshape myarrayx as a 2D matrix with 10 columns\n",
    "myarrayx.reshape(5,10)\n",
    "##############################################"
   ]
  },
  {
   "cell_type": "code",
   "execution_count": 147,
   "metadata": {
    "executionInfo": {
     "elapsed": 14,
     "status": "aborted",
     "timestamp": 1663150251425,
     "user": {
      "displayName": "­우지민",
      "userId": "16423887003847635019"
     },
     "user_tz": -540
    },
    "id": "Kjigpl_5sOl1"
   },
   "outputs": [
    {
     "name": "stdout",
     "output_type": "stream",
     "text": [
      "ndim    : 2\n",
      "size    : 6\n",
      "itemsize: 4\n",
      "dtype   : int32\n",
      "shape   : (2, 3)\n",
      "strides : (12, 4)\n"
     ]
    }
   ],
   "source": [
    "array_attributes(myarray2)"
   ]
  },
  {
   "cell_type": "code",
   "execution_count": 153,
   "metadata": {
    "executionInfo": {
     "elapsed": 14,
     "status": "aborted",
     "timestamp": 1663150251426,
     "user": {
      "displayName": "­우지민",
      "userId": "16423887003847635019"
     },
     "user_tz": -540
    },
    "id": "uw3AwuXosOl1"
   },
   "outputs": [],
   "source": [
    "myarray3 = myarray1.reshape(3, 2)"
   ]
  },
  {
   "cell_type": "code",
   "execution_count": 154,
   "metadata": {
    "executionInfo": {
     "elapsed": 14,
     "status": "aborted",
     "timestamp": 1663150251426,
     "user": {
      "displayName": "­우지민",
      "userId": "16423887003847635019"
     },
     "user_tz": -540
    },
    "id": "RPyZT08rsOl2"
   },
   "outputs": [
    {
     "name": "stdout",
     "output_type": "stream",
     "text": [
      "ndim    : 2\n",
      "size    : 6\n",
      "itemsize: 4\n",
      "dtype   : int32\n",
      "shape   : (3, 2)\n",
      "strides : (8, 4)\n"
     ]
    }
   ],
   "source": [
    "array_attributes(myarray3)"
   ]
  },
  {
   "cell_type": "markdown",
   "metadata": {
    "id": "GWreqiebsOl2"
   },
   "source": [
    "## View versus copy"
   ]
  },
  {
   "cell_type": "markdown",
   "metadata": {
    "id": "eXZRR8aqsOl2"
   },
   "source": [
    "identical object"
   ]
  },
  {
   "cell_type": "code",
   "execution_count": 155,
   "metadata": {
    "executionInfo": {
     "elapsed": 14,
     "status": "aborted",
     "timestamp": 1663150251426,
     "user": {
      "displayName": "­우지민",
      "userId": "16423887003847635019"
     },
     "user_tz": -540
    },
    "id": "miUQbhujsOl2"
   },
   "outputs": [
    {
     "data": {
      "text/plain": [
       "(1861860442448, 1861860442448)"
      ]
     },
     "execution_count": 155,
     "metadata": {},
     "output_type": "execute_result"
    }
   ],
   "source": [
    "a = np.arange(4)\n",
    "b = a\n",
    "id(a), id(b)"
   ]
  },
  {
   "cell_type": "code",
   "execution_count": 156,
   "metadata": {
    "executionInfo": {
     "elapsed": 14,
     "status": "aborted",
     "timestamp": 1663150251426,
     "user": {
      "displayName": "­우지민",
      "userId": "16423887003847635019"
     },
     "user_tz": -540
    },
    "id": "hE2c4dQGsOl3"
   },
   "outputs": [
    {
     "data": {
      "text/plain": [
       "(array([42,  1,  2,  3]), array([42,  1,  2,  3]))"
      ]
     },
     "execution_count": 156,
     "metadata": {},
     "output_type": "execute_result"
    }
   ],
   "source": [
    "a[0] =42\n",
    "a, b"
   ]
  },
  {
   "cell_type": "markdown",
   "metadata": {
    "id": "mVo8BJQDsOl3"
   },
   "source": [
    "view: a different object working on the same data"
   ]
  },
  {
   "cell_type": "code",
   "execution_count": 157,
   "metadata": {
    "executionInfo": {
     "elapsed": 14,
     "status": "aborted",
     "timestamp": 1663150251426,
     "user": {
      "displayName": "­우지민",
      "userId": "16423887003847635019"
     },
     "user_tz": -540
    },
    "id": "Gt2yJoBjsOl3"
   },
   "outputs": [
    {
     "data": {
      "text/plain": [
       "(1861860442448, 1861860066384)"
      ]
     },
     "execution_count": 157,
     "metadata": {},
     "output_type": "execute_result"
    }
   ],
   "source": [
    "b = a[:]\n",
    "id(a), id(b)"
   ]
  },
  {
   "cell_type": "code",
   "execution_count": 159,
   "metadata": {
    "executionInfo": {
     "elapsed": 5114,
     "status": "aborted",
     "timestamp": 1663150251429,
     "user": {
      "displayName": "­우지민",
      "userId": "16423887003847635019"
     },
     "user_tz": -540
    },
    "id": "SBnvT94ZsOl3"
   },
   "outputs": [
    {
     "data": {
      "text/plain": [
       "(array([42,  1,  2,  3]), array([42,  1,  2,  3]))"
      ]
     },
     "execution_count": 159,
     "metadata": {},
     "output_type": "execute_result"
    }
   ],
   "source": [
    "a[0] = 42\n",
    "a, b"
   ]
  },
  {
   "cell_type": "code",
   "execution_count": 160,
   "metadata": {
    "executionInfo": {
     "elapsed": 5111,
     "status": "aborted",
     "timestamp": 1663150251429,
     "user": {
      "displayName": "­우지민",
      "userId": "16423887003847635019"
     },
     "user_tz": -540
    },
    "id": "FXjR-hfWsOl3"
   },
   "outputs": [
    {
     "data": {
      "text/plain": [
       "(1861860442448, 1861853396016)"
      ]
     },
     "execution_count": 160,
     "metadata": {},
     "output_type": "execute_result"
    }
   ],
   "source": [
    "b = a.view()\n",
    "id(a), id(b)"
   ]
  },
  {
   "cell_type": "code",
   "execution_count": 161,
   "metadata": {
    "executionInfo": {
     "elapsed": 5108,
     "status": "aborted",
     "timestamp": 1663150251429,
     "user": {
      "displayName": "­우지민",
      "userId": "16423887003847635019"
     },
     "user_tz": -540
    },
    "id": "FiHNa0ehsOl3"
   },
   "outputs": [
    {
     "data": {
      "text/plain": [
       "(array([42,  1,  2,  3]), array([42,  1,  2,  3]))"
      ]
     },
     "execution_count": 161,
     "metadata": {},
     "output_type": "execute_result"
    }
   ],
   "source": [
    "a[0]=42\n",
    "a, b"
   ]
  },
  {
   "cell_type": "markdown",
   "metadata": {
    "id": "1HQtqQGdsOl3"
   },
   "source": [
    "an independent copy"
   ]
  },
  {
   "cell_type": "code",
   "execution_count": 162,
   "metadata": {
    "executionInfo": {
     "elapsed": 5106,
     "status": "aborted",
     "timestamp": 1663150251430,
     "user": {
      "displayName": "­우지민",
      "userId": "16423887003847635019"
     },
     "user_tz": -540
    },
    "id": "0kPIDmpwsOl4"
   },
   "outputs": [
    {
     "data": {
      "text/plain": [
       "(1861853395728, 1861860444464, 1861860443120)"
      ]
     },
     "execution_count": 162,
     "metadata": {},
     "output_type": "execute_result"
    }
   ],
   "source": [
    "a = np.arange(4)\n",
    "b = np.copy(a)\n",
    "c = a.copy()\n",
    "id(a), id(b), id(c)"
   ]
  },
  {
   "cell_type": "code",
   "execution_count": 163,
   "metadata": {
    "executionInfo": {
     "elapsed": 5103,
     "status": "aborted",
     "timestamp": 1663150251430,
     "user": {
      "displayName": "­우지민",
      "userId": "16423887003847635019"
     },
     "user_tz": -540
    },
    "id": "5U9oVvRusOl4"
   },
   "outputs": [
    {
     "data": {
      "text/plain": [
       "(array([42,  1,  2,  3]), array([0, 1, 2, 3]), array([0, 1, 2, 3]))"
      ]
     },
     "execution_count": 163,
     "metadata": {},
     "output_type": "execute_result"
    }
   ],
   "source": [
    "a[0] = 42\n",
    "a, b, c "
   ]
  },
  {
   "cell_type": "markdown",
   "metadata": {
    "id": "D85xSnVSsOl4"
   },
   "source": [
    "## Some array creation routines"
   ]
  },
  {
   "cell_type": "markdown",
   "metadata": {
    "id": "ssmUB8k9sOl4"
   },
   "source": [
    "### numerical ranges"
   ]
  },
  {
   "cell_type": "markdown",
   "metadata": {
    "id": "uGuO2HkwsOl4"
   },
   "source": [
    "`arange(`*start*, *stop*, *step*`)`, *stop* is not included in the array"
   ]
  },
  {
   "cell_type": "code",
   "execution_count": 190,
   "metadata": {
    "executionInfo": {
     "elapsed": 5100,
     "status": "aborted",
     "timestamp": 1663150251430,
     "user": {
      "displayName": "­우지민",
      "userId": "16423887003847635019"
     },
     "user_tz": -540
    },
    "id": "spVXaG1WsOl4"
   },
   "outputs": [
    {
     "data": {
      "text/plain": [
       "array([ 5, 10, 15, 20, 25])"
      ]
     },
     "execution_count": 190,
     "metadata": {},
     "output_type": "execute_result"
    }
   ],
   "source": [
    "np.arange(5, 30, 5)"
   ]
  },
  {
   "cell_type": "markdown",
   "metadata": {
    "id": "uTMTBsLzsOl5"
   },
   "source": [
    "`arange` resembles `range`, but also works for floats\n",
    "\n",
    "Create the array [1, 1.1, 1.2, 1.3, 1.4, 1.5]"
   ]
  },
  {
   "cell_type": "code",
   "execution_count": null,
   "metadata": {},
   "outputs": [],
   "source": []
  },
  {
   "cell_type": "code",
   "execution_count": 211,
   "metadata": {
    "executionInfo": {
     "elapsed": 5096,
     "status": "aborted",
     "timestamp": 1663150251430,
     "user": {
      "displayName": "­우지민",
      "userId": "16423887003847635019"
     },
     "user_tz": -540
    },
    "id": "Vh8eVorlsOl5"
   },
   "outputs": [
    {
     "data": {
      "text/plain": [
       "array([1. , 1.1, 1.2, 1.3, 1.4, 1.5, 1.6])"
      ]
     },
     "execution_count": 211,
     "metadata": {},
     "output_type": "execute_result"
    }
   ],
   "source": [
    "#################### TODO ####################\n",
    "np.arange(1,1.6,0.1)\n",
    "##############################################"
   ]
  },
  {
   "cell_type": "markdown",
   "metadata": {
    "id": "4LAVEWQ9sOl5"
   },
   "source": [
    "`linspace(`*start*, *stop*, *num*`)` determines the step to produce *num* equally spaced values, *stop* is included by default\n",
    "\n",
    "Create the array [1., 1.1, 1.2, 1.3, 1.4, 1.5, 1.6, 1.7, 1.8, 1.9, 2.]"
   ]
  },
  {
   "cell_type": "code",
   "execution_count": 217,
   "metadata": {
    "executionInfo": {
     "elapsed": 5093,
     "status": "aborted",
     "timestamp": 1663150251430,
     "user": {
      "displayName": "­우지민",
      "userId": "16423887003847635019"
     },
     "user_tz": -540
    },
    "id": "CMInUgZnsOl5"
   },
   "outputs": [
    {
     "data": {
      "text/plain": [
       "array([1. , 1.1, 1.2, 1.3, 1.4, 1.5, 1.6, 1.7, 1.8, 1.9, 2. ])"
      ]
     },
     "execution_count": 217,
     "metadata": {},
     "output_type": "execute_result"
    }
   ],
   "source": [
    "#################### TODO ####################\n",
    "np.linspace(1,2,11)\n",
    "##############################################"
   ]
  },
  {
   "cell_type": "markdown",
   "metadata": {
    "id": "UCohMamWsOl5"
   },
   "source": [
    "For equally spaced values on a logarithmic scale, use `logspace`."
   ]
  },
  {
   "cell_type": "code",
   "execution_count": 198,
   "metadata": {
    "executionInfo": {
     "elapsed": 5091,
     "status": "aborted",
     "timestamp": 1663150251431,
     "user": {
      "displayName": "­우지민",
      "userId": "16423887003847635019"
     },
     "user_tz": -540
    },
    "id": "qVxNHyu6sOl5"
   },
   "outputs": [
    {
     "data": {
      "text/plain": [
       "array([1.e-02, 1.e-01, 1.e+00, 1.e+01, 1.e+02])"
      ]
     },
     "execution_count": 198,
     "metadata": {},
     "output_type": "execute_result"
    }
   ],
   "source": [
    "np.logspace(-2, 2, 5)"
   ]
  },
  {
   "cell_type": "code",
   "execution_count": 199,
   "metadata": {
    "executionInfo": {
     "elapsed": 5088,
     "status": "aborted",
     "timestamp": 1663150251431,
     "user": {
      "displayName": "­우지민",
      "userId": "16423887003847635019"
     },
     "user_tz": -540
    },
    "id": "srAYhnmHsOl6"
   },
   "outputs": [
    {
     "data": {
      "text/plain": [
       "array([ 1.        ,  1.41421356,  2.        ,  2.82842712,  4.        ,\n",
       "        5.65685425,  8.        , 11.3137085 , 16.        ])"
      ]
     },
     "execution_count": 199,
     "metadata": {},
     "output_type": "execute_result"
    }
   ],
   "source": [
    "np.logspace(0, 4, 9, base=2)"
   ]
  },
  {
   "cell_type": "markdown",
   "metadata": {
    "id": "CM8eL_GQsOl6"
   },
   "source": [
    "### Application"
   ]
  },
  {
   "cell_type": "code",
   "execution_count": 218,
   "metadata": {
    "executionInfo": {
     "elapsed": 5085,
     "status": "aborted",
     "timestamp": 1663150251431,
     "user": {
      "displayName": "­우지민",
      "userId": "16423887003847635019"
     },
     "user_tz": -540
    },
    "id": "YPTNMWwIsOl6"
   },
   "outputs": [],
   "source": [
    "import matplotlib.pyplot as plt"
   ]
  },
  {
   "cell_type": "code",
   "execution_count": 219,
   "metadata": {
    "executionInfo": {
     "elapsed": 5082,
     "status": "aborted",
     "timestamp": 1663150251431,
     "user": {
      "displayName": "­우지민",
      "userId": "16423887003847635019"
     },
     "user_tz": -540
    },
    "id": "bVvy60svsOl6"
   },
   "outputs": [],
   "source": [
    "x = np.linspace(0, 10, 100)\n",
    "y = np.cos(x)"
   ]
  },
  {
   "cell_type": "code",
   "execution_count": 220,
   "metadata": {
    "executionInfo": {
     "elapsed": 5079,
     "status": "aborted",
     "timestamp": 1663150251431,
     "user": {
      "displayName": "­우지민",
      "userId": "16423887003847635019"
     },
     "user_tz": -540
    },
    "id": "61IfpXcGsOl6"
   },
   "outputs": [
    {
     "data": {
      "text/plain": [
       "[<matplotlib.lines.Line2D at 0x1b17fe34b90>]"
      ]
     },
     "execution_count": 220,
     "metadata": {},
     "output_type": "execute_result"
    },
    {
     "data": {
      "image/png": "[encoded data removed]",
      "text/plain": [
       "<Figure size 640x480 with 1 Axes>"
      ]
     },
     "metadata": {},
     "output_type": "display_data"
    }
   ],
   "source": [
    "plt.plot(x, y)"
   ]
  },
  {
   "cell_type": "markdown",
   "metadata": {
    "id": "naUaTBg7sOl6"
   },
   "source": [
    "### Homogeneous data"
   ]
  },
  {
   "cell_type": "code",
   "execution_count": 221,
   "metadata": {
    "executionInfo": {
     "elapsed": 5076,
     "status": "aborted",
     "timestamp": 1663150251431,
     "user": {
      "displayName": "­우지민",
      "userId": "16423887003847635019"
     },
     "user_tz": -540
    },
    "id": "xJuQX259sOl6",
    "scrolled": true
   },
   "outputs": [
    {
     "data": {
      "text/plain": [
       "array([[0., 0., 0., 0.],\n",
       "       [0., 0., 0., 0.],\n",
       "       [0., 0., 0., 0.],\n",
       "       [0., 0., 0., 0.]])"
      ]
     },
     "execution_count": 221,
     "metadata": {},
     "output_type": "execute_result"
    }
   ],
   "source": [
    "np.zeros((4, 4))"
   ]
  },
  {
   "cell_type": "markdown",
   "metadata": {
    "id": "YZdKEHhdsOl6"
   },
   "source": [
    "Create a 4x4 array with integer zeros"
   ]
  },
  {
   "cell_type": "code",
   "execution_count": 222,
   "metadata": {
    "executionInfo": {
     "elapsed": 5074,
     "status": "aborted",
     "timestamp": 1663150251432,
     "user": {
      "displayName": "­우지민",
      "userId": "16423887003847635019"
     },
     "user_tz": -540
    },
    "id": "PRHejRQJsOl6"
   },
   "outputs": [
    {
     "data": {
      "text/plain": [
       "array([[0., 0., 0., 0.],\n",
       "       [0., 0., 0., 0.],\n",
       "       [0., 0., 0., 0.],\n",
       "       [0., 0., 0., 0.]])"
      ]
     },
     "execution_count": 222,
     "metadata": {},
     "output_type": "execute_result"
    }
   ],
   "source": [
    "#################### TODO ####################\n",
    "np.zeros((4,4))\n",
    "##############################################"
   ]
  },
  {
   "cell_type": "markdown",
   "metadata": {
    "id": "AllerHtdsOl6"
   },
   "source": [
    "Create a 2x3x3 array filled with ones"
   ]
  },
  {
   "cell_type": "code",
   "execution_count": 223,
   "metadata": {
    "executionInfo": {
     "elapsed": 5071,
     "status": "aborted",
     "timestamp": 1663150251432,
     "user": {
      "displayName": "­우지민",
      "userId": "16423887003847635019"
     },
     "user_tz": -540
    },
    "id": "y3tKouWAsOl7"
   },
   "outputs": [
    {
     "data": {
      "text/plain": [
       "array([[[1., 1., 1.],\n",
       "        [1., 1., 1.],\n",
       "        [1., 1., 1.]],\n",
       "\n",
       "       [[1., 1., 1.],\n",
       "        [1., 1., 1.],\n",
       "        [1., 1., 1.]]])"
      ]
     },
     "execution_count": 223,
     "metadata": {},
     "output_type": "execute_result"
    }
   ],
   "source": [
    "#################### TODO ####################\n",
    "np.ones((2,3,3))\n",
    "##############################################"
   ]
  },
  {
   "cell_type": "markdown",
   "metadata": {
    "id": "JdN45qSCsOl7"
   },
   "source": [
    "Create a 3x3 array filled with tens"
   ]
  },
  {
   "cell_type": "code",
   "execution_count": 226,
   "metadata": {
    "executionInfo": {
     "elapsed": 5068,
     "status": "aborted",
     "timestamp": 1663150251432,
     "user": {
      "displayName": "­우지민",
      "userId": "16423887003847635019"
     },
     "user_tz": -540
    },
    "id": "hsKvWOwqsOl7"
   },
   "outputs": [
    {
     "data": {
      "text/plain": [
       "array([[10., 10., 10.],\n",
       "       [10., 10., 10.],\n",
       "       [10., 10., 10.]])"
      ]
     },
     "execution_count": 226,
     "metadata": {},
     "output_type": "execute_result"
    }
   ],
   "source": [
    "#################### TODO ####################\n",
    "np.ones((3,3))*10\n",
    "##############################################"
   ]
  },
  {
   "cell_type": "markdown",
   "metadata": {
    "id": "2uemDS1asOl7"
   },
   "source": [
    "### Diagonal elements"
   ]
  },
  {
   "cell_type": "code",
   "execution_count": 227,
   "metadata": {
    "executionInfo": {
     "elapsed": 5063,
     "status": "aborted",
     "timestamp": 1663150251432,
     "user": {
      "displayName": "­우지민",
      "userId": "16423887003847635019"
     },
     "user_tz": -540
    },
    "id": "YYwt1x_0sOl7"
   },
   "outputs": [
    {
     "data": {
      "text/plain": [
       "array([[1, 0, 0, 0],\n",
       "       [0, 2, 0, 0],\n",
       "       [0, 0, 3, 0],\n",
       "       [0, 0, 0, 4]])"
      ]
     },
     "execution_count": 227,
     "metadata": {},
     "output_type": "execute_result"
    }
   ],
   "source": [
    "np.diag([1, 2, 3, 4])"
   ]
  },
  {
   "cell_type": "markdown",
   "metadata": {
    "id": "su3abnjGsOl7"
   },
   "source": [
    "`diag` has an optional argument `k`. Try to find out what its effect is. Call np.diag() with parameter k=1"
   ]
  },
  {
   "cell_type": "code",
   "execution_count": 233,
   "metadata": {
    "executionInfo": {
     "elapsed": 5060,
     "status": "aborted",
     "timestamp": 1663150251432,
     "user": {
      "displayName": "­우지민",
      "userId": "16423887003847635019"
     },
     "user_tz": -540
    },
    "id": "-CtSbOqQsOl7"
   },
   "outputs": [
    {
     "data": {
      "text/plain": [
       "array([[0, 1, 0, 0, 0],\n",
       "       [0, 0, 2, 0, 0],\n",
       "       [0, 0, 0, 3, 0],\n",
       "       [0, 0, 0, 0, 4],\n",
       "       [0, 0, 0, 0, 0]])"
      ]
     },
     "execution_count": 233,
     "metadata": {},
     "output_type": "execute_result"
    }
   ],
   "source": [
    "#################### TODO ####################\n",
    "np.diag([1, 2, 3, 4],k=1)\n",
    "##############################################"
   ]
  },
  {
   "cell_type": "markdown",
   "metadata": {
    "id": "GIty7ckBsOl7"
   },
   "source": [
    "Replace the 1d array to a 2d array. What does `diag` do?"
   ]
  },
  {
   "cell_type": "code",
   "execution_count": 236,
   "metadata": {
    "executionInfo": {
     "elapsed": 5057,
     "status": "aborted",
     "timestamp": 1663150251432,
     "user": {
      "displayName": "­우지민",
      "userId": "16423887003847635019"
     },
     "user_tz": -540
    },
    "id": "2j-JCVXUsOl7"
   },
   "outputs": [
    {
     "data": {
      "text/plain": [
       "array([[0, 1],\n",
       "       [0, 0]])"
      ]
     },
     "execution_count": 236,
     "metadata": {},
     "output_type": "execute_result"
    }
   ],
   "source": [
    "#################### TODO ####################\n",
    "np.diag([1],k=1)\n",
    "##############################################"
   ]
  },
  {
   "cell_type": "code",
   "execution_count": 237,
   "metadata": {
    "executionInfo": {
     "elapsed": 5055,
     "status": "aborted",
     "timestamp": 1663150251433,
     "user": {
      "displayName": "­우지민",
      "userId": "16423887003847635019"
     },
     "user_tz": -540
    },
    "id": "kYDW02HFsOl7",
    "scrolled": true
   },
   "outputs": [
    {
     "name": "stdout",
     "output_type": "stream",
     "text": [
      " eye(N, M=None, k=0, dtype=<class 'float'>, order='C', *, like=None)\n",
      "\n",
      "Return a 2-D array with ones on the diagonal and zeros elsewhere.\n",
      "\n",
      "Parameters\n",
      "----------\n",
      "N : int\n",
      "  Number of rows in the output.\n",
      "M : int, optional\n",
      "  Number of columns in the output. If None, defaults to `N`.\n",
      "k : int, optional\n",
      "  Index of the diagonal: 0 (the default) refers to the main diagonal,\n",
      "  a positive value refers to an upper diagonal, and a negative value\n",
      "  to a lower diagonal.\n",
      "dtype : data-type, optional\n",
      "  Data-type of the returned array.\n",
      "order : {'C', 'F'}, optional\n",
      "    Whether the output should be stored in row-major (C-style) or\n",
      "    column-major (Fortran-style) order in memory.\n",
      "\n",
      "    .. versionadded:: 1.14.0\n",
      "like : array_like, optional\n",
      "    Reference object to allow the creation of arrays which are not\n",
      "    NumPy arrays. If an array-like passed in as ``like`` supports\n",
      "    the ``__array_function__`` protocol, the result will be defined\n",
      "    by it. In this case, it ensures the creation of an array object\n",
      "    compatible with that passed in via this argument.\n",
      "\n",
      "    .. versionadded:: 1.20.0\n",
      "\n",
      "Returns\n",
      "-------\n",
      "I : ndarray of shape (N,M)\n",
      "  An array where all elements are equal to zero, except for the `k`-th\n",
      "  diagonal, whose values are equal to one.\n",
      "\n",
      "See Also\n",
      "--------\n",
      "identity : (almost) equivalent function\n",
      "diag : diagonal 2-D array from a 1-D array specified by the user.\n",
      "\n",
      "Examples\n",
      "--------\n",
      ">>> np.eye(2, dtype=int)\n",
      "array([[1, 0],\n",
      "       [0, 1]])\n",
      ">>> np.eye(3, k=1)\n",
      "array([[0.,  1.,  0.],\n",
      "       [0.,  0.,  1.],\n",
      "       [0.,  0.,  0.]])\n"
     ]
    }
   ],
   "source": [
    "np.info(np.eye)"
   ]
  },
  {
   "cell_type": "markdown",
   "metadata": {
    "id": "CFldTMRFsOl7"
   },
   "source": [
    "Create the 3x3 array\n",
    "\n",
    "```\n",
    "[[2, 1, 0],\n",
    " [1, 2, 1],\n",
    " [0, 1, 2]]\n",
    "\n",
    "```"
   ]
  },
  {
   "cell_type": "code",
   "execution_count": 251,
   "metadata": {
    "executionInfo": {
     "elapsed": 5052,
     "status": "aborted",
     "timestamp": 1663150251433,
     "user": {
      "displayName": "­우지민",
      "userId": "16423887003847635019"
     },
     "user_tz": -540
    },
    "id": "hh14kvwgsOl7"
   },
   "outputs": [
    {
     "data": {
      "text/plain": [
       "array([[2., 1., 0.],\n",
       "       [1., 2., 1.],\n",
       "       [0., 1., 2.]])"
      ]
     },
     "execution_count": 251,
     "metadata": {},
     "output_type": "execute_result"
    }
   ],
   "source": [
    "#################### TODO ####################\n",
    "np.eye(3,k=0)*2+np.eye(3,k=1)+np.eye(3,k=-1)\n",
    "##############################################"
   ]
  },
  {
   "cell_type": "markdown",
   "metadata": {
    "id": "5EWwxbrEsOl7"
   },
   "source": [
    "### Random numbers"
   ]
  },
  {
   "cell_type": "code",
   "execution_count": 252,
   "metadata": {
    "executionInfo": {
     "elapsed": 5049,
     "status": "aborted",
     "timestamp": 1663150251433,
     "user": {
      "displayName": "­우지민",
      "userId": "16423887003847635019"
     },
     "user_tz": -540
    },
    "id": "otUYtet5sOl8"
   },
   "outputs": [
    {
     "data": {
      "text/plain": [
       "array([[0.71363667, 0.88404059],\n",
       "       [0.56705442, 0.99448158],\n",
       "       [0.17873977, 0.01220009],\n",
       "       [0.45699848, 0.93175194],\n",
       "       [0.84602469, 0.47332988]])"
      ]
     },
     "execution_count": 252,
     "metadata": {},
     "output_type": "execute_result"
    }
   ],
   "source": [
    "# Generate a 5 by 2 matrix whose elements are random numbers 0 to 1 \n",
    "# Run multiple times\n",
    "np.random.rand(5, 2)"
   ]
  },
  {
   "cell_type": "code",
   "execution_count": 253,
   "metadata": {
    "executionInfo": {
     "elapsed": 5045,
     "status": "aborted",
     "timestamp": 1663150251433,
     "user": {
      "displayName": "­우지민",
      "userId": "16423887003847635019"
     },
     "user_tz": -540
    },
    "id": "SYUojcrTsOl8"
   },
   "outputs": [
    {
     "data": {
      "text/plain": [
       "array([[0.19151945, 0.62210877],\n",
       "       [0.43772774, 0.78535858],\n",
       "       [0.77997581, 0.27259261],\n",
       "       [0.27646426, 0.80187218],\n",
       "       [0.95813935, 0.87593263]])"
      ]
     },
     "execution_count": 253,
     "metadata": {},
     "output_type": "execute_result"
    }
   ],
   "source": [
    "# Use random seed, do the samething as the above\n",
    "# Run multiple times\n",
    "np.random.seed(1234)\n",
    "np.random.rand(5, 2)"
   ]
  },
  {
   "cell_type": "code",
   "execution_count": 255,
   "metadata": {
    "executionInfo": {
     "elapsed": 5041,
     "status": "aborted",
     "timestamp": 1663150251433,
     "user": {
      "displayName": "­우지민",
      "userId": "16423887003847635019"
     },
     "user_tz": -540
    },
    "id": "TM0E1spbsOl8"
   },
   "outputs": [
    {
     "data": {
      "image/png": "[encoded data removed]",
      "text/plain": [
       "<Figure size 640x480 with 1 Axes>"
      ]
     },
     "metadata": {},
     "output_type": "display_data"
    }
   ],
   "source": [
    "# Plot the histogram of 10000 random numbers with a different size of bins\n",
    "plt.hist(np.random.rand(10000),bins=20)\n",
    "plt.show()"
   ]
  },
  {
   "cell_type": "code",
   "execution_count": 259,
   "metadata": {
    "executionInfo": {
     "elapsed": 5032,
     "status": "aborted",
     "timestamp": 1663150251433,
     "user": {
      "displayName": "­우지민",
      "userId": "16423887003847635019"
     },
     "user_tz": -540
    },
    "id": "oHvOWCMMsOl8"
   },
   "outputs": [
    {
     "data": {
      "text/plain": [
       "array([[-0.80133362,  1.31203519],\n",
       "       [ 1.27469887, -1.2143576 ],\n",
       "       [ 0.31371941, -1.44482142],\n",
       "       [-0.3689613 , -0.76922658],\n",
       "       [ 0.3926161 ,  0.05729383]])"
      ]
     },
     "execution_count": 259,
     "metadata": {},
     "output_type": "execute_result"
    }
   ],
   "source": [
    "# Generate a 5 by 2 matrix whose elements are random numbers 0 to 1 \n",
    "# Run multiple times\n",
    "np.random.randn(5,2)"
   ]
  },
  {
   "cell_type": "code",
   "execution_count": 260,
   "metadata": {
    "executionInfo": {
     "elapsed": 5027,
     "status": "aborted",
     "timestamp": 1663150251434,
     "user": {
      "displayName": "­우지민",
      "userId": "16423887003847635019"
     },
     "user_tz": -540
    },
    "id": "jeSBdtANsOl8"
   },
   "outputs": [
    {
     "data": {
      "text/plain": [
       "array([[-1.76884571,  0.07555227],\n",
       "       [-1.1306297 , -0.65143017],\n",
       "       [-0.89311563, -1.27410098],\n",
       "       [-0.06115443,  0.06451384],\n",
       "       [ 0.41011295, -0.57288249]])"
      ]
     },
     "execution_count": 260,
     "metadata": {},
     "output_type": "execute_result"
    }
   ],
   "source": [
    "# Use random seed, do the samething as the above\n",
    "# Run multiple times\n",
    "np.random.seed(2020)\n",
    "np.random.randn(5,2)"
   ]
  },
  {
   "cell_type": "code",
   "execution_count": 261,
   "metadata": {
    "executionInfo": {
     "elapsed": 5022,
     "status": "aborted",
     "timestamp": 1663150251434,
     "user": {
      "displayName": "­우지민",
      "userId": "16423887003847635019"
     },
     "user_tz": -540
    },
    "id": "6iHXGTSRsOl8"
   },
   "outputs": [
    {
     "data": {
      "image/png": "[encoded data removed]",
      "text/plain": [
       "<Figure size 640x480 with 1 Axes>"
      ]
     },
     "metadata": {},
     "output_type": "display_data"
    }
   ],
   "source": [
    "# Plot the histogram of 10000 random numbers with a different size of bins\n",
    "plt.hist(np.random.randn(10000))\n",
    "plt.show()"
   ]
  },
  {
   "cell_type": "code",
   "execution_count": 262,
   "metadata": {
    "executionInfo": {
     "elapsed": 5016,
     "status": "aborted",
     "timestamp": 1663150251434,
     "user": {
      "displayName": "­우지민",
      "userId": "16423887003847635019"
     },
     "user_tz": -540
    },
    "id": "f5bB62PZsOl9"
   },
   "outputs": [
    {
     "data": {
      "text/plain": [
       "<matplotlib.colorbar.Colorbar at 0x1b101aa7290>"
      ]
     },
     "execution_count": 262,
     "metadata": {},
     "output_type": "execute_result"
    },
    {
     "data": {
      "image/png": "[encoded data removed]",
      "text/plain": [
       "<Figure size 640x480 with 2 Axes>"
      ]
     },
     "metadata": {},
     "output_type": "display_data"
    }
   ],
   "source": [
    "data = np.random.rand(20, 20)\n",
    "plt.imshow(data, cmap=plt.cm.hot, interpolation='none')\n",
    "plt.colorbar()"
   ]
  },
  {
   "cell_type": "code",
   "execution_count": 263,
   "metadata": {
    "executionInfo": {
     "elapsed": 5006,
     "status": "aborted",
     "timestamp": 1663150251434,
     "user": {
      "displayName": "­우지민",
      "userId": "16423887003847635019"
     },
     "user_tz": -540
    },
    "id": "nQ-deeA6sOl9"
   },
   "outputs": [
    {
     "data": {
      "text/plain": [
       "(array([[14., 20., 15., 20., 14., 17.],\n",
       "        [18., 18., 16., 18., 12., 18.],\n",
       "        [14., 15., 15., 17., 22., 17.]]),\n",
       " array([0.5, 1.5, 2.5, 3.5, 4.5, 5.5, 6.5]),\n",
       " <a list of 3 BarContainer objects>)"
      ]
     },
     "execution_count": 263,
     "metadata": {},
     "output_type": "execute_result"
    },
    {
     "data": {
      "image/png": "[encoded data removed]",
      "text/plain": [
       "<Figure size 640x480 with 1 Axes>"
      ]
     },
     "metadata": {},
     "output_type": "display_data"
    }
   ],
   "source": [
    "casts = np.random.randint(1, 7, (100, 3))\n",
    "plt.hist(casts, np.linspace(0.5, 6.5, 7))"
   ]
  },
  {
   "cell_type": "markdown",
   "metadata": {
    "id": "piY6wBOTsOl9"
   },
   "source": [
    "Generation of random numbers from Gaussian distribution"
   ]
  },
  {
   "cell_type": "code",
   "execution_count": 272,
   "metadata": {
    "executionInfo": {
     "elapsed": 4999,
     "status": "aborted",
     "timestamp": 1663150251434,
     "user": {
      "displayName": "­우지민",
      "userId": "16423887003847635019"
     },
     "user_tz": -540
    },
    "id": "e05gxo9msOl9"
   },
   "outputs": [
    {
     "data": {
      "text/plain": [
       "(array([1.63, 1.74, 1.64, 1.56, 1.96, 1.5 , 1.79, 1.52, 1.83, 1.99, 1.89,\n",
       "        1.5 , 1.68, 1.8 , 1.88, 2.06, 1.97, 1.79, 1.57, 1.78]),\n",
       " array([80.45, 65.35, 71.07, 54.69, 63.91, 78.01, 72.92, 72.3 , 77.34,\n",
       "        59.69, 57.97, 71.77, 79.39, 63.69, 61.  , 45.83, 65.76, 45.08,\n",
       "        30.74, 78.1 ]))"
      ]
     },
     "execution_count": 272,
     "metadata": {},
     "output_type": "execute_result"
    }
   ],
   "source": [
    "height = np.round(np.random.normal(1.75, 0.2, 20),2)\n",
    "weight = np.round(np.random.normal(68.32, 15, 20),2)\n",
    "\n",
    "height,weight"
   ]
  },
  {
   "cell_type": "code",
   "execution_count": 275,
   "metadata": {
    "executionInfo": {
     "elapsed": 4992,
     "status": "aborted",
     "timestamp": 1663150251434,
     "user": {
      "displayName": "­우지민",
      "userId": "16423887003847635019"
     },
     "user_tz": -540
    },
    "id": "LrPuasnOsOl9",
    "tags": []
   },
   "outputs": [
    {
     "data": {
      "text/plain": [
       "array([[ 1.63, 80.45],\n",
       "       [ 1.74, 65.35],\n",
       "       [ 1.64, 71.07],\n",
       "       [ 1.56, 54.69],\n",
       "       [ 1.96, 63.91],\n",
       "       [ 1.5 , 78.01],\n",
       "       [ 1.79, 72.92],\n",
       "       [ 1.52, 72.3 ],\n",
       "       [ 1.83, 77.34],\n",
       "       [ 1.99, 59.69],\n",
       "       [ 1.89, 57.97],\n",
       "       [ 1.5 , 71.77],\n",
       "       [ 1.68, 79.39],\n",
       "       [ 1.8 , 63.69],\n",
       "       [ 1.88, 61.  ],\n",
       "       [ 2.06, 45.83],\n",
       "       [ 1.97, 65.76],\n",
       "       [ 1.79, 45.08],\n",
       "       [ 1.57, 30.74],\n",
       "       [ 1.78, 78.1 ]])"
      ]
     },
     "execution_count": 275,
     "metadata": {},
     "output_type": "execute_result"
    }
   ],
   "source": [
    "#################### TODO ####################\n",
    "# Concatenate two array along the column\n",
    "# Hint: np.column_stack()\n",
    "\n",
    "np.column_stack((height,weight))\n",
    "##############################################"
   ]
  },
  {
   "cell_type": "code",
   "execution_count": 276,
   "metadata": {
    "executionInfo": {
     "elapsed": 4985,
     "status": "aborted",
     "timestamp": 1663150251434,
     "user": {
      "displayName": "­우지민",
      "userId": "16423887003847635019"
     },
     "user_tz": -540
    },
    "id": "QPmxLXWWsOl9",
    "scrolled": true
   },
   "outputs": [
    {
     "data": {
      "text/plain": [
       "array([[ 1.63,  1.74,  1.64,  1.56,  1.96,  1.5 ,  1.79,  1.52,  1.83,\n",
       "         1.99,  1.89,  1.5 ,  1.68,  1.8 ,  1.88,  2.06,  1.97,  1.79,\n",
       "         1.57,  1.78],\n",
       "       [80.45, 65.35, 71.07, 54.69, 63.91, 78.01, 72.92, 72.3 , 77.34,\n",
       "        59.69, 57.97, 71.77, 79.39, 63.69, 61.  , 45.83, 65.76, 45.08,\n",
       "        30.74, 78.1 ]])"
      ]
     },
     "execution_count": 276,
     "metadata": {},
     "output_type": "execute_result"
    }
   ],
   "source": [
    "#################### TODO ####################\n",
    "# Concatenate two array along the row\n",
    "# Hint: np.row_stack\n",
    "np.row_stack((height,weight))\n",
    "##############################################"
   ]
  },
  {
   "cell_type": "code",
   "execution_count": 278,
   "metadata": {
    "executionInfo": {
     "elapsed": 4980,
     "status": "aborted",
     "timestamp": 1663150251435,
     "user": {
      "displayName": "­우지민",
      "userId": "16423887003847635019"
     },
     "user_tz": -540
    },
    "id": "iwAl03gEsOl9",
    "scrolled": true
   },
   "outputs": [
    {
     "data": {
      "text/plain": [
       "array([ 1.63,  1.74,  1.64,  1.56,  1.96,  1.5 ,  1.79,  1.52,  1.83,\n",
       "        1.99,  1.89,  1.5 ,  1.68,  1.8 ,  1.88,  2.06,  1.97,  1.79,\n",
       "        1.57,  1.78, 80.45, 65.35, 71.07, 54.69, 63.91, 78.01, 72.92,\n",
       "       72.3 , 77.34, 59.69, 57.97, 71.77, 79.39, 63.69, 61.  , 45.83,\n",
       "       65.76, 45.08, 30.74, 78.1 ])"
      ]
     },
     "execution_count": 278,
     "metadata": {},
     "output_type": "execute_result"
    }
   ],
   "source": [
    "np.concatenate((height, weight))"
   ]
  },
  {
   "cell_type": "code",
   "execution_count": 279,
   "metadata": {
    "executionInfo": {
     "elapsed": 4975,
     "status": "aborted",
     "timestamp": 1663150251435,
     "user": {
      "displayName": "­우지민",
      "userId": "16423887003847635019"
     },
     "user_tz": -540
    },
    "id": "ZtyElPahsOl9",
    "scrolled": true
   },
   "outputs": [
    {
     "data": {
      "text/plain": [
       "array([[ 1.63,  1.74,  1.64,  1.56,  1.96,  1.5 ,  1.79,  1.52,  1.83,\n",
       "         1.99,  1.89,  1.5 ,  1.68,  1.8 ,  1.88,  2.06,  1.97,  1.79,\n",
       "         1.57,  1.78],\n",
       "       [80.45, 65.35, 71.07, 54.69, 63.91, 78.01, 72.92, 72.3 , 77.34,\n",
       "        59.69, 57.97, 71.77, 79.39, 63.69, 61.  , 45.83, 65.76, 45.08,\n",
       "        30.74, 78.1 ]])"
      ]
     },
     "execution_count": 279,
     "metadata": {},
     "output_type": "execute_result"
    }
   ],
   "source": [
    "np.vstack((height, weight))"
   ]
  },
  {
   "cell_type": "code",
   "execution_count": 280,
   "metadata": {
    "executionInfo": {
     "elapsed": 4969,
     "status": "aborted",
     "timestamp": 1663150251435,
     "user": {
      "displayName": "­우지민",
      "userId": "16423887003847635019"
     },
     "user_tz": -540
    },
    "id": "Aa5QX7tdsOl9",
    "scrolled": true
   },
   "outputs": [
    {
     "data": {
      "text/plain": [
       "array([ 1.63,  1.74,  1.64,  1.56,  1.96,  1.5 ,  1.79,  1.52,  1.83,\n",
       "        1.99,  1.89,  1.5 ,  1.68,  1.8 ,  1.88,  2.06,  1.97,  1.79,\n",
       "        1.57,  1.78, 80.45, 65.35, 71.07, 54.69, 63.91, 78.01, 72.92,\n",
       "       72.3 , 77.34, 59.69, 57.97, 71.77, 79.39, 63.69, 61.  , 45.83,\n",
       "       65.76, 45.08, 30.74, 78.1 ])"
      ]
     },
     "execution_count": 280,
     "metadata": {},
     "output_type": "execute_result"
    }
   ],
   "source": [
    "np.hstack((height, weight))"
   ]
  },
  {
   "cell_type": "markdown",
   "metadata": {
    "id": "Cso265EvsOl9"
   },
   "source": [
    "## Axes"
   ]
  },
  {
   "cell_type": "markdown",
   "metadata": {
    "id": "PRQ7dc1BsOl9"
   },
   "source": [
    "Create a 3 by 3 matrix of intergers from 0 to 8."
   ]
  },
  {
   "cell_type": "code",
   "execution_count": 298,
   "metadata": {
    "executionInfo": {
     "elapsed": 4964,
     "status": "aborted",
     "timestamp": 1663150251435,
     "user": {
      "displayName": "­우지민",
      "userId": "16423887003847635019"
     },
     "user_tz": -540
    },
    "id": "vUGPx179sOl-"
   },
   "outputs": [
    {
     "data": {
      "text/plain": [
       "array([[7, 2, 3],\n",
       "       [2, 1, 4],\n",
       "       [0, 7, 6]])"
      ]
     },
     "execution_count": 298,
     "metadata": {},
     "output_type": "execute_result"
    }
   ],
   "source": [
    "#################### TODO ####################\n",
    "arr=np.random.randint(0,8,9).reshape(3,3)\n",
    "arr\n",
    "##############################################"
   ]
  },
  {
   "cell_type": "markdown",
   "metadata": {
    "id": "3v4SVLLusOl-"
   },
   "source": [
    " Calculate the sum over all the elements."
   ]
  },
  {
   "cell_type": "code",
   "execution_count": 303,
   "metadata": {
    "executionInfo": {
     "elapsed": 4960,
     "status": "aborted",
     "timestamp": 1663150251435,
     "user": {
      "displayName": "­우지민",
      "userId": "16423887003847635019"
     },
     "user_tz": -540
    },
    "id": "6I-7A5qHdxwz"
   },
   "outputs": [
    {
     "data": {
      "text/plain": [
       "32"
      ]
     },
     "execution_count": 303,
     "metadata": {},
     "output_type": "execute_result"
    }
   ],
   "source": [
    "#################### TODO ####################\n",
    "np.sum(arr)\n",
    "##############################################"
   ]
  },
  {
   "cell_type": "markdown",
   "metadata": {
    "id": "xOzjxtPHsOl-"
   },
   "source": [
    "Calculate the sum along axis 0."
   ]
  },
  {
   "cell_type": "code",
   "execution_count": 304,
   "metadata": {
    "executionInfo": {
     "elapsed": 4957,
     "status": "aborted",
     "timestamp": 1663150251435,
     "user": {
      "displayName": "­우지민",
      "userId": "16423887003847635019"
     },
     "user_tz": -540
    },
    "id": "nAmGREDgsOl-"
   },
   "outputs": [
    {
     "data": {
      "text/plain": [
       "array([ 9, 10, 13])"
      ]
     },
     "execution_count": 304,
     "metadata": {},
     "output_type": "execute_result"
    }
   ],
   "source": [
    "#################### TODO ####################\n",
    "np.sum(arr,axis=0)\n",
    "##############################################"
   ]
  },
  {
   "cell_type": "markdown",
   "metadata": {
    "id": "px-ANvgLsOl-"
   },
   "source": [
    "Caculate the sum along axis 1."
   ]
  },
  {
   "cell_type": "code",
   "execution_count": 305,
   "metadata": {
    "executionInfo": {
     "elapsed": 4954,
     "status": "aborted",
     "timestamp": 1663150251436,
     "user": {
      "displayName": "­우지민",
      "userId": "16423887003847635019"
     },
     "user_tz": -540
    },
    "id": "Lg3UWUblsOl-"
   },
   "outputs": [
    {
     "data": {
      "text/plain": [
       "array([12,  7, 13])"
      ]
     },
     "execution_count": 305,
     "metadata": {},
     "output_type": "execute_result"
    }
   ],
   "source": [
    "#################### TODO ####################\n",
    "np.sum(arr,axis=1)\n",
    "##############################################"
   ]
  },
  {
   "cell_type": "markdown",
   "metadata": {
    "id": "KUT0LFgysOl-"
   },
   "source": [
    "Identify the axis in the following array"
   ]
  },
  {
   "cell_type": "code",
   "execution_count": 306,
   "metadata": {
    "executionInfo": {
     "elapsed": 4951,
     "status": "aborted",
     "timestamp": 1663150251436,
     "user": {
      "displayName": "­우지민",
      "userId": "16423887003847635019"
     },
     "user_tz": -540
    },
    "id": "9FXoxgaQsOl-"
   },
   "outputs": [
    {
     "data": {
      "text/plain": [
       "array([[[ 0,  1,  2,  3],\n",
       "        [ 4,  5,  6,  7],\n",
       "        [ 8,  9, 10, 11]],\n",
       "\n",
       "       [[12, 13, 14, 15],\n",
       "        [16, 17, 18, 19],\n",
       "        [20, 21, 22, 23]]])"
      ]
     },
     "execution_count": 306,
     "metadata": {},
     "output_type": "execute_result"
    }
   ],
   "source": [
    "a = np.arange(24).reshape(2, 3, 4)\n",
    "a"
   ]
  },
  {
   "cell_type": "code",
   "execution_count": 309,
   "metadata": {
    "executionInfo": {
     "elapsed": 4946,
     "status": "aborted",
     "timestamp": 1663150251436,
     "user": {
      "displayName": "­우지민",
      "userId": "16423887003847635019"
     },
     "user_tz": -540
    },
    "id": "raYKlA0DsOl-"
   },
   "outputs": [
    {
     "data": {
      "text/plain": [
       "array([[12, 14, 16, 18],\n",
       "       [20, 22, 24, 26],\n",
       "       [28, 30, 32, 34]])"
      ]
     },
     "execution_count": 309,
     "metadata": {},
     "output_type": "execute_result"
    }
   ],
   "source": [
    "np.sum(a, axis=0)"
   ]
  },
  {
   "cell_type": "code",
   "execution_count": 310,
   "metadata": {
    "executionInfo": {
     "elapsed": 4942,
     "status": "aborted",
     "timestamp": 1663150251436,
     "user": {
      "displayName": "­우지민",
      "userId": "16423887003847635019"
     },
     "user_tz": -540
    },
    "id": "1QBrYNrysOl-"
   },
   "outputs": [
    {
     "data": {
      "text/plain": [
       "array([[12, 15, 18, 21],\n",
       "       [48, 51, 54, 57]])"
      ]
     },
     "execution_count": 310,
     "metadata": {},
     "output_type": "execute_result"
    }
   ],
   "source": [
    "np.sum(a, axis=1)"
   ]
  },
  {
   "cell_type": "code",
   "execution_count": 311,
   "metadata": {
    "executionInfo": {
     "elapsed": 4938,
     "status": "aborted",
     "timestamp": 1663150251436,
     "user": {
      "displayName": "­우지민",
      "userId": "16423887003847635019"
     },
     "user_tz": -540
    },
    "id": "HlXQuXwgsOl-"
   },
   "outputs": [
    {
     "data": {
      "text/plain": [
       "array([[ 6, 22, 38],\n",
       "       [54, 70, 86]])"
      ]
     },
     "execution_count": 311,
     "metadata": {},
     "output_type": "execute_result"
    }
   ],
   "source": [
    "np.sum(a, axis=2)"
   ]
  },
  {
   "cell_type": "markdown",
   "metadata": {
    "id": "iq3fffyqsOl-"
   },
   "source": [
    "## Axes in more than two dimensions"
   ]
  },
  {
   "cell_type": "markdown",
   "metadata": {
    "id": "RuYRe3glsOl_"
   },
   "source": [
    "Create a three-dimensional array"
   ]
  },
  {
   "cell_type": "code",
   "execution_count": 351,
   "metadata": {
    "executionInfo": {
     "elapsed": 4934,
     "status": "aborted",
     "timestamp": 1663150251436,
     "user": {
      "displayName": "­우지민",
      "userId": "16423887003847635019"
     },
     "user_tz": -540
    },
    "id": "b97MHdBWsOl_"
   },
   "outputs": [
    {
     "name": "stdout",
     "output_type": "stream",
     "text": [
      "[[[ 0  1  2  3]\n",
      "  [ 4  5  6  7]\n",
      "  [ 8  9 10 11]]\n",
      "\n",
      " [[12 13 14 15]\n",
      "  [16 17 18 19]\n",
      "  [20 21 22 23]]]\n"
     ]
    }
   ],
   "source": [
    "a = np.arange(24).reshape(2, 3, 4)\n",
    "print(a)"
   ]
  },
  {
   "cell_type": "markdown",
   "metadata": {
    "id": "sD1O32UDsOl_"
   },
   "source": [
    "Produce the first 2-D array by cutting along axis 0."
   ]
  },
  {
   "cell_type": "code",
   "execution_count": 352,
   "metadata": {
    "executionInfo": {
     "elapsed": 4930,
     "status": "aborted",
     "timestamp": 1663150251437,
     "user": {
      "displayName": "­우지민",
      "userId": "16423887003847635019"
     },
     "user_tz": -540
    },
    "id": "kZuoVtmTsOl_"
   },
   "outputs": [
    {
     "data": {
      "text/plain": [
       "array([[ 0,  1,  2,  3],\n",
       "       [ 4,  5,  6,  7],\n",
       "       [ 8,  9, 10, 11]])"
      ]
     },
     "execution_count": 352,
     "metadata": {},
     "output_type": "execute_result"
    }
   ],
   "source": [
    "#################### TODO ####################\n",
    "np.sum(a[:1],axis=0)\n",
    "##############################################"
   ]
  },
  {
   "cell_type": "markdown",
   "metadata": {
    "id": "Ws-SgspLsOl_"
   },
   "source": [
    "and axis 1."
   ]
  },
  {
   "cell_type": "code",
   "execution_count": 328,
   "metadata": {
    "executionInfo": {
     "elapsed": 4926,
     "status": "aborted",
     "timestamp": 1663150251437,
     "user": {
      "displayName": "­우지민",
      "userId": "16423887003847635019"
     },
     "user_tz": -540
    },
    "id": "syEaJeonsOl_"
   },
   "outputs": [
    {
     "data": {
      "text/plain": [
       "array([[12, 15, 18, 21]])"
      ]
     },
     "execution_count": 328,
     "metadata": {},
     "output_type": "execute_result"
    }
   ],
   "source": [
    "#################### TODO ####################\n",
    "np.sum(a[:1],axis=1)\n",
    "##############################################"
   ]
  },
  {
   "cell_type": "markdown",
   "metadata": {
    "id": "w1Pqm4sOsOl_"
   },
   "source": [
    "and axis 2."
   ]
  },
  {
   "cell_type": "code",
   "execution_count": 329,
   "metadata": {
    "executionInfo": {
     "elapsed": 4923,
     "status": "aborted",
     "timestamp": 1663150251437,
     "user": {
      "displayName": "­우지민",
      "userId": "16423887003847635019"
     },
     "user_tz": -540
    },
    "id": "IQtZDMfSsOl_"
   },
   "outputs": [
    {
     "data": {
      "text/plain": [
       "array([[ 6, 22, 38]])"
      ]
     },
     "execution_count": 329,
     "metadata": {},
     "output_type": "execute_result"
    }
   ],
   "source": [
    "#################### TODO ####################\n",
    "np.sum(a[:1],axis=2)\n",
    "##############################################"
   ]
  },
  {
   "cell_type": "markdown",
   "metadata": {
    "id": "2-eZg8pasOl_"
   },
   "source": [
    "What do you get by simply using the index `[0]`?"
   ]
  },
  {
   "cell_type": "code",
   "execution_count": 324,
   "metadata": {
    "executionInfo": {
     "elapsed": 4919,
     "status": "aborted",
     "timestamp": 1663150251437,
     "user": {
      "displayName": "­우지민",
      "userId": "16423887003847635019"
     },
     "user_tz": -540
    },
    "id": "Hd0udOFxsOl_"
   },
   "outputs": [
    {
     "data": {
      "text/plain": [
       "array([12, 15, 18, 21])"
      ]
     },
     "execution_count": 324,
     "metadata": {},
     "output_type": "execute_result"
    }
   ],
   "source": [
    "#################### TODO ####################\n",
    "np.sum(a[0],axis=0)\n",
    "##############################################"
   ]
  },
  {
   "cell_type": "markdown",
   "metadata": {
    "id": "jc3vMElBsOl_"
   },
   "source": [
    "What do you get by using `[..., 0]`?"
   ]
  },
  {
   "cell_type": "code",
   "execution_count": 325,
   "metadata": {
    "executionInfo": {
     "elapsed": 4915,
     "status": "aborted",
     "timestamp": 1663150251437,
     "user": {
      "displayName": "­우지민",
      "userId": "16423887003847635019"
     },
     "user_tz": -540
    },
    "id": "TItvXIMksOl_"
   },
   "outputs": [
    {
     "data": {
      "text/plain": [
       "20"
      ]
     },
     "execution_count": 325,
     "metadata": {},
     "output_type": "execute_result"
    }
   ],
   "source": [
    "#################### TODO ####################\n",
    "np.sum(a[1,2,0],axis=0)\n",
    "##############################################"
   ]
  },
  {
   "cell_type": "markdown",
   "metadata": {
    "id": "2My5Fo-ZsOl_"
   },
   "source": [
    "## Exploring numerical operations"
   ]
  },
  {
   "cell_type": "code",
   "execution_count": 330,
   "metadata": {
    "executionInfo": {
     "elapsed": 6,
     "status": "aborted",
     "timestamp": 1663150251747,
     "user": {
      "displayName": "­우지민",
      "userId": "16423887003847635019"
     },
     "user_tz": -540
    },
    "id": "lsYGDUYhsOl_"
   },
   "outputs": [
    {
     "data": {
      "text/plain": [
       "(array([0, 1, 2, 3]), array([4, 5, 6, 7]))"
      ]
     },
     "execution_count": 330,
     "metadata": {},
     "output_type": "execute_result"
    }
   ],
   "source": [
    "a = np.arange(4)\n",
    "b = np.arange(4, 8)\n",
    "a, b"
   ]
  },
  {
   "cell_type": "code",
   "execution_count": 331,
   "metadata": {
    "executionInfo": {
     "elapsed": 7,
     "status": "aborted",
     "timestamp": 1663150251748,
     "user": {
      "displayName": "­우지민",
      "userId": "16423887003847635019"
     },
     "user_tz": -540
    },
    "id": "79az9wFPsOl_"
   },
   "outputs": [
    {
     "data": {
      "text/plain": [
       "array([ 4,  6,  8, 10])"
      ]
     },
     "execution_count": 331,
     "metadata": {},
     "output_type": "execute_result"
    }
   ],
   "source": [
    "a+b"
   ]
  },
  {
   "cell_type": "code",
   "execution_count": 332,
   "metadata": {
    "executionInfo": {
     "elapsed": 7,
     "status": "aborted",
     "timestamp": 1663150251748,
     "user": {
      "displayName": "­우지민",
      "userId": "16423887003847635019"
     },
     "user_tz": -540
    },
    "id": "lyGZAxNasOmA"
   },
   "outputs": [
    {
     "data": {
      "text/plain": [
       "array([ 0,  5, 12, 21])"
      ]
     },
     "execution_count": 332,
     "metadata": {},
     "output_type": "execute_result"
    }
   ],
   "source": [
    "a*b"
   ]
  },
  {
   "cell_type": "markdown",
   "metadata": {
    "id": "B5_281-6sOmA"
   },
   "source": [
    "Operations are elementwise. Check this by multiplying two 2d arrays."
   ]
  },
  {
   "cell_type": "code",
   "execution_count": 367,
   "metadata": {
    "executionInfo": {
     "elapsed": 7,
     "status": "aborted",
     "timestamp": 1663150251748,
     "user": {
      "displayName": "­우지민",
      "userId": "16423887003847635019"
     },
     "user_tz": -540
    },
    "id": "V0yM7fAjsOmA"
   },
   "outputs": [
    {
     "data": {
      "text/plain": [
       "(array([[0, 1],\n",
       "        [2, 3]]),\n",
       " array([[4, 5],\n",
       "        [6, 7]]))"
      ]
     },
     "execution_count": 367,
     "metadata": {},
     "output_type": "execute_result"
    }
   ],
   "source": [
    "a = np.arange(4).reshape(2, 2)\n",
    "b = np.arange(4, 8).reshape(2, 2)\n",
    "a, b"
   ]
  },
  {
   "cell_type": "code",
   "execution_count": 370,
   "metadata": {
    "executionInfo": {
     "elapsed": 6,
     "status": "aborted",
     "timestamp": 1663150251748,
     "user": {
      "displayName": "­우지민",
      "userId": "16423887003847635019"
     },
     "user_tz": -540
    },
    "id": "kdtnYE-2sOmA"
   },
   "outputs": [
    {
     "data": {
      "text/plain": [
       "array([[ 0,  5],\n",
       "       [12, 21]])"
      ]
     },
     "execution_count": 370,
     "metadata": {},
     "output_type": "execute_result"
    }
   ],
   "source": [
    "#################### TODO ####################\n",
    "a*b\n",
    "##############################################"
   ]
  },
  {
   "cell_type": "markdown",
   "metadata": {
    "id": "1xiLCVHZsOmA"
   },
   "source": [
    "Do a matrix multiplication between a and b (there are 3 ways of matrix multiplications)"
   ]
  },
  {
   "cell_type": "code",
   "execution_count": 371,
   "metadata": {
    "executionInfo": {
     "elapsed": 7,
     "status": "aborted",
     "timestamp": 1663150251749,
     "user": {
      "displayName": "­우지민",
      "userId": "16423887003847635019"
     },
     "user_tz": -540
    },
    "id": "E-BD_wbYsOmA"
   },
   "outputs": [
    {
     "data": {
      "text/plain": [
       "array([[ 6,  7],\n",
       "       [26, 31]])"
      ]
     },
     "execution_count": 371,
     "metadata": {},
     "output_type": "execute_result"
    }
   ],
   "source": [
    "#################### TODO ####################\n",
    "# The matmul function implements the semantics of the @ operator introduced in Python 3.5 \n",
    "np.matmul(a,b)\n",
    "##############################################"
   ]
  },
  {
   "cell_type": "markdown",
   "metadata": {
    "id": "r8LJJYV_sOmB"
   },
   "source": [
    "## Checking runtime\n",
    "\n",
    "##### Compare the runtime of two equivalent operations, one using `numpy` and the other without using `numpy`."
   ]
  },
  {
   "cell_type": "code",
   "execution_count": 372,
   "metadata": {
    "executionInfo": {
     "elapsed": 7,
     "status": "aborted",
     "timestamp": 1663150251749,
     "user": {
      "displayName": "­우지민",
      "userId": "16423887003847635019"
     },
     "user_tz": -540
    },
    "id": "N19pAiA5sOmB"
   },
   "outputs": [
    {
     "name": "stdout",
     "output_type": "stream",
     "text": [
      "883 µs ± 32.2 µs per loop (mean ± std. dev. of 7 runs, 1,000 loops each)\n"
     ]
    }
   ],
   "source": [
    "a = np.arange(1000000)\n",
    "%timeit a**2"
   ]
  },
  {
   "cell_type": "code",
   "execution_count": 373,
   "metadata": {
    "executionInfo": {
     "elapsed": 7,
     "status": "aborted",
     "timestamp": 1663150251749,
     "user": {
      "displayName": "­우지민",
      "userId": "16423887003847635019"
     },
     "user_tz": -540
    },
    "id": "zmT-kc3QsOmB",
    "scrolled": true
   },
   "outputs": [
    {
     "name": "stdout",
     "output_type": "stream",
     "text": [
      "62.3 ms ± 575 µs per loop (mean ± std. dev. of 7 runs, 10 loops each)\n"
     ]
    }
   ],
   "source": [
    "xvals = range(1000000)\n",
    "%timeit [xval**2 for xval in xvals]"
   ]
  },
  {
   "cell_type": "code",
   "execution_count": 374,
   "metadata": {
    "executionInfo": {
     "elapsed": 7,
     "status": "aborted",
     "timestamp": 1663150251749,
     "user": {
      "displayName": "­우지민",
      "userId": "16423887003847635019"
     },
     "user_tz": -540
    },
    "id": "_y1UhwY7sOmB"
   },
   "outputs": [
    {
     "name": "stdout",
     "output_type": "stream",
     "text": [
      "506 µs ± 6.56 µs per loop (mean ± std. dev. of 7 runs, 1,000 loops each)\n"
     ]
    }
   ],
   "source": [
    "a = np.arange(100000)\n",
    "%timeit np.sin(a)"
   ]
  },
  {
   "cell_type": "code",
   "execution_count": 375,
   "metadata": {
    "executionInfo": {
     "elapsed": 8,
     "status": "aborted",
     "timestamp": 1663150251750,
     "user": {
      "displayName": "­우지민",
      "userId": "16423887003847635019"
     },
     "user_tz": -540
    },
    "id": "UjpcbQiPsOmB"
   },
   "outputs": [],
   "source": [
    "import math"
   ]
  },
  {
   "cell_type": "code",
   "execution_count": 376,
   "metadata": {
    "executionInfo": {
     "elapsed": 8,
     "status": "aborted",
     "timestamp": 1663150251750,
     "user": {
      "displayName": "­우지민",
      "userId": "16423887003847635019"
     },
     "user_tz": -540
    },
    "id": "TgDzlbJnsOmB"
   },
   "outputs": [
    {
     "name": "stdout",
     "output_type": "stream",
     "text": [
      "9.72 ms ± 414 µs per loop (mean ± std. dev. of 7 runs, 100 loops each)\n"
     ]
    }
   ],
   "source": [
    "xvals = range(100000)\n",
    "%timeit [math.sin(xval) for xval in xvals]"
   ]
  },
  {
   "cell_type": "markdown",
   "metadata": {
    "id": "vSxmWfy9sOmD"
   },
   "source": [
    "## Functions of two variables"
   ]
  },
  {
   "cell_type": "code",
   "execution_count": 377,
   "metadata": {
    "executionInfo": {
     "elapsed": 9,
     "status": "aborted",
     "timestamp": 1663150251752,
     "user": {
      "displayName": "­우지민",
      "userId": "16423887003847635019"
     },
     "user_tz": -540
    },
    "id": "lu1fCFQMsOmD"
   },
   "outputs": [
    {
     "data": {
      "text/plain": [
       "<matplotlib.image.AxesImage at 0x1b102228450>"
      ]
     },
     "execution_count": 377,
     "metadata": {},
     "output_type": "execute_result"
    },
    {
     "data": {
      "image/png": "[encoded data removed]",
      "text/plain": [
       "<Figure size 640x480 with 1 Axes>"
      ]
     },
     "metadata": {},
     "output_type": "display_data"
    }
   ],
   "source": [
    "x = np.linspace(-40, 40, 200)\n",
    "y = x[:, np.newaxis]\n",
    "# numpy.hypot(x1,x2): The hypotenuse of the triangle(s). This is a scalar if both x1 and x2 are scalars.\n",
    "z = np.sin(np.hypot(x-10, y))+np.sin(np.hypot(x+10, y))\n",
    "# Colormap reference: https://matplotlib.org/stable/gallery/color/colormap_reference.html\n",
    "plt.imshow(z, cmap='viridis')"
   ]
  },
  {
   "cell_type": "code",
   "execution_count": 378,
   "metadata": {
    "executionInfo": {
     "elapsed": 9,
     "status": "aborted",
     "timestamp": 1663150251752,
     "user": {
      "displayName": "­우지민",
      "userId": "16423887003847635019"
     },
     "user_tz": -540
    },
    "id": "vRiik1-lsOmD"
   },
   "outputs": [
    {
     "data": {
      "text/plain": [
       "<ufunc 'hypot'>"
      ]
     },
     "execution_count": 378,
     "metadata": {},
     "output_type": "execute_result"
    }
   ],
   "source": [
    "np.hypot"
   ]
  },
  {
   "cell_type": "code",
   "execution_count": 379,
   "metadata": {
    "executionInfo": {
     "elapsed": 9,
     "status": "aborted",
     "timestamp": 1663150251752,
     "user": {
      "displayName": "­우지민",
      "userId": "16423887003847635019"
     },
     "user_tz": -540
    },
    "id": "MGhIQ63gsOmD"
   },
   "outputs": [],
   "source": [
    "x, y = np.mgrid[-10:10:0.1, -10:10:0.1]"
   ]
  },
  {
   "cell_type": "code",
   "execution_count": 380,
   "metadata": {
    "executionInfo": {
     "elapsed": 9,
     "status": "aborted",
     "timestamp": 1663150251752,
     "user": {
      "displayName": "­우지민",
      "userId": "16423887003847635019"
     },
     "user_tz": -540
    },
    "id": "cWy73tOssOmD"
   },
   "outputs": [
    {
     "data": {
      "text/plain": [
       "array([[-10. , -10. , -10. , ..., -10. , -10. , -10. ],\n",
       "       [ -9.9,  -9.9,  -9.9, ...,  -9.9,  -9.9,  -9.9],\n",
       "       [ -9.8,  -9.8,  -9.8, ...,  -9.8,  -9.8,  -9.8],\n",
       "       ...,\n",
       "       [  9.7,   9.7,   9.7, ...,   9.7,   9.7,   9.7],\n",
       "       [  9.8,   9.8,   9.8, ...,   9.8,   9.8,   9.8],\n",
       "       [  9.9,   9.9,   9.9, ...,   9.9,   9.9,   9.9]])"
      ]
     },
     "execution_count": 380,
     "metadata": {},
     "output_type": "execute_result"
    }
   ],
   "source": [
    "x"
   ]
  },
  {
   "cell_type": "code",
   "execution_count": 381,
   "metadata": {
    "executionInfo": {
     "elapsed": 9,
     "status": "aborted",
     "timestamp": 1663150251752,
     "user": {
      "displayName": "­우지민",
      "userId": "16423887003847635019"
     },
     "user_tz": -540
    },
    "id": "uZtauJCmsOmD"
   },
   "outputs": [
    {
     "data": {
      "text/plain": [
       "array([[-10. ,  -9.9,  -9.8, ...,   9.7,   9.8,   9.9],\n",
       "       [-10. ,  -9.9,  -9.8, ...,   9.7,   9.8,   9.9],\n",
       "       [-10. ,  -9.9,  -9.8, ...,   9.7,   9.8,   9.9],\n",
       "       ...,\n",
       "       [-10. ,  -9.9,  -9.8, ...,   9.7,   9.8,   9.9],\n",
       "       [-10. ,  -9.9,  -9.8, ...,   9.7,   9.8,   9.9],\n",
       "       [-10. ,  -9.9,  -9.8, ...,   9.7,   9.8,   9.9]])"
      ]
     },
     "execution_count": 381,
     "metadata": {},
     "output_type": "execute_result"
    }
   ],
   "source": [
    "y"
   ]
  },
  {
   "cell_type": "code",
   "execution_count": 382,
   "metadata": {
    "executionInfo": {
     "elapsed": 10,
     "status": "aborted",
     "timestamp": 1663150251753,
     "user": {
      "displayName": "­우지민",
      "userId": "16423887003847635019"
     },
     "user_tz": -540
    },
    "id": "yqpKOtbhsOmD"
   },
   "outputs": [
    {
     "data": {
      "text/plain": [
       "<matplotlib.image.AxesImage at 0x1b10230a050>"
      ]
     },
     "execution_count": 382,
     "metadata": {},
     "output_type": "execute_result"
    },
    {
     "data": {
      "image/png": "[encoded data removed]",
      "text/plain": [
       "<Figure size 640x480 with 1 Axes>"
      ]
     },
     "metadata": {},
     "output_type": "display_data"
    }
   ],
   "source": [
    "plt.imshow(np.sin(x*y))"
   ]
  },
  {
   "cell_type": "markdown",
   "metadata": {
    "id": "v_llquI3sOmB"
   },
   "source": [
    "## Problem 1: Broadcasting\n",
    "\n",
    "##### Following examples show broadcasting over numpy arrays."
   ]
  },
  {
   "cell_type": "code",
   "execution_count": 383,
   "metadata": {
    "executionInfo": {
     "elapsed": 8,
     "status": "aborted",
     "timestamp": 1663150251750,
     "user": {
      "displayName": "­우지민",
      "userId": "16423887003847635019"
     },
     "user_tz": -540
    },
    "id": "xvCHKygWsOmB"
   },
   "outputs": [
    {
     "data": {
      "text/plain": [
       "array([[ 0,  1,  2,  3],\n",
       "       [ 4,  5,  6,  7],\n",
       "       [ 8,  9, 10, 11]])"
      ]
     },
     "execution_count": 383,
     "metadata": {},
     "output_type": "execute_result"
    }
   ],
   "source": [
    "a = np.arange(12).reshape(3, 4)\n",
    "a"
   ]
  },
  {
   "cell_type": "code",
   "execution_count": 384,
   "metadata": {
    "executionInfo": {
     "elapsed": 8,
     "status": "aborted",
     "timestamp": 1663150251750,
     "user": {
      "displayName": "­우지민",
      "userId": "16423887003847635019"
     },
     "user_tz": -540
    },
    "id": "UXgifa0fsOmC"
   },
   "outputs": [
    {
     "data": {
      "text/plain": [
       "array([[ 1,  2,  3,  4],\n",
       "       [ 5,  6,  7,  8],\n",
       "       [ 9, 10, 11, 12]])"
      ]
     },
     "execution_count": 384,
     "metadata": {},
     "output_type": "execute_result"
    }
   ],
   "source": [
    "a+1"
   ]
  },
  {
   "cell_type": "code",
   "execution_count": 391,
   "metadata": {
    "executionInfo": {
     "elapsed": 8,
     "status": "aborted",
     "timestamp": 1663150251750,
     "user": {
      "displayName": "­우지민",
      "userId": "16423887003847635019"
     },
     "user_tz": -540
    },
    "id": "KnT0K1VnsOmC"
   },
   "outputs": [
    {
     "data": {
      "text/plain": [
       "array([[ 0,  2,  4,  6],\n",
       "       [ 4,  6,  8, 10],\n",
       "       [ 8, 10, 12, 14]])"
      ]
     },
     "execution_count": 391,
     "metadata": {},
     "output_type": "execute_result"
    }
   ],
   "source": [
    "a+np.arange(4)"
   ]
  },
  {
   "cell_type": "code",
   "execution_count": 392,
   "metadata": {
    "executionInfo": {
     "elapsed": 8,
     "status": "aborted",
     "timestamp": 1663150251750,
     "user": {
      "displayName": "­우지민",
      "userId": "16423887003847635019"
     },
     "user_tz": -540
    },
    "id": "pGGAyXKNsOmC"
   },
   "outputs": [
    {
     "ename": "ValueError",
     "evalue": "operands could not be broadcast together with shapes (3,4) (3,) ",
     "output_type": "error",
     "traceback": [
      "\u001b[1;31m---------------------------------------------------------------------------\u001b[0m",
      "\u001b[1;31mValueError\u001b[0m                                Traceback (most recent call last)",
      "Cell \u001b[1;32mIn[392], line 1\u001b[0m\n\u001b[1;32m----> 1\u001b[0m a\u001b[38;5;241m+\u001b[39mnp\u001b[38;5;241m.\u001b[39marange(\u001b[38;5;241m3\u001b[39m)\n",
      "\u001b[1;31mValueError\u001b[0m: operands could not be broadcast together with shapes (3,4) (3,) "
     ]
    }
   ],
   "source": [
    "a+np.arange(3)"
   ]
  },
  {
   "cell_type": "code",
   "execution_count": 393,
   "metadata": {
    "executionInfo": {
     "elapsed": 9,
     "status": "aborted",
     "timestamp": 1663150251751,
     "user": {
      "displayName": "­우지민",
      "userId": "16423887003847635019"
     },
     "user_tz": -540
    },
    "id": "M53nDY1OsOmC"
   },
   "outputs": [
    {
     "data": {
      "text/plain": [
       "array([0, 1, 2])"
      ]
     },
     "execution_count": 393,
     "metadata": {},
     "output_type": "execute_result"
    }
   ],
   "source": [
    "np.arange(3)"
   ]
  },
  {
   "cell_type": "code",
   "execution_count": 394,
   "metadata": {
    "executionInfo": {
     "elapsed": 9,
     "status": "aborted",
     "timestamp": 1663150251751,
     "user": {
      "displayName": "­우지민",
      "userId": "16423887003847635019"
     },
     "user_tz": -540
    },
    "id": "CC3FWC1vsOmC"
   },
   "outputs": [
    {
     "data": {
      "text/plain": [
       "array([[0],\n",
       "       [1],\n",
       "       [2]])"
      ]
     },
     "execution_count": 394,
     "metadata": {},
     "output_type": "execute_result"
    }
   ],
   "source": [
    "np.arange(3).reshape(3, 1)"
   ]
  },
  {
   "cell_type": "code",
   "execution_count": 395,
   "metadata": {
    "executionInfo": {
     "elapsed": 9,
     "status": "aborted",
     "timestamp": 1663150251751,
     "user": {
      "displayName": "­우지민",
      "userId": "16423887003847635019"
     },
     "user_tz": -540
    },
    "id": "OHluV823sOmC"
   },
   "outputs": [
    {
     "data": {
      "text/plain": [
       "array([[ 0,  1,  2,  3],\n",
       "       [ 5,  6,  7,  8],\n",
       "       [10, 11, 12, 13]])"
      ]
     },
     "execution_count": 395,
     "metadata": {},
     "output_type": "execute_result"
    }
   ],
   "source": [
    "a+np.arange(3).reshape(3, 1)"
   ]
  },
  {
   "cell_type": "code",
   "execution_count": 396,
   "metadata": {
    "executionInfo": {
     "elapsed": 9,
     "status": "aborted",
     "timestamp": 1663150251751,
     "user": {
      "displayName": "­우지민",
      "userId": "16423887003847635019"
     },
     "user_tz": -540
    },
    "id": "UQNDsc5TsOmC"
   },
   "outputs": [
    {
     "name": "stdout",
     "output_type": "stream",
     "text": [
      "6.24 µs ± 160 ns per loop (mean ± std. dev. of 7 runs, 100,000 loops each)\n"
     ]
    }
   ],
   "source": [
    "a = np.arange(10000).reshape(100, 100); b = np.ones((100, 100))\n",
    "%timeit a+b"
   ]
  },
  {
   "cell_type": "code",
   "execution_count": 397,
   "metadata": {
    "executionInfo": {
     "elapsed": 9,
     "status": "aborted",
     "timestamp": 1663150251751,
     "user": {
      "displayName": "­우지민",
      "userId": "16423887003847635019"
     },
     "user_tz": -540
    },
    "id": "QPHSKnzLsOmC"
   },
   "outputs": [
    {
     "name": "stdout",
     "output_type": "stream",
     "text": [
      "3.31 µs ± 74.7 ns per loop (mean ± std. dev. of 7 runs, 100,000 loops each)\n"
     ]
    }
   ],
   "source": [
    "a = np.arange(10000).reshape(100, 100)\n",
    "%timeit a+1"
   ]
  },
  {
   "cell_type": "markdown",
   "metadata": {
    "id": "4MeqduAdsOmC"
   },
   "source": [
    "##### TODO: Create a multiplication table \"t\" for the numbers from 1 to 10 starting from two appropriately chosen 1d arrays: `t[i][j] = i * j` (where `1<=i, j <= 10`). As an alternative to `reshape` one can add additional axes with `newaxes`:"
   ]
  },
  {
   "cell_type": "code",
   "execution_count": 30,
   "metadata": {
    "executionInfo": {
     "elapsed": 9,
     "status": "aborted",
     "timestamp": 1663150251751,
     "user": {
      "displayName": "­우지민",
      "userId": "16423887003847635019"
     },
     "user_tz": -540
    },
    "id": "ffjLP5qisOmC"
   },
   "outputs": [
    {
     "data": {
      "text/plain": [
       "array([[  1,   2,   3,   4,   5,   6,   7,   8,   9,  10],\n",
       "       [  2,   4,   6,   8,  10,  12,  14,  16,  18,  20],\n",
       "       [  3,   6,   9,  12,  15,  18,  21,  24,  27,  30],\n",
       "       [  4,   8,  12,  16,  20,  24,  28,  32,  36,  40],\n",
       "       [  5,  10,  15,  20,  25,  30,  35,  40,  45,  50],\n",
       "       [  6,  12,  18,  24,  30,  36,  42,  48,  54,  60],\n",
       "       [  7,  14,  21,  28,  35,  42,  49,  56,  63,  70],\n",
       "       [  8,  16,  24,  32,  40,  48,  56,  64,  72,  80],\n",
       "       [  9,  18,  27,  36,  45,  54,  63,  72,  81,  90],\n",
       "       [ 10,  20,  30,  40,  50,  60,  70,  80,  90, 100]])"
      ]
     },
     "execution_count": 30,
     "metadata": {},
     "output_type": "execute_result"
    }
   ],
   "source": [
    "#################### TODO ####################\n",
    "a=np.arange(1,11)\n",
    "a\n",
    "col=a[:, np.newaxis]\n",
    "a*col\n",
    "##############################################"
   ]
  },
  {
   "cell_type": "markdown",
   "metadata": {
    "id": "5e9cpfl7sOlh"
   },
   "source": [
    "## Problem 2: `np.dot` vs. `np.matmul`"
   ]
  },
  {
   "cell_type": "code",
   "execution_count": 4,
   "metadata": {
    "id": "5e9cpfl7sOlh"
   },
   "outputs": [
    {
     "data": {
      "text/plain": [
       "(2, 3, 3)"
      ]
     },
     "execution_count": 4,
     "metadata": {},
     "output_type": "execute_result"
    }
   ],
   "source": [
    "import numpy as np\n",
    "A = np.arange(2*3*4).reshape((2,3,4))\n",
    "B = np.arange(2*3*4).reshape((2,4,3))\n",
    "np.dot(A,B).shape # (2, 3, 2, 3)\n",
    "np.matmul(A,B).shape # (2, 3, 3)"
   ]
  },
  {
   "cell_type": "markdown",
   "metadata": {
    "id": "5e9cpfl7sOlh"
   },
   "source": [
    "##### np.dot: Dot product of two arrays. If a is an N-D array and b is an M-D array (where M>=2), it is a sum product over the last axis of a and the second-to-last axis of b.\n",
    "\n",
    "\n",
    "* `C[i,j,k,m] = np.sum(A[i,j,:] * B[k,:,m])`  \n",
    "* `np.dot(A,B)[i,j,k,m] == np.sum(A[i,j,:] * B[k,:,m])`\n",
    "\n",
    "* `A.shape # (a1, a2, a3)`  \n",
    "* `B.shape # (b1, b2, b3)`  \n",
    "--> a3==b2\n",
    "\n",
    "* `C = np.dot(A,B)`  \n",
    "* `C.shape`  `# (a1, a2, b1, b3)`\n",
    "\n",
    "\n",
    "##### np.matmul: Matrix product of two arrays. If either argument is N-D, N > 2, it is treated as a stack of matrices residing in the last two indexes and broadcast accordingly.\n",
    "\n",
    "\n",
    "* `C[i,j,k] = np.sum(A[i,j,:] * B[i,:,k])`\n",
    "\n",
    "* `np.matmul(A,B)[i,j,k] == np.sum(A[i,j,:] * B[i,:,k])`\n",
    "\n",
    "* `A.shape # (a1, a2, a3)`  \n",
    "* `B.shape # (b1, b2, b3)`  \n",
    "--> (a1==b1) and (a3==b2)  \n",
    "\n",
    "* `C = np.matmul(A,B)`   \n",
    "* `C.shape`  `# (a1, a2, b3)`"
   ]
  },
  {
   "cell_type": "code",
   "execution_count": 22,
   "metadata": {},
   "outputs": [
    {
     "data": {
      "text/plain": [
       "(array([[[[  42,   48,   54],\n",
       "          [ 114,  120,  126]],\n",
       " \n",
       "         [[ 114,  136,  158],\n",
       "          [ 378,  400,  422]],\n",
       " \n",
       "         [[ 186,  224,  262],\n",
       "          [ 642,  680,  718]]],\n",
       " \n",
       " \n",
       "        [[[ 258,  312,  366],\n",
       "          [ 906,  960, 1014]],\n",
       " \n",
       "         [[ 330,  400,  470],\n",
       "          [1170, 1240, 1310]],\n",
       " \n",
       "         [[ 402,  488,  574],\n",
       "          [1434, 1520, 1606]]]]),\n",
       " array([[[  42,   48,   54],\n",
       "         [ 114,  136,  158],\n",
       "         [ 186,  224,  262]],\n",
       " \n",
       "        [[ 906,  960, 1014],\n",
       "         [1170, 1240, 1310],\n",
       "         [1434, 1520, 1606]]]))"
      ]
     },
     "execution_count": 22,
     "metadata": {},
     "output_type": "execute_result"
    }
   ],
   "source": [
    "import numpy as np \n",
    "a = np.arange(2*3*4).reshape((2,3,4)) \n",
    "b1 = np.arange(2*3*4).reshape((2,3,4))\n",
    "b2 = np.arange(2*3*4).reshape((2,4,3)) \n",
    "b3 = np.arange(2*3*4).reshape((3,2,4)) \n",
    "b4 = np.arange(2*3*4).reshape((3,4,2)) \n",
    "b5 = np.arange(2*3*4).reshape((4,2,3)) \n",
    "b6 = np.arange(2*3*4).reshape((4,3,2))\n",
    "\n",
    "d=np.dot(a,b2)\n",
    "m=np.matmul(a,b2)\n",
    "\n",
    "d,m"
   ]
  },
  {
   "cell_type": "markdown",
   "metadata": {
    "id": "5e9cpfl7sOlh"
   },
   "source": [
    "##### TODO \n",
    "* First, call `np.dot()` with every pair of `a` and `bk` (i.e., `a` and `b1`, `a` and `b2`,..., `a` and `b6`).\n",
    "* Next, call `np.matmul()` with these pairs.\n",
    "* Which pair gives a result of np.matmul different from np.dot? Why?  "
   ]
  },
  {
   "cell_type": "markdown",
   "metadata": {},
   "source": [
    "(1)only b2,b4 can dot function.\n",
    "(2)only b2 can matmul function.\n",
    "(3)np.dot(a,b) must have the same value of the last axis of a and the second axis of b, reflecting the multiplied.\n",
    "On the other hand, np.matmul(a,b) reflects that when the last two axis dimensions of a are (n, k) and the last two axis dimensions of b are (k, m), multiplied only between them to be (n, m) dimensions.\n",
    "so, although same value was inputed at dot and matmul function, different dimension and ouput was ouputed."
   ]
  }
 ],
 "metadata": {
  "anaconda-cloud": {},
  "colab": {
   "provenance": []
  },
  "kernelspec": {
   "display_name": "Python 3 (ipykernel)",
   "language": "python",
   "name": "python3"
  },
  "language_info": {
   "codemirror_mode": {
    "name": "ipython",
    "version": 3
   },
   "file_extension": ".py",
   "mimetype": "text/x-python",
   "name": "python",
   "nbconvert_exporter": "python",
   "pygments_lexer": "ipython3",
   "version": "3.11.4"
  }
 },
 "nbformat": 4,
 "nbformat_minor": 4
}

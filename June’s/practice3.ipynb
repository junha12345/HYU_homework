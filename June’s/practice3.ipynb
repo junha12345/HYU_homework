{
 "cells": [
  {
   "cell_type": "markdown",
   "metadata": {},
   "source": [
    "# Practice 3: Writing Efficient Code"
   ]
  },
  {
   "cell_type": "markdown",
   "metadata": {},
   "source": [
    "## 1. Speak Excitedly"
   ]
  },
  {
   "cell_type": "code",
   "execution_count": 6,
   "metadata": {
    "tags": []
   },
   "outputs": [
    {
     "name": "stdout",
     "output_type": "stream",
     "text": [
      "ANYWAY THIS LECTURE IS SO HELPFUL!!\n"
     ]
    }
   ],
   "source": [
    "def speak_excitedly(message, num_exclamations=1, enthusiasm=False):\n",
    "    \"\"\"\n",
    "    Return a message followed by \"num_exclamations\" exclamations points.\n",
    "    Return a capitalized massage if enthusiasm is True.\n",
    "    \"\"\"\n",
    "    #################### TODO ####################\n",
    "    message+='!'*num_exclamations\n",
    "    \n",
    "    if enthusiasm == True:\n",
    "        message=message.upper()\n",
    "        \n",
    "    return message\n",
    "    ##############################################\n",
    "\n",
    "print(speak_excitedly(\"Anyway this lecture is so helpful\", num_exclamations=2, enthusiasm=True))"
   ]
  },
  {
   "cell_type": "code",
   "execution_count": 6,
   "metadata": {
    "tags": []
   },
   "outputs": [],
   "source": [
    "def test_speak_excitedly():\n",
    "    \"\"\"Sample function calls illustrating the `speak_excitedly` function.\"\"\"\n",
    "    # \"Python is my favorite language!\"\n",
    "    print(speak_excitedly(\"Python is my favorite language\"))\n",
    "\n",
    "    # \"Python is very intuitive!!!!\"\n",
    "    print(speak_excitedly(\"Python is very intuitive\", num_exclamations=4))\n",
    "\n",
    "    # \"C++ is not as simple as python...\"\n",
    "    print(speak_excitedly(\"C++ is not as simple as python...\", num_exclamations=0))\n",
    "\n",
    "    # \"Anyway this lecture is so helpful!!\"\n",
    "    print(speak_excitedly(\"Anyway this lecture is so helpful\", num_exclamations=2, enthusiasm=True))"
   ]
  },
  {
   "cell_type": "code",
   "execution_count": 10,
   "metadata": {},
   "outputs": [
    {
     "name": "stdout",
     "output_type": "stream",
     "text": [
      "Python is my favorite language!\n",
      "Python is very intuitive!!!!\n",
      "C++ is not as simple as python...\n",
      "ANYWAY THIS LECTURE IS SO HELPFUL!!\n"
     ]
    }
   ],
   "source": [
    "test_speak_excitedly()"
   ]
  },
  {
   "cell_type": "markdown",
   "metadata": {},
   "source": [
    "## 2. Comprehension"
   ]
  },
  {
   "cell_type": "code",
   "execution_count": 171,
   "metadata": {
    "tags": []
   },
   "outputs": [],
   "source": [
    "def comprehension_read():\n",
    "    \"\"\"\n",
    "    Practice reading comprehensions and explore oddities with function calls\n",
    "    Each list comprehension is replicated below with an explanation:\n",
    "    \"\"\"\n",
    "    #################### TODO ####################  \n",
    "    \"\"\"\n",
    "    1.\n",
    "    [1, 2, 3, 4]\n",
    "    => [1, 2, 3, 4]\n",
    "       Constructs a list containing exactly the elements in [1, 2, 3, 4].\n",
    "        Not a very interesting list comprehension at all, since the `x for x`\n",
    "        means that no transformation will happen over the range.\n",
    "    \"\"\"\n",
    "    list1 = [1, 2, 3, 4]\n",
    "    ans = [x for x in list1]\n",
    "    \n",
    "    print(ans)\n",
    "    \"\"\"\n",
    "    2.\n",
    "    range(10)\n",
    "    => [-2, -1, 0, 1, 2, 3, 4, 5, 6, 7]\n",
    "        Subtracts 2 from each of the elements in range(10). For example, the\n",
    "        first element of range(10) is n = 0, so the first element of our generated\n",
    "        list is n - 2 = -2. The pattern then continues for the rest of the elements.\n",
    "    \"\"\"\n",
    "    a=range(10)\n",
    "    list1=[(i-2) for i in a]\n",
    "    print(list1)\n",
    "    \"\"\"\n",
    "    3.\n",
    "    range(41)\n",
    "    => [0, 3, 6, 9, 2, 5, 8, 1, 4, 7, 0, 3, 6, 9]\n",
    "        Gets the last digit of any number under 41 that is a multiple of 3.\n",
    "        Note that the `if k % 3 == 0` is a filtering condition! We'll see more\n",
    "        about filtering Week 4.\n",
    "    \"\"\"\n",
    "    a=range(41)\n",
    "    list1 = [int(str(i)[-1]) for i in a if i%3==0]\n",
    "    print(list1)\n",
    "    \"\"\"\n",
    "    4.\n",
    "    ['PythOn', 'iS', 'cOoL']\n",
    "    => ['python']\n",
    "        Builds the lowercased words if the first character is smaller than\n",
    "        the last character.\n",
    "        For example, when s = 'Python', we have s[0] = 'P' and s[-1] = 'n',\n",
    "        and since 'P' < 'n' (compared by ASCII values), we pass our filter\n",
    "        condition, and so contribute 'python' to the final list.\n",
    "        On the other hand, both 'iS' and 'cOoL' do not satisfy s[0] < s[-1],\n",
    "        so they are not passed to s.lower() for inclusion in the final list.\n",
    "    \"\"\"\n",
    "    \n",
    "    list1=['PythOn', 'iS', 'cOoL']\n",
    "    list2=[]\n",
    "    \n",
    "    for i in list1:\n",
    "        if ord(i[0])<ord(i[-1]):\n",
    "            list2.append(i.lower())\n",
    "    print(list2)\n",
    "    \n",
    "    \"\"\"\n",
    "    5.\n",
    "    arr = [[3,2,1], ['a','b','c'], [('do',), ['re'], 'mi']]\n",
    "    print([el.append(el[0] * 4) for el in arr])\n",
    "     => [None, None, None]\n",
    "    Why None? Give explanation.\n",
    "    \"\"\"\n",
    "    \"\"\"It is automatically added to the list because of list comprehension, but an error occurs using append().\n",
    "       so we have to append and print arr seperately.\"\"\"\n",
    "    \"\"\"\n",
    "    6.\n",
    "    arr = [[3,2,1], ['a','b','c'], [('do',), ['re'], 'mi']]\n",
    "    => [\n",
    "      [3, 2, 1, 12],\n",
    "      ['a', 'b', 'c', 'aaaa'],\n",
    "      [('do',), ['re'], 'mi', ('do', 'do', 'do', 'do')]\n",
    "    ]\n",
    "        What's going on here? .append() is a function that returns None,\n",
    "        so the list comprehension returns a list of three Nones, but the\n",
    "        effect of the append still takes place - that is, the array elements\n",
    "        themselves are still updated. Since 3 is an integer, 3 * 4 = 12 is\n",
    "        appended to the end of the first list. Since 'a' is a string,\n",
    "        'a' * 4 = 'aaaa' is appended to the end of the second list. Since\n",
    "        ('do',) is a tuple, ('do',) * 4 = ('do', 'do', 'do', 'do') is appended\n",
    "        to the end of the third list. Note that this is an example of duck-typing\n",
    "        in action!\n",
    "    \"\"\"\n",
    "    arr = [[3,2,1], ['a','b','c'], [('do',), ['re'], 'mi']]\n",
    "\n",
    "    for el in arr:\n",
    "        el.append(el[0] * 4)\n",
    "    print(arr)\n",
    "    \n",
    "    \"\"\"\n",
    "    7.\n",
    "    \"pYthON\"\n",
    "    => ['Y', 'O', 'N']\n",
    "        Simple enough. Keeps only the upper case letters in \"pYthON\", which are\n",
    "        'Y', 'O', and 'N'. Interesting, the result is a list of characters, not\n",
    "        a string, as you might guess. This is because the list comprehension\n",
    "        traverses the string \"pYthON\" as a sequence of 1-character strings.\n",
    "    \"\"\"\n",
    "    a=\"pYthON\"\n",
    "    list1=[i for i in a if 65<=ord(i)<=90]\n",
    "    \n",
    "    print(list1)\n",
    "\n",
    "    \"\"\"\n",
    "    8.\n",
    "    [\"its\", \"the\", \"remix\", \"to\", \"ignition\"]\n",
    "    => {2, 3, 5, 8}\n",
    "        Our first set comprehension, this gives all the unique lengths of words\n",
    "        in the argument list, which in this case are [3, 3, 5, 2, 8] respectively.\n",
    "        Since sets don't keep duplicate elements, we're left with {2, 3, 5, 8}.\n",
    "    \"\"\"\n",
    "    list1=[\"its\", \"the\", \"remix\", \"to\", \"ignition\"]\n",
    "    ans=sorted({len(i) for i in list1})\n",
    "    \n",
    "    print(ans)\n",
    "    ##############################################"
   ]
  },
  {
   "cell_type": "code",
   "execution_count": 172,
   "metadata": {
    "tags": []
   },
   "outputs": [
    {
     "name": "stdout",
     "output_type": "stream",
     "text": [
      "[1, 2, 3, 4]\n",
      "[-2, -1, 0, 1, 2, 3, 4, 5, 6, 7]\n",
      "[0, 3, 6, 9, 2, 5, 8, 1, 4, 7, 0, 3, 6, 9]\n",
      "['python']\n",
      "[[3, 2, 1, 12], ['a', 'b', 'c', 'aaaa'], [('do',), ['re'], 'mi', ('do', 'do', 'do', 'do')]]\n",
      "['Y', 'O', 'N']\n",
      "[2, 3, 5, 8]\n"
     ]
    }
   ],
   "source": [
    "comprehension_read()"
   ]
  },
  {
   "cell_type": "code",
   "execution_count": 25,
   "metadata": {
    "tags": []
   },
   "outputs": [
    {
     "name": "stdout",
     "output_type": "stream",
     "text": [
      "[1, 3, 5, 7]\n",
      "['Apple', 'Orange', 'Pear']\n",
      "['apple', 'pear']\n",
      "['TA_shin', 'TA_jeon']\n",
      "[('apple',), ('orange',), ('pear',)]\n",
      "{'apple': 5, 'orange': 6, 'pear': 4}\n"
     ]
    }
   ],
   "source": [
    "def comprehension_write():\n",
    "    \"\"\"\n",
    "    Practice writing comprehensions.\n",
    "    \n",
    "    1.\n",
    "    Generate [1, 3, 5, 7] from num, and print it.\n",
    "    # [0, 1, 2, 3]\n",
    "    # => [1, 3, 5, 7]\n",
    "    # we need to multiply each element by 2 and add 1.\n",
    "    \n",
    "    2.\n",
    "    Get the first capitalized letter of every word in \"fruits\", and print it.\n",
    "    To get the first capitalized letter, we convert the 0th character to uppercase.\n",
    "    \n",
    "    3.\n",
    "    Keep only 'apple' and 'pear' from \"fruits\", and print it.\n",
    "    To keep only 'apple' and 'pear', we filter on whether the fruit has a 'p' in it\n",
    "    (although we could use any other appropriate test as well).\n",
    "    \n",
    "    4.\n",
    "    Extract the TA's names from \"people\", and print it. To extract the TA's names from a class list, we first filter by whether the\n",
    "    element starts with 'TA_' and then extract the name using slice syntax.\n",
    "    \n",
    "    5.\n",
    "    Construct a list of tuples from \"fruits\", and print it. \n",
    "    To construct a list of tuples, we can build the tuples on the fly inside the list\n",
    "    comprehension.\n",
    "    \n",
    "    6. \n",
    "    Build a dictionary mapping fruits to their lengths, and print it.   \n",
    "    To build a dictionary mapping fruits to their lengths, we can use a dictionary\n",
    "    comprehension with syntax {key_fn(el): value_fn(el) for el in collection}\n",
    "    \"\"\"\n",
    "\n",
    "    nums = [0, 1, 2, 3]\n",
    "    fruits = ['apple', 'orange', 'pear']\n",
    "    people = [\"prof_kim\", \"student_hwang\", \"TA_shin\", \"TA_jeon\", \"student_lee\"]\n",
    "    \n",
    "    #################### TODO ####################\n",
    "    nums=[0,1,2,3]\n",
    "    ans1=[(2*i+1) for i in nums]\n",
    "    print(ans1)\n",
    "    \n",
    "    fruits = ['apple', 'orange', 'pear']\n",
    "    ans2=[(i[0].upper()+i[1:]) for i in fruits]\n",
    "    print(ans2)\n",
    "    \n",
    "    fruits = ['apple', 'orange', 'pear']\n",
    "    ans3=[i for i in fruits if 'p' in i]\n",
    "    print(ans3)\n",
    "    \n",
    "    people = [\"prof_kim\", \"student_hwang\", \"TA_shin\", \"TA_jeon\", \"student_lee\"]\n",
    "    ans4=[i for i in people if i.split('_')[0]=='TA']\n",
    "    print(ans4)\n",
    "    \n",
    "    fruits = ['apple', 'orange', 'pear']\n",
    "    ans5=[i for i in zip(fruits)]\n",
    "    print(ans5)\n",
    "    \n",
    "    fruits = ['apple', 'orange', 'pear']\n",
    "    ans6={i:len(i) for i in fruits}\n",
    "    print(ans6)\n",
    "    \n",
    "    ##############################################\n",
    "comprehension_write()"
   ]
  },
  {
   "cell_type": "code",
   "execution_count": 79,
   "metadata": {
    "tags": []
   },
   "outputs": [],
   "source": [
    "def test_map():\n",
    "    \"\"\"Practice writing transformations using `map`.\"\"\"\n",
    "    # 1. ['12', '-2', '0'] -> [12, -2, 0]\n",
    "    # 2. ['hello', 'world'] -> [5, 5]\n",
    "    # 3. ['hello', 'world'] -> ['olleh', 'dlrow']\n",
    "    # 4. range(2, 6) -> [(2, 4, 8), (3, 9, 27), (4, 16, 64), (5, 25, 125)]\n",
    "    # 5. zip(range(2, 5), range(3, 9, 2)) -> [6, 15, 28]\n",
    "    #################### TODO ####################\n",
    "    a=['12', '-2', '0']\n",
    "    ans1=list(map(int,a))\n",
    "    print(ans1)\n",
    "    \n",
    "    b=['hello', 'world']\n",
    "    ans2=list(map(lambda x: len(x),b))\n",
    "    print(ans2)\n",
    "              \n",
    "    c=['hello', 'world']\n",
    "    ans3=list(map(lambda x: x[::-1],c))\n",
    "    print(ans3)\n",
    "    \n",
    "    d=range(2, 6)\n",
    "    ans4=list(map(lambda x: (x,x*x,x*x*x),d))\n",
    "    print(ans4)\n",
    "    \n",
    "    e=zip(range(2, 5), range(3, 9, 2))\n",
    "    \n",
    "    ans5=list(map(lambda x:x[0]*x[1],e))\n",
    "    print(ans5)\n",
    "    ##############################################"
   ]
  },
  {
   "cell_type": "code",
   "execution_count": 80,
   "metadata": {
    "tags": []
   },
   "outputs": [
    {
     "name": "stdout",
     "output_type": "stream",
     "text": [
      "[12, -2, 0]\n",
      "[5, 5]\n",
      "['olleh', 'dlrow']\n",
      "[(2, 4, 8), (3, 9, 27), (4, 16, 64), (5, 25, 125)]\n",
      "[6, 15, 28]\n"
     ]
    }
   ],
   "source": [
    "test_map()"
   ]
  },
  {
   "cell_type": "code",
   "execution_count": 109,
   "metadata": {
    "tags": []
   },
   "outputs": [],
   "source": [
    "def test_filter():\n",
    "    \"\"\"Practice applying filter()\"\"\"\n",
    "    # 1. ['12', '-2', '0'] -> ['12', '0']\n",
    "    # 2. ['hello', 'world'] -> ['world']\n",
    "    # 3. ['Seoul', 'Busan', 'Jeju'] -> ['Seoul']\n",
    "    # 4. range(20) -> [0, 3, 5, 6, 9, 10, 12, 15, 18]\n",
    "    #################### TODO ####################\n",
    "    a=['12', '-2', '0']\n",
    "    ans1=list(filter(lambda x:int(x)>=0,a))\n",
    "    print(ans1)\n",
    "    \n",
    "    b=['hello', 'world']\n",
    "    ans2=list(filter(lambda x: 'w' in x,b))\n",
    "    print(ans2)\n",
    "    \n",
    "    c=['Seoul', 'Busan', 'Jeju']\n",
    "    ans3=list(filter(lambda x: 'S' in x,c))\n",
    "    print(ans3)\n",
    "    \n",
    "    d=range(20)\n",
    "    ans4=list(filter(lambda x: x%3==0 or x%5==0,d))\n",
    "    print(ans4)\n",
    "\n",
    "    ##############################################"
   ]
  },
  {
   "cell_type": "code",
   "execution_count": 110,
   "metadata": {
    "tags": []
   },
   "outputs": [
    {
     "name": "stdout",
     "output_type": "stream",
     "text": [
      "['12', '0']\n",
      "['world']\n",
      "['Seoul']\n",
      "[0, 3, 5, 6, 9, 10, 12, 15, 18]\n"
     ]
    }
   ],
   "source": [
    "test_filter()"
   ]
  },
  {
   "cell_type": "markdown",
   "metadata": {
    "tags": []
   },
   "source": [
    "## 3. Flip Dictionary"
   ]
  },
  {
   "cell_type": "code",
   "execution_count": 285,
   "metadata": {
    "tags": []
   },
   "outputs": [],
   "source": [
    "def flip_dict(d):\n",
    "    \"\"\"Swap the keys and values in a dictionary, where duplicated values map to a list of keys\n",
    "    The easiest way to solve this problem is by looping over the keys and values\n",
    "    of the dictionary using `.items()`. If the value hasn't been seen before, we need\n",
    "    to set some reasonable default value in our dictionary - in this case, a list to\n",
    "    store the associated keys. Then, we can append (in-place!) our key to the list\n",
    "    of keys associated to this value.\n",
    "    It's possible to write this update step in one line using the default of `.get()`\n",
    "        out[value] = out.get(value, []).append(key)\n",
    "    However, I don't think that looks nearly as readable.\n",
    "    Note: there is a tool in the `collections` module from the standard library\n",
    "    called `defaultdict` which exports this functionality. You provide it a factory\n",
    "    method for creating default values in the dictionary (in this case, a list.)\n",
    "    \"\"\"\n",
    "    #################### TODO ####################\n",
    "    from collections import defaultdict\n",
    "    \n",
    "    out = defaultdict(list)\n",
    "    \n",
    "    for key,value in d.items():\n",
    "        if out[value]==[]:\n",
    "            out[value]=[key]\n",
    "        else:\n",
    "            out[value].append(key)\n",
    "\n",
    "    return out\n",
    "    ##############################################"
   ]
  },
  {
   "cell_type": "code",
   "execution_count": 286,
   "metadata": {
    "tags": []
   },
   "outputs": [
    {
     "name": "stdout",
     "output_type": "stream",
     "text": [
      "defaultdict(<class 'list'>, {'red': ['apple'], 'yellow': ['lemon', 'banana'], 'green': ['mellon', 'kiwi']})\n"
     ]
    }
   ],
   "source": [
    "examples = {'apple': 'red', 'lemon': 'yellow', 'mellon': 'green', 'kiwi': 'green', 'banana': 'yellow'}\n",
    "print(flip_dict(examples))"
   ]
  },
  {
   "cell_type": "markdown",
   "metadata": {
    "tags": []
   },
   "source": [
    "## 4. Nested Functions and Closures"
   ]
  },
  {
   "cell_type": "code",
   "execution_count": 139,
   "metadata": {
    "tags": []
   },
   "outputs": [
    {
     "name": "stdout",
     "output_type": "stream",
     "text": [
      "<function outer.<locals>.inner at 0x0000020ED30C05E0>\n",
      "<function outer.<locals>.inner at 0x0000020ED30C1260>\n"
     ]
    },
    {
     "data": {
      "text/plain": [
       "11"
      ]
     },
     "execution_count": 139,
     "metadata": {},
     "output_type": "execute_result"
    }
   ],
   "source": [
    "def outer():\n",
    "    def inner(a):\n",
    "        return a\n",
    "    return inner\n",
    "\n",
    "f = outer()\n",
    "print(f)  # <function outer.<locals>.inner at 0x1044b61e0>\n",
    "f(10)  # => 10\n",
    "f2 = outer()\n",
    "print(f2)  # <function outer.<locals>.inner at 0x1044b6268> (Different from above!)\n",
    "f2(11)  # => 11\n",
    "\n",
    "#################### TODO ####################\n",
    "# Print f and f2. Are they the same or not? and what does that mean?\n",
    "# Briefly explain this phenomenon.\n",
    "By defining one defined nested function as different f, f2, not only are the two functions different, but also the output value is different because different values are inputted.\n",
    "\n",
    "##############################################"
   ]
  },
  {
   "cell_type": "code",
   "execution_count": 10,
   "metadata": {
    "tags": []
   },
   "outputs": [],
   "source": [
    "def outer(l):\n",
    "    def inner(n):\n",
    "        return l * n\n",
    "    return inner\n",
    "\n",
    "l = [1, 2, 3]\n",
    "f = outer(l)\n",
    "print(f(3))  # => [1, 2, 3, 1, 2, 3, 1, 2, 3]\n",
    "l.append(4)\n",
    "print(f(3))  # => [1, 2, 3, 4, 1, 2, 3, 4, 1, 2, 3, 4]\n",
    "\n",
    "#################### TODO ####################\n",
    "# What's happening? Briefly explain the results, and the reason why this happens.\n",
    "'''A function that repeats l n times. If you put the value of l in outer and the value of f in inner function, it is entered.'''\n",
    "##############################################"
   ]
  },
  {
   "cell_type": "markdown",
   "metadata": {
    "tags": []
   },
   "source": [
    "## 5. Functions"
   ]
  },
  {
   "cell_type": "code",
   "execution_count": 143,
   "metadata": {
    "tags": []
   },
   "outputs": [],
   "source": [
    "def all_together(x, y, z=1, *nums, indent=True, spaces=4, **options):\n",
    "    \"\"\"Explore the mechanics of calling a function with a combination of all\n",
    "    the parameter types we've talked about. \n",
    "    # Call function all_together with proper arguments so that you obtain the following results.\n",
    "    \n",
    "    # Example 1.\n",
    "    # all_together()\n",
    "    # Invalid - TypeError: all_together() missing 2 required positional arguments: 'x' and 'y'\n",
    "    \n",
    "    # Example 2.\n",
    "    # all_together(2)\n",
    "    # Invalid - TypeError: all_together() missing 1 required positional argument: 'y'\n",
    "\n",
    "    # Example 3. \n",
    "    # all_together(indent=True, 3, 4, 5)\n",
    "    # Invalid - SyntaxError: non-keyword arg after keyword arg\n",
    "    \n",
    "    # Example 4.\n",
    "    # all_together(**{'indent': False}, scope='maximum')\n",
    "    # Invalid - TypeError: all_together() missing 2 required positional arguments: 'x' and 'y'\n",
    "    \n",
    "    # Example 5.\n",
    "    all_together(*range(10), **dict(x=0, y=1))\n",
    "    # Invalid - TypeError: got multiple values for 'x'\n",
    "    \n",
    "    # Example 6.\n",
    "    all_together(8, 9, 10, *[2, 4, 6], x=7, spaces=0, **{'a':5, 'b':'x'})\n",
    "    # Invalid - TypeError: got multiple values for 'x'\n",
    "    \n",
    "    # Exercises\n",
    "    # 1. Your function call\n",
    "      ==> x:  2 , y:  5 , z:  7\n",
    "      ==> nums:  (8,) , indent:  False , spaces:  4 , options:  {}\n",
    "\n",
    "    # 2. Your function call\n",
    "     ==> x:  2 , y:  5 , z:  7\n",
    "     ==> nums:  (6,) , indent:  None , spaces:  4 , options:  {}\n",
    "    \n",
    "    # 3. Your function call\n",
    "      ==> x:  {'x': 0, 'y': 1} , y:  0 , z:  1\n",
    "      ==> nums:  (2, 3, 4, 5, 6, 7, 8, 9) , indent:  True , spaces:  4 , options:  {}\n",
    "    \n",
    "    # 4. Your function call    \n",
    "      ==> x:  [1, 2] , y:  {3: 4} , z:  1\n",
    "      ==> nums:  () , indent:  True , spaces:  4 , options:  {}\n",
    "    \n",
    "    # 5. Your function call  \n",
    "      ==> x:  8 , y:  9 , z:  10\n",
    "      ==> nums:  (2, 4, 6) , indent:  True , spaces:  0 , options:  {'a': [4, 5], 'b': 'x'}\n",
    "    \n",
    "    # 6. Your function call\n",
    "      ==> x:  8 , y:  9 , z:  2\n",
    "      ==> nums:  (4, 6, 'z') , indent:  True , spaces: 0 , options:  {'a': [4, 5], 'b': 'x'} \n",
    "    \"\"\"\n",
    "    print(\"x:\", x)\n",
    "    print(\"y:\", y)\n",
    "    print(\"z:\", z)\n",
    "    print(\"nums:\", nums)\n",
    "    print(\"indent:\", indent)\n",
    "    print(\"spaces:\", spaces)\n",
    "    print(\"options:\", options)"
   ]
  },
  {
   "cell_type": "code",
   "execution_count": null,
   "metadata": {},
   "outputs": [],
   "source": []
  },
  {
   "cell_type": "code",
   "execution_count": 148,
   "metadata": {
    "tags": []
   },
   "outputs": [
    {
     "name": "stdout",
     "output_type": "stream",
     "text": [
      "x: 2\n",
      "y: 5\n",
      "z: 7\n",
      "nums: (8,)\n",
      "indent: False\n",
      "spaces: 4\n",
      "options: {}\n",
      "x: 2\n",
      "y: 5\n",
      "z: 7\n",
      "nums: (6,)\n",
      "indent: None\n",
      "spaces: 4\n",
      "options: {}\n",
      "x: {'x': 0, 'y': 1}\n",
      "y: 0\n",
      "z: 1\n",
      "nums: (2, 3, 4, 5, 6, 7, 8, 9)\n",
      "indent: True\n",
      "spaces: 4\n",
      "options: {}\n",
      "x: [1, 2]\n",
      "y: {3: 4}\n",
      "z: 1\n",
      "nums: ()\n",
      "indent: True\n",
      "spaces: 4\n",
      "options: {}\n",
      "x: 8\n",
      "y: 9\n",
      "z: 10\n",
      "nums: (2, 4, 6)\n",
      "indent: True\n",
      "spaces: 0\n",
      "options: {'a': [4, 5], 'b': 'x'}\n",
      "x: 8\n",
      "y: 9\n",
      "z: 2\n",
      "nums: (4, 6, 'z')\n",
      "indent: True\n",
      "spaces: 0\n",
      "options: {'a': [4, 5], 'b': 'x'}\n"
     ]
    }
   ],
   "source": [
    "#################### TODO ####################\n",
    "all_together(2,5,7,8,indent=False,spaces=4)\n",
    "all_together(2,5,7,6,indent=None,spaces=4)\n",
    "all_together({'x': 0, 'y': 1},0,1,2, 3, 4, 5, 6, 7, 8, 9,indent=True,spaces=4)\n",
    "all_together([1, 2],{3: 4},1,indent=True,spaces=4)\n",
    "all_together(8,9,10,2, 4, 6,indent=True,spaces=0, a=[4, 5], b='x')\n",
    "all_together(8,9,2, 4, 6, 'z',indent=True,spaces=0, a=[4, 5], b='x')\n",
    "\n",
    "##############################################"
   ]
  },
  {
   "cell_type": "markdown",
   "metadata": {
    "tags": []
   },
   "source": [
    "## 6. Counter"
   ]
  },
  {
   "cell_type": "code",
   "execution_count": 150,
   "metadata": {},
   "outputs": [],
   "source": [
    "import pandas as pd\n",
    "station_df = pd.read_csv('cta_daily_station_totals.csv')\n",
    "stations = station_df['stationname'].values.tolist()"
   ]
  },
  {
   "cell_type": "code",
   "execution_count": 151,
   "metadata": {
    "tags": []
   },
   "outputs": [],
   "source": [
    "# Import the Counter object from collections module\n",
    "from collections import Counter"
   ]
  },
  {
   "cell_type": "code",
   "execution_count": 152,
   "metadata": {
    "tags": []
   },
   "outputs": [
    {
     "name": "stdout",
     "output_type": "stream",
     "text": [
      "['blue', 'blue', 'blue', 'red', 'red', 'green']\n",
      "['H', 'e', 'l', 'l', 'o', 'o', ' ', 'P', 'y', 't', 'h', 'n']\n",
      "[' ', 'H', 'P', 'e', 'h', 'l', 'l', 'n', 'o', 'o', 't', 'y']\n"
     ]
    }
   ],
   "source": [
    "c1  = Counter({'blue': 3, 'red': 2, 'green': 1})\n",
    "## elements(): Return an iterator over elements repeating each as many times as its count\n",
    "print(list(c1.elements()))\n",
    "\n",
    "c2 = Counter(\"Hello Python\")\n",
    "\n",
    "# Print out the element of c2\n",
    "print(list(c2.elements()))\n",
    "\n",
    "# Print out the sorted element of c2\n",
    "print(sorted(c2.elements()))"
   ]
  },
  {
   "cell_type": "code",
   "execution_count": 162,
   "metadata": {
    "tags": []
   },
   "outputs": [
    {
     "name": "stdout",
     "output_type": "stream",
     "text": [
      "['Austin-Forest Park', 'Austin-Forest Park', 'Austin-Forest Park', 'Austin-Forest Park', 'Austin-Forest Park', 'Austin-Forest Park', 'Austin-Forest Park', 'Austin-Forest Park', 'Austin-Forest Park', 'Austin-Forest Park']\n",
      "Counter({'Austin-Forest Park': 700, 'Harlem-Lake': 700, 'Pulaski-Lake': 700, 'Quincy/Wells': 700, 'Davis': 700, \"Belmont-O'Hare\": 700, 'Jackson/Dearborn': 700, 'Sheridan': 700, 'Damen-Brown': 700, 'Morse': 700, '35th/Archer': 700, '51st': 700, 'Dempster-Skokie': 700, 'Pulaski-Cermak': 700, 'LaSalle/Van Buren': 700, 'Ashland-Lake': 700, 'Oak Park-Forest Park': 700, 'Sox-35th-Dan Ryan': 700, 'Randolph/Wabash': 700, 'Damen-Cermak': 700, 'Western-Forest Park': 700, 'Cumberland': 700, '79th': 700, 'Kedzie-Homan-Forest Park': 700, 'State/Lake': 700, 'Main': 700, 'Central-Lake': 700, 'Ashland/63rd': 700, 'Indiana': 700, 'Western-Orange': 700, 'Division/Milwaukee': 700, 'Grand/State': 700, 'Berwyn': 700, 'UIC-Halsted': 700, 'Southport': 700, 'Washington/Dearborn': 700, 'Clark/Lake': 700, 'Forest Park': 700, 'Noyes': 700, 'Cicero-Cermak': 700, 'Clinton-Forest Park': 700, 'California-Cermak': 700, '95th/Dan Ryan': 700, 'Merchandise Mart': 700, 'Racine': 700, 'Cicero-Lake': 700, 'Grand/Milwaukee': 700, 'Garfield-South Elevated': 700, 'Foster': 700, 'Diversey': 700, 'Wilson': 700, \"Irving Park-O'Hare\": 700, 'Jackson/State': 700, 'California/Milwaukee': 700, '54th/Cermak': 700, 'Damen/Milwaukee': 700, 'Kostner': 700, 'Ridgeland': 700, 'Clark/Division': 700, 'Madison/Wabash': 700, 'North/Clybourn': 700, 'Armitage': 700, 'Western/Milwaukee': 700, 'Adams/Wabash': 700, 'Dempster': 700, 'Laramie': 700, 'Chicago/Franklin': 700, 'East 63rd-Cottage Grove': 700, 'Washington/Wells': 700, 'Western-Cermak': 700, \"Harlem-O'Hare\": 700, 'Granville': 700, 'Lawrence': 700, 'Central Park': 700, 'Monroe/Dearborn': 700, 'Sedgwick': 700, 'Medical Center': 700, 'Rosemont': 700, '18th': 700, 'South Boulevard': 700, 'Library': 700, 'Francisco': 700, 'Thorndale': 700, \"O'Hare Airport\": 700, 'Howard': 700, '63rd-Dan Ryan': 700, 'Pulaski-Forest Park': 700, 'Midway Airport': 700, 'Halsted/63rd': 700, 'Pulaski-Orange': 700, 'Cicero-Forest Park': 700, 'Harlem-Forest Park': 700, '69th': 700, 'Cermak-Chinatown': 700, 'Rockwell': 700, 'Logan Square': 700, 'Polk': 700, 'Kedzie-Cermak': 700, 'Linden': 700, 'Ashland-Orange': 700, 'Kedzie-Lake': 700, '47th-South Elevated': 700, 'Monroe/State': 700, '35-Bronzeville-IIT': 700, 'Halsted-Orange': 700, 'King Drive': 700, 'Kedzie-Midway': 700, 'Clinton-Lake': 700, 'Garfield-Dan Ryan': 700, 'Kedzie-Brown': 700, 'Jarvis': 700, 'Argyle': 700, 'Wellington': 700, 'Fullerton': 700, '47th-Dan Ryan': 700, \"Addison-O'Hare\": 700, 'Central-Evanston': 700, 'Austin-Lake': 700, '43rd': 700, 'Jefferson Park': 700, 'Kimball': 700, 'Loyola': 700, 'Paulina': 700, 'Belmont-North Main': 700, \"Montrose-O'Hare\": 700, 'LaSalle': 700, 'Oak Park-Lake': 700, 'California-Lake': 700, 'Bryn Mawr': 700, 'Roosevelt': 700, 'Chicago/Milwaukee': 700, 'Addison-North Main': 700, '87th': 700, 'Addison-Brown': 700, 'Chicago/State': 700, 'Irving Park-Brown': 700, 'Western-Brown': 700, 'Harrison': 700, 'Montrose-Brown': 700, 'Morgan-Lake': 700, 'Lake/State': 700, 'Conservatory': 700, 'Oakton-Skokie': 700, 'Cermak-McCormick Place': 700})\n",
      "[('Austin-Forest Park', 700), ('Harlem-Lake', 700), ('Pulaski-Lake', 700), ('Quincy/Wells', 700), ('Davis', 700)]\n"
     ]
    }
   ],
   "source": [
    "# 1. Print the first ten items from the stations list\n",
    "# 2. Create a Counter of the stations list: station_count\n",
    "# 3. Print the station_count\n",
    "# 4. Find the 5 most common elements from station_count\n",
    "#################### TODO ####################\n",
    "print(stations[:10])\n",
    "\n",
    "station_count=Counter(stations)\n",
    "\n",
    "print(station_count)\n",
    "\n",
    "a=sorted(station_count.items(),key=lambda x:x[1])\n",
    "print(a[:5])\n",
    "##############################################"
   ]
  },
  {
   "cell_type": "markdown",
   "metadata": {
    "id": "eiURJ32KH76-"
   },
   "source": [
    "## NOTE"
   ]
  },
  {
   "cell_type": "markdown",
   "metadata": {
    "id": "0fJ6JjoyH76-"
   },
   "source": [
    "* **Please do not change the names (`P3`, `P4`, `P5`) of functions and their parameters.**\n",
    "* **Please keep the return type.**\n",
    "* **You can create new functions and classes as long as functions `P3`, `P4`, `P5` corretly `return`.**"
   ]
  },
  {
   "cell_type": "markdown",
   "metadata": {},
   "source": [
    "### Problem 1. Writing a File\n",
    "\n",
    "**You are asked to write a function that creates and writes a line of string into a .txt file named 'P3.txt'.**  \n",
    "\n",
    "Your code must take a string as input.  \n",
    "Upon executing the code, a .txt file named 'P3.txt' must be created.  \n",
    "And the file must contain the string.  "
   ]
  },
  {
   "cell_type": "code",
   "execution_count": 167,
   "metadata": {},
   "outputs": [],
   "source": [
    "def P3(line: str):\n",
    "    # Do not modify the code under\n",
    "    from os.path import exists\n",
    "    ##############################\n",
    "    #TODO. Write your code here\n",
    "    ##############################\n",
    "    \n",
    "    f = open(\"P3.txt\",\"w\")\n",
    "    f.write(line)\n",
    "    \n",
    "    ##############################    \n",
    "    #Do not modify the code below\n",
    "    ##############################\n",
    "    file_exists = exists('P3.txt')\n",
    "    if file_exists:\n",
    "        print(\"Saved Successfully\")\n",
    "    else:\n",
    "        print(\"File does not exist\")\n",
    "    return None"
   ]
  },
  {
   "cell_type": "code",
   "execution_count": 166,
   "metadata": {
    "scrolled": true
   },
   "outputs": [
    {
     "name": "stdout",
     "output_type": "stream",
     "text": [
      "Saved Successfully\n"
     ]
    }
   ],
   "source": [
    "#Do not modify the code under\n",
    "P3(\"Data Science is Fun.\")"
   ]
  },
  {
   "cell_type": "markdown",
   "metadata": {},
   "source": [
    "## Problem 2. Read and Write \n",
    "\n",
    "![3file.001.jpeg](./3file.001.jpeg)\n",
    "\n",
    "#### You are asked to\n",
    "#### 1) Read a text file named 'P4_input.txt'.\n",
    "#### 2) Add the input string to the end of the saved text, \n",
    "#### 3) Write the text into a file named 'P4_output.txt'.\n",
    "\n",
    "\n",
    "\n",
    "\n",
    "* Your code must take 1 string as input.  \n",
    "* P4_input.txt consists of 4 sentences of text, each sentence ends with a full stop punctuation mark ('.') \n",
    "* You are recommended to use the 'readlines' method \n",
    "* Your function must create a file named 'P4_output.txt'\n",
    "* The function will automatically print the P4_output.txt **IF** it exists."
   ]
  },
  {
   "cell_type": "code",
   "execution_count": 223,
   "metadata": {},
   "outputs": [],
   "source": [
    "def P4(line: str):\n",
    "\n",
    "    '''\n",
    "    HINT: \n",
    "    1) you must read P4_input.txt and save the contents as a 'list of strings'\n",
    "    P4_input consists of 4 sentences(Each sentence ends with '.')\n",
    "     * You are recommended to use the 'readlines' method\n",
    "    2) then append the input string 'line' to the list of strings.\n",
    "    3) Finally, write the strings to a file named P4_output.txt. \n",
    "    ''' \n",
    "    #####################\n",
    "    #Write your code here\n",
    "    #####################\n",
    "    \n",
    "    f=open(\"P4_input.txt\",\"r\")\n",
    "    read=f.readlines()\n",
    "    \n",
    "    f=open(\"P4_output.txt\",\"w\")\n",
    "    for line in read:\n",
    "        f.write(line)\n",
    "    f.close()\n",
    "    \n",
    "    \n",
    "    ##############################    \n",
    "    #Do not modify The code below.\n",
    "    ##############################\n",
    "    from os.path import exists\n",
    "\n",
    "    file_exists = exists('P4_output.txt')\n",
    "    if file_exists:\n",
    "        print(\"Saved Successfully\")\n",
    "        print(\"The saved lines are---------------- \")\n",
    "        with open('P4_output.txt','r') as output:\n",
    "            readlines= output.read()\n",
    "            print(readlines)\n",
    "    else:\n",
    "        print(\"File does not exist.. Something is wrong.\")\n",
    "    return None"
   ]
  },
  {
   "cell_type": "code",
   "execution_count": 224,
   "metadata": {},
   "outputs": [
    {
     "name": "stdout",
     "output_type": "stream",
     "text": [
      "Saved Successfully\n",
      "The saved lines are---------------- \n",
      "Machine learning (ML) is the study of computer algorithms that can improve automatically through experience and by the use of data.\n",
      "It is seen as a part of artificial intelligence.\n",
      "Machine learning algorithms build a model based on sample data, known as training data, in order to make predictions or decisions without being explicitly programmed to do so.\n",
      "Machine learning algorithms are used in a wide variety of applications, such as in medicine, email filtering, speech recognition, and computer vision, where it is difficult or unfeasible to develop conventional algorithms to perform the needed tasks.\n",
      "\n"
     ]
    }
   ],
   "source": [
    "#Do not modify This\n",
    "P4('What are your thoughts on Machine Learning?\\n')"
   ]
  },
  {
   "cell_type": "markdown",
   "metadata": {},
   "source": [
    "## Problem 3. Reading Three Little Pigs.\n",
    "\n",
    "**You are asked to read three separate text files of 'Three Little Pigs' and combine it as a single textfile**\n",
    "\n",
    "![3file.002.jpeg](./3file.002.jpeg)\n",
    "* This function receives three filepaths as input.\n",
    "* Each filepath leads to a text file that contains a sentence from the 'Three Little Pigs'\n",
    "* Your task is to combine the three separate textfiles into a single file 'P5_output.txt' that contains Three Sentences.\n",
    "    \n",
    "\n",
    "* It is recommended that you use a single **'with'** statement**"
   ]
  },
  {
   "cell_type": "code",
   "execution_count": 263,
   "metadata": {},
   "outputs": [],
   "source": [
    "def P5(filepath1:str, filepath2:str, filepath3:str)-> None: \n",
    "    '''\n",
    "    This function receives three filepaths as input.\n",
    "    Each filepath leads to a text file that contains a sentence from the 'Three Little Pigs'\n",
    "    Your task is to combine the three separate textfiles into a single file that\n",
    "    contains Three Sentences.\n",
    "    \n",
    "    It is recommended that you use a single with statement\n",
    "    '''\n",
    "    #####################\n",
    "    #Write Your Code Here\n",
    "    #####################\n",
    "    with open(\"P5_input_1.txt\",\"r\") as f:\n",
    "        a=f.read()\n",
    "    with open(\"P5_input_2.txt\",\"r\") as f:\n",
    "        b=f.read()\n",
    "    with open(\"P5_input_3.txt\",\"r\") as f:\n",
    "        c=f.read()\n",
    "\n",
    "    with open(\"P5_output.txt\",\"w\") as f:\n",
    "        for line in a,b,c:\n",
    "            f.write(line)\n",
    "            f.write('\\n')\n",
    "\n",
    "    \n",
    "    ##############################    \n",
    "    #Do not modify The code below.\n",
    "    ##############################\n",
    "    from os.path import exists\n",
    "\n",
    "    file_exists = exists('P5_output.txt')\n",
    "    if file_exists:\n",
    "        print(\"Saved Successfully\")\n",
    "        with open('P5_output.txt') as f:\n",
    "            readlines= f.readlines()\n",
    "            print(\"The file contains {l} lines\".format(l=len(readlines)))\n",
    "    else:\n",
    "        print(\"File does not exist.. Something is wrong.\")\n",
    "    return None\n",
    "        "
   ]
  },
  {
   "cell_type": "code",
   "execution_count": 264,
   "metadata": {
    "scrolled": true,
    "tags": []
   },
   "outputs": [
    {
     "name": "stdout",
     "output_type": "stream",
     "text": [
      "Saved Successfully\n",
      "The file contains 3 lines\n"
     ]
    }
   ],
   "source": [
    "#Do not modify This\n",
    "P5(filepath1= \"./P5_input_1.txt\", filepath2= \"./P5_input_2.txt\", filepath3= \"./P5_input_3.txt\")"
   ]
  },
  {
   "cell_type": "code",
   "execution_count": null,
   "metadata": {},
   "outputs": [],
   "source": []
  }
 ],
 "metadata": {
  "kernelspec": {
   "display_name": "Python 3 (ipykernel)",
   "language": "python",
   "name": "python3"
  },
  "language_info": {
   "codemirror_mode": {
    "name": "ipython",
    "version": 3
   },
   "file_extension": ".py",
   "mimetype": "text/x-python",
   "name": "python",
   "nbconvert_exporter": "python",
   "pygments_lexer": "ipython3",
   "version": "3.11.4"
  }
 },
 "nbformat": 4,
 "nbformat_minor": 4
}
